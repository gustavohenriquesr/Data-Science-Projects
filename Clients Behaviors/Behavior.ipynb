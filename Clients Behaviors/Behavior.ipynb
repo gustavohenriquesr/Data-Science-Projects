{
  "nbformat": 4,
  "nbformat_minor": 0,
  "metadata": {
    "colab": {
      "name": "Behavior.ipynb",
      "provenance": [],
      "mount_file_id": "1im-rHRFHMp4glZCIBwxYXfvidgFTDrFk",
      "authorship_tag": "ABX9TyPithZ+ACHCVNDxJizjhtrF"
    },
    "kernelspec": {
      "name": "python3",
      "display_name": "Python 3"
    },
    "language_info": {
      "name": "python"
    }
  },
  "cells": [
    {
      "cell_type": "code",
      "metadata": {
        "colab": {
          "base_uri": "https://localhost:8080/"
        },
        "id": "8fkVuweqejh8",
        "outputId": "ecf23fbb-00f6-4d99-a743-b0e24163acdd"
      },
      "source": [
        "# Python version\n",
        "from platform import python_version\n",
        "print(f'Python version used in this notebook: {python_version()}')"
      ],
      "execution_count": null,
      "outputs": [
        {
          "output_type": "stream",
          "name": "stdout",
          "text": [
            "Python version used in this notebook: 3.7.12\n"
          ]
        }
      ]
    },
    {
      "cell_type": "markdown",
      "metadata": {
        "id": "hdlsVolr12Ez"
      },
      "source": [
        "# **Análise do Comportamento de Compra de Consumidores**\n",
        "\n",
        "Análise dos dados de compras de um web site. Os dados estão no formato JSON e disponíveis junto com este notebook.\n",
        "\n",
        "No site, cada usuário efetua login usando sua conta pessoal e pode adquirir produtos à medida que navega pela lista de produtos oferecidos. Cada produto possui um valor de venda. Dados de idade e sexo de cada usuário foram coletados e estão fornecidos no arquivo JSON.\n",
        "\n",
        "Esse trabalho visa realizar uma **análise de comportamento de compra** dos consumidores, um tipo de atividade comum realizado por Cientistas de Dados e o resultado deste trabalho pode ser usado, por exemplo, para alimentar um modelo de Machine Learning e fazer previsões sobre comportamentos futuros.\n",
        "\n",
        "Os itens a serem analisados são os seguintes:\n",
        "\n",
        "<b>Contagem de Consumidores</b>\n",
        "\n",
        "* Número total de consumidores\n",
        "\n",
        "**Análise Geral de Compras**\n",
        "\n",
        "* Número de itens exclusivos\n",
        "* Preço médio de compra\n",
        "* Número total de compras\n",
        "* Rendimento total\n",
        "\n",
        "**Informações Demográficas Por Gênero**\n",
        "\n",
        "* Porcentagem e contagem de compradores masculinos\n",
        "* Porcentagem e contagem de compradores do sexo feminino\n",
        "* Porcentagem e contagem de outros / não divulgados\n",
        "\n",
        "**Análise de Compras Por Gênero**\n",
        "\n",
        "* Número de compras\n",
        "* Preço médio de compra\n",
        "* Valor Total de Compra\n",
        "* Compras for faixa etária\n",
        "\n",
        "**Identificar os 5 principais compradores pelo valor total de compra, listando em uma tabela:**\n",
        "\n",
        "* Login\n",
        "* Número de compras\n",
        "* Preço médio de compra\n",
        "* Valor Total de Compra\n",
        "* Itens mais populares\n",
        "\n",
        "**Identificar os 5 itens mais populares por contagem de compras, listando em uma tabela:**\n",
        "\n",
        "* ID do item\n",
        "* Nome do item\n",
        "* Número de compras\n",
        "* Preço do item\n",
        "* Valor Total de Compra\n",
        "* Itens mais lucrativos\n",
        "\n",
        "**Identificar os 5 itens mais lucrativos pelo valor total de compra, listando em uma tabela:**\n",
        "\n",
        "* ID do item\n",
        "* Nome do item\n",
        "* Número de compras\n",
        "* Preço do item\n",
        "* Valor Total de Compra\n",
        "\n",
        "**Observações:**\n",
        "Alguma seções podem depender dos resultados obtidos nas seções anteriores"
      ]
    },
    {
      "cell_type": "code",
      "metadata": {
        "id": "ocfep31R1y9Q"
      },
      "source": [
        "# Imports\n",
        "import pandas as pd\n",
        "import numpy as np\n",
        "import matplotlib.pyplot as plt\n",
        "from matplotlib import cm\n",
        "import seaborn as sns"
      ],
      "execution_count": null,
      "outputs": []
    },
    {
      "cell_type": "code",
      "metadata": {
        "colab": {
          "base_uri": "https://localhost:8080/"
        },
        "id": "QXJlwOh1MXoe",
        "outputId": "64112b3a-e958-43ba-8222-df607d655a88"
      },
      "source": [
        "print(pd.__version__)\n",
        "print(np.__version__)\n",
        "print(sns.__version__)"
      ],
      "execution_count": null,
      "outputs": [
        {
          "output_type": "stream",
          "name": "stdout",
          "text": [
            "1.1.5\n",
            "1.19.5\n",
            "0.11.2\n"
          ]
        }
      ]
    },
    {
      "cell_type": "code",
      "metadata": {
        "id": "CnNq-mKQ3EOE",
        "colab": {
          "base_uri": "https://localhost:8080/",
          "height": 204
        },
        "outputId": "bb832ff5-2815-417d-f497-03163b809b05"
      },
      "source": [
        "# Carrega o arquivo\n",
        "load_file = \"/content/drive/MyDrive/DATA/G_Colab/dados_compras.json\"\n",
        "purchase_file = pd.read_json(load_file, orient = \"records\")\n",
        "purchase_file.head() # display"
      ],
      "execution_count": null,
      "outputs": [
        {
          "output_type": "execute_result",
          "data": {
            "text/html": [
              "<div>\n",
              "<style scoped>\n",
              "    .dataframe tbody tr th:only-of-type {\n",
              "        vertical-align: middle;\n",
              "    }\n",
              "\n",
              "    .dataframe tbody tr th {\n",
              "        vertical-align: top;\n",
              "    }\n",
              "\n",
              "    .dataframe thead th {\n",
              "        text-align: right;\n",
              "    }\n",
              "</style>\n",
              "<table border=\"1\" class=\"dataframe\">\n",
              "  <thead>\n",
              "    <tr style=\"text-align: right;\">\n",
              "      <th></th>\n",
              "      <th>Login</th>\n",
              "      <th>Idade</th>\n",
              "      <th>Sexo</th>\n",
              "      <th>Item ID</th>\n",
              "      <th>Nome do Item</th>\n",
              "      <th>Valor</th>\n",
              "    </tr>\n",
              "  </thead>\n",
              "  <tbody>\n",
              "    <tr>\n",
              "      <th>0</th>\n",
              "      <td>Aelalis34</td>\n",
              "      <td>38</td>\n",
              "      <td>Masculino</td>\n",
              "      <td>165</td>\n",
              "      <td>Bone Crushing Silver Skewer</td>\n",
              "      <td>3.37</td>\n",
              "    </tr>\n",
              "    <tr>\n",
              "      <th>1</th>\n",
              "      <td>Eolo46</td>\n",
              "      <td>21</td>\n",
              "      <td>Masculino</td>\n",
              "      <td>119</td>\n",
              "      <td>Stormbringer, Dark Blade of Ending Misery</td>\n",
              "      <td>2.32</td>\n",
              "    </tr>\n",
              "    <tr>\n",
              "      <th>2</th>\n",
              "      <td>Assastnya25</td>\n",
              "      <td>34</td>\n",
              "      <td>Masculino</td>\n",
              "      <td>174</td>\n",
              "      <td>Primitive Blade</td>\n",
              "      <td>2.46</td>\n",
              "    </tr>\n",
              "    <tr>\n",
              "      <th>3</th>\n",
              "      <td>Pheusrical25</td>\n",
              "      <td>21</td>\n",
              "      <td>Masculino</td>\n",
              "      <td>92</td>\n",
              "      <td>Final Critic</td>\n",
              "      <td>1.36</td>\n",
              "    </tr>\n",
              "    <tr>\n",
              "      <th>4</th>\n",
              "      <td>Aela59</td>\n",
              "      <td>23</td>\n",
              "      <td>Masculino</td>\n",
              "      <td>63</td>\n",
              "      <td>Stormfury Mace</td>\n",
              "      <td>1.27</td>\n",
              "    </tr>\n",
              "  </tbody>\n",
              "</table>\n",
              "</div>"
            ],
            "text/plain": [
              "          Login  Idade  ...                               Nome do Item  Valor\n",
              "0     Aelalis34     38  ...                Bone Crushing Silver Skewer   3.37\n",
              "1        Eolo46     21  ...  Stormbringer, Dark Blade of Ending Misery   2.32\n",
              "2   Assastnya25     34  ...                            Primitive Blade   2.46\n",
              "3  Pheusrical25     21  ...                               Final Critic   1.36\n",
              "4        Aela59     23  ...                             Stormfury Mace   1.27\n",
              "\n",
              "[5 rows x 6 columns]"
            ]
          },
          "metadata": {},
          "execution_count": 3
        }
      ]
    },
    {
      "cell_type": "markdown",
      "metadata": {
        "id": "sBEq2B5VkRWi"
      },
      "source": [
        "# Informações Sobre os Consumidores"
      ]
    },
    {
      "cell_type": "code",
      "metadata": {
        "colab": {
          "base_uri": "https://localhost:8080/"
        },
        "id": "iXAUuQuMhOvi",
        "outputId": "ed88cdf6-366d-4cc6-e475-ed942707ba18"
      },
      "source": [
        "# Contagem de consumidores\n",
        "num_total = len(set(purchase_file['Login']))\n",
        "print(f\"Número total de consumidores: {num_total}\")"
      ],
      "execution_count": null,
      "outputs": [
        {
          "output_type": "stream",
          "name": "stdout",
          "text": [
            "Número total de consumidores: 573\n"
          ]
        }
      ]
    },
    {
      "cell_type": "code",
      "metadata": {
        "colab": {
          "base_uri": "https://localhost:8080/",
          "height": 419
        },
        "id": "utj5w4k7KFUd",
        "outputId": "2394a391-b289-4664-df39-53a16462971a"
      },
      "source": [
        "# Informações gerais de cada consumidor\n",
        "\n",
        "# Adicionando as colunas referentes ao login, ao sexo e à quantidade de compras por consumidor\n",
        "login = purchase_file[[\"Login\", \"Sexo\"]].value_counts(ascending=True).to_frame()\n",
        "login = login.rename_axis(index={'Login': 'Login', 'Sexo':'Sexo'}, axis='columns').reset_index()\n",
        "login['Quantidade de compras'] = login[0]\n",
        "login = login.drop([0], axis=1).sort_values(by='Login')\n",
        "\n",
        "# Adicionando a coluna referente ao valor total gasto por consumidor\n",
        "login_value = purchase_file[['Login', 'Valor']]\n",
        "login_value = login_value.groupby('Login').sum().reset_index()\n",
        "\n",
        "# Adicionando a coluna referente à idade de cada consumidor\n",
        "ages = purchase_file[['Login', 'Idade']].drop_duplicates(subset='Login')\n",
        "\n",
        "login = login.join(login_value.set_index('Login'), on='Login')\n",
        "login = login.join(ages.set_index('Login'), on = 'Login')\n",
        "\n",
        "login = login.iloc[:, [0, 1, 4, 2, 3]] # reorganizando ordem das colunas\n",
        "login\n",
        "\n",
        "# Obs: A coluna 'valor' é referente ao valor total gasto em compras pelo consumidor"
      ],
      "execution_count": null,
      "outputs": [
        {
          "output_type": "execute_result",
          "data": {
            "text/html": [
              "<div>\n",
              "<style scoped>\n",
              "    .dataframe tbody tr th:only-of-type {\n",
              "        vertical-align: middle;\n",
              "    }\n",
              "\n",
              "    .dataframe tbody tr th {\n",
              "        vertical-align: top;\n",
              "    }\n",
              "\n",
              "    .dataframe thead th {\n",
              "        text-align: right;\n",
              "    }\n",
              "</style>\n",
              "<table border=\"1\" class=\"dataframe\">\n",
              "  <thead>\n",
              "    <tr style=\"text-align: right;\">\n",
              "      <th></th>\n",
              "      <th>Login</th>\n",
              "      <th>Sexo</th>\n",
              "      <th>Idade</th>\n",
              "      <th>Quantidade de compras</th>\n",
              "      <th>Valor</th>\n",
              "    </tr>\n",
              "  </thead>\n",
              "  <tbody>\n",
              "    <tr>\n",
              "      <th>0</th>\n",
              "      <td>Adairialis76</td>\n",
              "      <td>Masculino</td>\n",
              "      <td>20</td>\n",
              "      <td>1</td>\n",
              "      <td>2.46</td>\n",
              "    </tr>\n",
              "    <tr>\n",
              "      <th>548</th>\n",
              "      <td>Aduephos78</td>\n",
              "      <td>Masculino</td>\n",
              "      <td>37</td>\n",
              "      <td>3</td>\n",
              "      <td>6.70</td>\n",
              "    </tr>\n",
              "    <tr>\n",
              "      <th>545</th>\n",
              "      <td>Aeduera68</td>\n",
              "      <td>Masculino</td>\n",
              "      <td>26</td>\n",
              "      <td>3</td>\n",
              "      <td>5.80</td>\n",
              "    </tr>\n",
              "    <tr>\n",
              "      <th>320</th>\n",
              "      <td>Aela49</td>\n",
              "      <td>Masculino</td>\n",
              "      <td>25</td>\n",
              "      <td>1</td>\n",
              "      <td>2.46</td>\n",
              "    </tr>\n",
              "    <tr>\n",
              "      <th>319</th>\n",
              "      <td>Aela59</td>\n",
              "      <td>Masculino</td>\n",
              "      <td>23</td>\n",
              "      <td>1</td>\n",
              "      <td>1.27</td>\n",
              "    </tr>\n",
              "    <tr>\n",
              "      <th>...</th>\n",
              "      <td>...</td>\n",
              "      <td>...</td>\n",
              "      <td>...</td>\n",
              "      <td>...</td>\n",
              "      <td>...</td>\n",
              "    </tr>\n",
              "    <tr>\n",
              "      <th>152</th>\n",
              "      <td>Yasurra52</td>\n",
              "      <td>Feminino</td>\n",
              "      <td>22</td>\n",
              "      <td>1</td>\n",
              "      <td>3.14</td>\n",
              "    </tr>\n",
              "    <tr>\n",
              "      <th>443</th>\n",
              "      <td>Yathecal72</td>\n",
              "      <td>Masculino</td>\n",
              "      <td>32</td>\n",
              "      <td>2</td>\n",
              "      <td>7.77</td>\n",
              "    </tr>\n",
              "    <tr>\n",
              "      <th>151</th>\n",
              "      <td>Yathecal82</td>\n",
              "      <td>Masculino</td>\n",
              "      <td>23</td>\n",
              "      <td>1</td>\n",
              "      <td>2.41</td>\n",
              "    </tr>\n",
              "    <tr>\n",
              "      <th>424</th>\n",
              "      <td>Zhisrisu83</td>\n",
              "      <td>Masculino</td>\n",
              "      <td>17</td>\n",
              "      <td>2</td>\n",
              "      <td>2.46</td>\n",
              "    </tr>\n",
              "    <tr>\n",
              "      <th>239</th>\n",
              "      <td>Zontibe81</td>\n",
              "      <td>Masculino</td>\n",
              "      <td>20</td>\n",
              "      <td>1</td>\n",
              "      <td>3.71</td>\n",
              "    </tr>\n",
              "  </tbody>\n",
              "</table>\n",
              "<p>573 rows × 5 columns</p>\n",
              "</div>"
            ],
            "text/plain": [
              "            Login       Sexo  Idade  Quantidade de compras  Valor\n",
              "0    Adairialis76  Masculino     20                      1   2.46\n",
              "548    Aduephos78  Masculino     37                      3   6.70\n",
              "545     Aeduera68  Masculino     26                      3   5.80\n",
              "320        Aela49  Masculino     25                      1   2.46\n",
              "319        Aela59  Masculino     23                      1   1.27\n",
              "..            ...        ...    ...                    ...    ...\n",
              "152     Yasurra52   Feminino     22                      1   3.14\n",
              "443    Yathecal72  Masculino     32                      2   7.77\n",
              "151    Yathecal82  Masculino     23                      1   2.41\n",
              "424    Zhisrisu83  Masculino     17                      2   2.46\n",
              "239     Zontibe81  Masculino     20                      1   3.71\n",
              "\n",
              "[573 rows x 5 columns]"
            ]
          },
          "metadata": {},
          "execution_count": 5
        }
      ]
    },
    {
      "cell_type": "markdown",
      "metadata": {
        "id": "g6yMOdAZ8qNI"
      },
      "source": [
        "Obs: omitiu-se a célula de limpeza de dados pois não foi necessária"
      ]
    },
    {
      "cell_type": "code",
      "metadata": {
        "colab": {
          "base_uri": "https://localhost:8080/"
        },
        "id": "u6_diPvWnul6",
        "outputId": "54d3c8c4-90a0-424c-a677-1bf9105fb2da"
      },
      "source": [
        "# Média da idade dos consumidores:\n",
        "mean_age = np.mean(log['Idade'])\n",
        "\n",
        "# Mediana da idade dos consumidores:\n",
        "median_age = np.median(log['Idade'])\n",
        "\n",
        "print(f\"Média de idade dos consumidores: {round(mean_age, 1)}\")\n",
        "print(f\"Mediana de idade dos consumidores: {median_age}\")"
      ],
      "execution_count": null,
      "outputs": [
        {
          "output_type": "stream",
          "name": "stdout",
          "text": [
            "Média de idade dos consumidores: 22.6\n",
            "Mediana de idade dos consumidores: 22.0\n"
          ]
        }
      ]
    },
    {
      "cell_type": "code",
      "metadata": {
        "colab": {
          "base_uri": "https://localhost:8080/",
          "height": 204
        },
        "id": "l7pY6p58YjcC",
        "outputId": "6dd602a3-6d1e-4cea-a7ab-ca8adabe76a3"
      },
      "source": [
        "# Medindo a popularidade de acordo com a quantidade de compras realizadas pelo consumidor (top 5 somente)\n",
        "popular_consumers = purchase_file[['Login','Idade','Sexo']].value_counts().to_frame()\n",
        "popular_consumers = popular_consumers.reset_index().rename(columns={0:'Compras'}).head(5)\n",
        "popular_consumers"
      ],
      "execution_count": null,
      "outputs": [
        {
          "output_type": "execute_result",
          "data": {
            "text/html": [
              "<div>\n",
              "<style scoped>\n",
              "    .dataframe tbody tr th:only-of-type {\n",
              "        vertical-align: middle;\n",
              "    }\n",
              "\n",
              "    .dataframe tbody tr th {\n",
              "        vertical-align: top;\n",
              "    }\n",
              "\n",
              "    .dataframe thead th {\n",
              "        text-align: right;\n",
              "    }\n",
              "</style>\n",
              "<table border=\"1\" class=\"dataframe\">\n",
              "  <thead>\n",
              "    <tr style=\"text-align: right;\">\n",
              "      <th></th>\n",
              "      <th>Login</th>\n",
              "      <th>Idade</th>\n",
              "      <th>Sexo</th>\n",
              "      <th>Compras</th>\n",
              "    </tr>\n",
              "  </thead>\n",
              "  <tbody>\n",
              "    <tr>\n",
              "      <th>0</th>\n",
              "      <td>Undirrala66</td>\n",
              "      <td>29</td>\n",
              "      <td>Masculino</td>\n",
              "      <td>5</td>\n",
              "    </tr>\n",
              "    <tr>\n",
              "      <th>1</th>\n",
              "      <td>Hailaphos89</td>\n",
              "      <td>20</td>\n",
              "      <td>Masculino</td>\n",
              "      <td>4</td>\n",
              "    </tr>\n",
              "    <tr>\n",
              "      <th>2</th>\n",
              "      <td>Mindimnya67</td>\n",
              "      <td>39</td>\n",
              "      <td>Feminino</td>\n",
              "      <td>4</td>\n",
              "    </tr>\n",
              "    <tr>\n",
              "      <th>3</th>\n",
              "      <td>Qarwen67</td>\n",
              "      <td>11</td>\n",
              "      <td>Masculino</td>\n",
              "      <td>4</td>\n",
              "    </tr>\n",
              "    <tr>\n",
              "      <th>4</th>\n",
              "      <td>Sondastan54</td>\n",
              "      <td>31</td>\n",
              "      <td>Masculino</td>\n",
              "      <td>4</td>\n",
              "    </tr>\n",
              "  </tbody>\n",
              "</table>\n",
              "</div>"
            ],
            "text/plain": [
              "         Login  Idade       Sexo  Compras\n",
              "0  Undirrala66     29  Masculino        5\n",
              "1  Hailaphos89     20  Masculino        4\n",
              "2  Mindimnya67     39   Feminino        4\n",
              "3     Qarwen67     11  Masculino        4\n",
              "4  Sondastan54     31  Masculino        4"
            ]
          },
          "metadata": {},
          "execution_count": 46
        }
      ]
    },
    {
      "cell_type": "markdown",
      "metadata": {
        "id": "6a-Q0rSXhh87"
      },
      "source": [
        "# Análise Geral de Compras\n",
        "\n",
        "* Número de itens exclusivos\n",
        "* Preço médio de compra\n",
        "* Número total de compras\n",
        "* Rendimento total"
      ]
    },
    {
      "cell_type": "markdown",
      "metadata": {
        "id": "7GcZV3mZabbM"
      },
      "source": [
        "Contagem de itens"
      ]
    },
    {
      "cell_type": "code",
      "metadata": {
        "id": "SfNeLR7BhQPJ"
      },
      "source": [
        "# Contagem de itens\n",
        "count = purchase_file[\"Item ID\"].value_counts(ascending=True)\n",
        "count = count.rename_axis('Itens').reset_index(name = 'Quantidade')"
      ],
      "execution_count": null,
      "outputs": []
    },
    {
      "cell_type": "markdown",
      "metadata": {
        "id": "2hZZmHZ4ahbb"
      },
      "source": [
        "Número de itens exclusivos"
      ]
    },
    {
      "cell_type": "code",
      "metadata": {
        "colab": {
          "base_uri": "https://localhost:8080/"
        },
        "id": "93gdecuJzYly",
        "outputId": "4e72589a-3c22-44d9-e191-ad63eb458997"
      },
      "source": [
        "# itens que foram comprados uma única vez\n",
        "#exclusive_itens = count[count['Quantidade'] == 1]['Itens'].tolist()\n",
        "\n",
        "# Número de itens exclusivos\n",
        "print(f\"Número de itens exclusivos: {len(purchase_file['Item ID'].unique())}\")"
      ],
      "execution_count": null,
      "outputs": [
        {
          "output_type": "stream",
          "name": "stdout",
          "text": [
            "Número de itens exclusivos: 183\n"
          ]
        }
      ]
    },
    {
      "cell_type": "markdown",
      "metadata": {
        "id": "Dy8jwEvXaleT"
      },
      "source": [
        "Preço médio de compra"
      ]
    },
    {
      "cell_type": "code",
      "metadata": {
        "colab": {
          "base_uri": "https://localhost:8080/"
        },
        "id": "6lbwdBG-hQMp",
        "outputId": "cb057bea-cefe-40f9-b454-3243e6bb2b18"
      },
      "source": [
        "# Preço médio de compra\n",
        "mean_price = np.mean(purchase_file['Valor'])\n",
        "print(f\"Preço médio de compra: {round(mean_price, 2)}$\")"
      ],
      "execution_count": null,
      "outputs": [
        {
          "output_type": "stream",
          "name": "stdout",
          "text": [
            "Preço médio de compra: 2.93$\n"
          ]
        }
      ]
    },
    {
      "cell_type": "markdown",
      "metadata": {
        "id": "hUf93nQCao-L"
      },
      "source": [
        "Número Total de Compras"
      ]
    },
    {
      "cell_type": "code",
      "metadata": {
        "colab": {
          "base_uri": "https://localhost:8080/"
        },
        "id": "YyZexDc_hQKi",
        "outputId": "ef7f33d5-ec57-4fd6-faf1-a40854de0ee6"
      },
      "source": [
        "# Número Total de Compras\n",
        "print(f\"Número total de compras: {len(purchase_file)}\")"
      ],
      "execution_count": null,
      "outputs": [
        {
          "output_type": "stream",
          "name": "stdout",
          "text": [
            "Número total de compras: 780\n"
          ]
        }
      ]
    },
    {
      "cell_type": "markdown",
      "metadata": {
        "id": "cdiGQ51Wapuz"
      },
      "source": [
        "Rendimento Total"
      ]
    },
    {
      "cell_type": "code",
      "metadata": {
        "colab": {
          "base_uri": "https://localhost:8080/"
        },
        "id": "rsXyfwGkhQEB",
        "outputId": "6e1d0bf1-0c7b-48c4-c865-5d3d002e0332"
      },
      "source": [
        "# Rendimento Total\n",
        "total_income = np.sum(purchase_file['Valor'])\n",
        "print(f\"Rendimento Total: {round(total_income, 2)}$\")"
      ],
      "execution_count": null,
      "outputs": [
        {
          "output_type": "stream",
          "name": "stdout",
          "text": [
            "Rendimento Total: 2286.33$\n"
          ]
        }
      ]
    },
    {
      "cell_type": "markdown",
      "metadata": {
        "id": "Ra7oAQfEhp0y"
      },
      "source": [
        "# Informações Demográficas Por Gênero\n",
        "\n",
        "* Porcentagem e contagem de compradores masculinos\n",
        "* Porcentagem e contagem de compradores do sexo feminino\n",
        "* Porcentagem e contagem de outros / não divulgados"
      ]
    },
    {
      "cell_type": "markdown",
      "metadata": {
        "id": "yKwZGXRlbNUj"
      },
      "source": [
        "Porcentagens"
      ]
    },
    {
      "cell_type": "code",
      "metadata": {
        "id": "sg3yPS74hPu5",
        "colab": {
          "base_uri": "https://localhost:8080/",
          "height": 142
        },
        "outputId": "7e047278-32eb-467f-a10f-2ee1f6d60cff"
      },
      "source": [
        "purchase_temp = purchase_file.drop_duplicates(subset='Login')\n",
        "\n",
        "gender_consumers = purchase_temp['Sexo'].value_counts().reset_index(name='Sexo').rename(columns={'index': 'Sexo','Sexo': 'Contagem'})\n",
        "gender_consumers['%'] = round((gender_consumers['Contagem']/np.sum(gender_consumers['Contagem'])) * 100, 2)\n",
        "\n",
        "# Data Munging\n",
        "gender_consumers[\"%\"] = gender_consumers[\"%\"].map(\"{:,.1f}%\".format)\n",
        "\n",
        "gender_consumers"
      ],
      "execution_count": null,
      "outputs": [
        {
          "output_type": "execute_result",
          "data": {
            "text/html": [
              "<div>\n",
              "<style scoped>\n",
              "    .dataframe tbody tr th:only-of-type {\n",
              "        vertical-align: middle;\n",
              "    }\n",
              "\n",
              "    .dataframe tbody tr th {\n",
              "        vertical-align: top;\n",
              "    }\n",
              "\n",
              "    .dataframe thead th {\n",
              "        text-align: right;\n",
              "    }\n",
              "</style>\n",
              "<table border=\"1\" class=\"dataframe\">\n",
              "  <thead>\n",
              "    <tr style=\"text-align: right;\">\n",
              "      <th></th>\n",
              "      <th>Sexo</th>\n",
              "      <th>Contagem</th>\n",
              "      <th>%</th>\n",
              "    </tr>\n",
              "  </thead>\n",
              "  <tbody>\n",
              "    <tr>\n",
              "      <th>0</th>\n",
              "      <td>Masculino</td>\n",
              "      <td>465</td>\n",
              "      <td>81.2%</td>\n",
              "    </tr>\n",
              "    <tr>\n",
              "      <th>1</th>\n",
              "      <td>Feminino</td>\n",
              "      <td>100</td>\n",
              "      <td>17.4%</td>\n",
              "    </tr>\n",
              "    <tr>\n",
              "      <th>2</th>\n",
              "      <td>Outro / Não Divulgado</td>\n",
              "      <td>8</td>\n",
              "      <td>1.4%</td>\n",
              "    </tr>\n",
              "  </tbody>\n",
              "</table>\n",
              "</div>"
            ],
            "text/plain": [
              "                    Sexo  Contagem      %\n",
              "0              Masculino       465  81.2%\n",
              "1               Feminino       100  17.4%\n",
              "2  Outro / Não Divulgado         8   1.4%"
            ]
          },
          "metadata": {},
          "execution_count": 245
        }
      ]
    },
    {
      "cell_type": "code",
      "metadata": {
        "colab": {
          "base_uri": "https://localhost:8080/"
        },
        "id": "LX5_Fe5kXO4N",
        "outputId": "80882859-bed2-465c-cd82-14b75a58721d"
      },
      "source": [
        "# Porcentagens\n",
        "\n",
        "n = np.sum(gender_consumers['Contagem'])\n",
        "\n",
        "# Porcentagem de compradores do sexo masculino\n",
        "male_percentage = gender_consumers['%'][0]\n",
        "print(f\"Porcentagem de compradores do sexo masculino: {male_percentage}\")\n",
        "\n",
        "# Porcentagem de compradores do sexo feminino\n",
        "female_percentage = gender_consumers['%'][1]\n",
        "print(f\"Porcentagem de compradores feminino: {female_percentage}\")\n",
        "\n",
        "# Porcentagem de outros / não divulgados\n",
        "others_percentage = gender_consumers['%'][2]\n",
        "print(f\"Porcentagem de outros / não divulgados: {others_percentage}\")\n"
      ],
      "execution_count": null,
      "outputs": [
        {
          "output_type": "stream",
          "name": "stdout",
          "text": [
            "Porcentagem de compradores do sexo masculino: 81.2%\n",
            "Porcentagem de compradores feminino: 17.4%\n",
            "Porcentagem de outros / não divulgados: 1.4%\n"
          ]
        }
      ]
    },
    {
      "cell_type": "markdown",
      "metadata": {
        "id": "Me_4o4lybcfk"
      },
      "source": [
        "Informação gráfica"
      ]
    },
    {
      "cell_type": "code",
      "metadata": {
        "id": "22KAggtNCz01"
      },
      "source": [
        "# Ajusta os labels (para gráfico)\n",
        "labels = [str(gender_consumers['Sexo'][i]) + ' ' + '[' + gender_consumers['%'][i] +']' for i in gender_consumers.index]"
      ],
      "execution_count": null,
      "outputs": []
    },
    {
      "cell_type": "code",
      "metadata": {
        "colab": {
          "base_uri": "https://localhost:8080/",
          "height": 555
        },
        "id": "dhn17Xz1_iBV",
        "outputId": "76104e3f-728c-45c3-dbff-f4653b460151"
      },
      "source": [
        "# Plot\n",
        "\n",
        "# Mapa de cores\n",
        "# https://matplotlib.org/stable/tutorials/colors/colormaps.html\n",
        "cs = cm.Set3(np.arange(100))\n",
        "\n",
        "# Cria a figura\n",
        "figure = plt.figure()\n",
        "\n",
        "# Pie Plot\n",
        "plt.pie(gender_consumers['Contagem'], labeldistance = 1, radius=3, colors=cs, wedgeprops= dict(width = .8))\n",
        "plt.legend(labels = labels, loc = 'center', prop = {'size':12})\n",
        "plt.title(\"Análise Demográfica de Gênero dos Consumidores\", loc = \"center\", fontdict = {'fontsize':11, 'fontweight':20})\n",
        "plt.show()\n"
      ],
      "execution_count": null,
      "outputs": [
        {
          "output_type": "display_data",
          "data": {
            "image/png": "[encoded data removed]",
            "text/plain": [
              "<Figure size 432x288 with 1 Axes>"
            ]
          },
          "metadata": {}
        }
      ]
    },
    {
      "cell_type": "markdown",
      "metadata": {
        "id": "1A9YpMvThvVC"
      },
      "source": [
        "# Análise de Compras por Gênero\n",
        "\n",
        "* Número de compras\n",
        "* Preço médio de compra\n",
        "* Valor Total de Compra\n",
        "* Compras por faixa etária\n"
      ]
    },
    {
      "cell_type": "markdown",
      "metadata": {
        "id": "opAh2ZzKbg5b"
      },
      "source": [
        "Número de compras"
      ]
    },
    {
      "cell_type": "code",
      "metadata": {
        "colab": {
          "base_uri": "https://localhost:8080/",
          "height": 142
        },
        "id": "Vj5yo4D4I9LU",
        "outputId": "d45ade29-cb49-452d-8972-d83b5fc8004b"
      },
      "source": [
        "# Número de compras por gênero \n",
        "quantity = login[\"Quantidade de compras\"].groupby(login['Sexo'])\n",
        "quantity = quantity.sum().to_frame().reset_index()\n",
        "quantity.sort_values(by='Quantidade de compras', ascending=False)"
      ],
      "execution_count": null,
      "outputs": [
        {
          "output_type": "execute_result",
          "data": {
            "text/html": [
              "<div>\n",
              "<style scoped>\n",
              "    .dataframe tbody tr th:only-of-type {\n",
              "        vertical-align: middle;\n",
              "    }\n",
              "\n",
              "    .dataframe tbody tr th {\n",
              "        vertical-align: top;\n",
              "    }\n",
              "\n",
              "    .dataframe thead th {\n",
              "        text-align: right;\n",
              "    }\n",
              "</style>\n",
              "<table border=\"1\" class=\"dataframe\">\n",
              "  <thead>\n",
              "    <tr style=\"text-align: right;\">\n",
              "      <th></th>\n",
              "      <th>Sexo</th>\n",
              "      <th>Quantidade de compras</th>\n",
              "    </tr>\n",
              "  </thead>\n",
              "  <tbody>\n",
              "    <tr>\n",
              "      <th>1</th>\n",
              "      <td>Masculino</td>\n",
              "      <td>633</td>\n",
              "    </tr>\n",
              "    <tr>\n",
              "      <th>0</th>\n",
              "      <td>Feminino</td>\n",
              "      <td>136</td>\n",
              "    </tr>\n",
              "    <tr>\n",
              "      <th>2</th>\n",
              "      <td>Outro / Não Divulgado</td>\n",
              "      <td>11</td>\n",
              "    </tr>\n",
              "  </tbody>\n",
              "</table>\n",
              "</div>"
            ],
            "text/plain": [
              "                    Sexo  Quantidade de compras\n",
              "1              Masculino                    633\n",
              "0               Feminino                    136\n",
              "2  Outro / Não Divulgado                     11"
            ]
          },
          "metadata": {},
          "execution_count": 75
        }
      ]
    },
    {
      "cell_type": "markdown",
      "metadata": {
        "id": "vKQbPYwJbqR0"
      },
      "source": [
        "Valor Total de Compra"
      ]
    },
    {
      "cell_type": "code",
      "metadata": {
        "colab": {
          "base_uri": "https://localhost:8080/",
          "height": 142
        },
        "id": "G6jW4eFOI9Ih",
        "outputId": "c380de85-403c-4305-dd38-40e91334d83e"
      },
      "source": [
        "# Valor total de compra por gênero \n",
        "login['Valor'].groupby(login['Sexo']).sum().reset_index().rename(columns={'Valor':'Valor Total'})"
      ],
      "execution_count": null,
      "outputs": [
        {
          "output_type": "execute_result",
          "data": {
            "text/html": [
              "<div>\n",
              "<style scoped>\n",
              "    .dataframe tbody tr th:only-of-type {\n",
              "        vertical-align: middle;\n",
              "    }\n",
              "\n",
              "    .dataframe tbody tr th {\n",
              "        vertical-align: top;\n",
              "    }\n",
              "\n",
              "    .dataframe thead th {\n",
              "        text-align: right;\n",
              "    }\n",
              "</style>\n",
              "<table border=\"1\" class=\"dataframe\">\n",
              "  <thead>\n",
              "    <tr style=\"text-align: right;\">\n",
              "      <th></th>\n",
              "      <th>Sexo</th>\n",
              "      <th>Valor Total</th>\n",
              "    </tr>\n",
              "  </thead>\n",
              "  <tbody>\n",
              "    <tr>\n",
              "      <th>0</th>\n",
              "      <td>Feminino</td>\n",
              "      <td>382.91</td>\n",
              "    </tr>\n",
              "    <tr>\n",
              "      <th>1</th>\n",
              "      <td>Masculino</td>\n",
              "      <td>1867.68</td>\n",
              "    </tr>\n",
              "    <tr>\n",
              "      <th>2</th>\n",
              "      <td>Outro / Não Divulgado</td>\n",
              "      <td>35.74</td>\n",
              "    </tr>\n",
              "  </tbody>\n",
              "</table>\n",
              "</div>"
            ],
            "text/plain": [
              "                    Sexo  Valor Total\n",
              "0               Feminino       382.91\n",
              "1              Masculino      1867.68\n",
              "2  Outro / Não Divulgado        35.74"
            ]
          },
          "metadata": {},
          "execution_count": 86
        }
      ]
    },
    {
      "cell_type": "markdown",
      "metadata": {
        "id": "AvefHzQbbjUU"
      },
      "source": [
        "Preço médio de compra"
      ]
    },
    {
      "cell_type": "code",
      "metadata": {
        "colab": {
          "base_uri": "https://localhost:8080/",
          "height": 142
        },
        "id": "Wj5JXnljb-Gh",
        "outputId": "77e4b663-bc03-4f59-c67b-84401335af86"
      },
      "source": [
        "# Preço médio de compra\n",
        "mean_shop_cost = purchase_file['Valor'].groupby(purchase_file['Sexo']).mean().reset_index().rename(columns={'Valor':'Preço médio'})\n",
        "mean_shop_cost['Preço médio'] = round(mean_shop_cost['Preço médio'], 2)\n",
        "mean_shop_cost"
      ],
      "execution_count": null,
      "outputs": [
        {
          "output_type": "execute_result",
          "data": {
            "text/html": [
              "<div>\n",
              "<style scoped>\n",
              "    .dataframe tbody tr th:only-of-type {\n",
              "        vertical-align: middle;\n",
              "    }\n",
              "\n",
              "    .dataframe tbody tr th {\n",
              "        vertical-align: top;\n",
              "    }\n",
              "\n",
              "    .dataframe thead th {\n",
              "        text-align: right;\n",
              "    }\n",
              "</style>\n",
              "<table border=\"1\" class=\"dataframe\">\n",
              "  <thead>\n",
              "    <tr style=\"text-align: right;\">\n",
              "      <th></th>\n",
              "      <th>Sexo</th>\n",
              "      <th>Preço médio</th>\n",
              "    </tr>\n",
              "  </thead>\n",
              "  <tbody>\n",
              "    <tr>\n",
              "      <th>0</th>\n",
              "      <td>Feminino</td>\n",
              "      <td>2.82</td>\n",
              "    </tr>\n",
              "    <tr>\n",
              "      <th>1</th>\n",
              "      <td>Masculino</td>\n",
              "      <td>2.95</td>\n",
              "    </tr>\n",
              "    <tr>\n",
              "      <th>2</th>\n",
              "      <td>Outro / Não Divulgado</td>\n",
              "      <td>3.25</td>\n",
              "    </tr>\n",
              "  </tbody>\n",
              "</table>\n",
              "</div>"
            ],
            "text/plain": [
              "                    Sexo  Preço médio\n",
              "0               Feminino         2.82\n",
              "1              Masculino         2.95\n",
              "2  Outro / Não Divulgado         3.25"
            ]
          },
          "metadata": {},
          "execution_count": 93
        }
      ]
    },
    {
      "cell_type": "markdown",
      "metadata": {
        "id": "W8eYyvh0buvk"
      },
      "source": [
        "Compras por faixa etária"
      ]
    },
    {
      "cell_type": "code",
      "metadata": {
        "id": "HYFF7tdfI9Gi"
      },
      "source": [
        "# Compras por faixa etária\n",
        "\n",
        "min_age = min(login['Idade']) # menor idade encontrada na base de dados de consumidores\n",
        "max_age = max(login['Idade']) # maior idade encontrada na base de dados de consumidores\n",
        "\n",
        "age_group_range = 5 # tamanho do intervalo de faixa etária\n",
        "\n",
        "age_shopping = {} # armazena quantidade de compras por faixa etária\n",
        "\n",
        "shop_gender_per_age_group = {} # armazena os valores de compras por sexo por faixa etária\n",
        "\n",
        "#gender_per_age_group = {} # armazena a quantidade de um determinado sexo por faixa etária \n",
        "\n",
        "n = min_age\n",
        "\n",
        "# Calculando a quantidade de compras por faixa etária\n",
        "for i in range(int(max_age/age_group_range)):\n",
        "  if n >= max_age:\n",
        "    break\n",
        "\n",
        "  quantity_shopping = login.loc[(login['Idade'] >= n) & (login['Idade'] < (n+age_group_range)), 'Quantidade de compras'].sum() # calculando a quantidade de compras por faixa etária\n",
        "  \n",
        "  #quantity_gender = login.loc[(login['Idade'] >= n) & (login['Idade'] < (n+age_group_range)), ['Sexo']] # quantidade de um determinado sexo por faixa etária\n",
        "  quantity_shopping_gender = purchase_file.loc[(purchase_file['Idade'] >= n) & (purchase_file['Idade'] < (n+age_group_range)), ['Sexo']] # compras por sexo por faixa etária\n",
        "  \n",
        "  age_shopping[f'{n}-{n+age_group_range}'] = quantity_shopping\n",
        "\n",
        "  #gender_per_age_group[f'{n}-{n+age_group_range}'] = quantity_gender.value_counts().tolist()\n",
        "  shop_gender_per_age_group[f'{n}-{n+age_group_range}'] = quantity_shopping_gender.value_counts().tolist()\n",
        "\n",
        "  n += age_group_range"
      ],
      "execution_count": null,
      "outputs": []
    },
    {
      "cell_type": "code",
      "metadata": {
        "id": "n5voGK2SXVKd"
      },
      "source": [
        "#gender_values = list(gender_per_age_group.values()) # lista das quantidades de sexo por faixa etária (ordem: masculino, feminino, outros)\n",
        "gender_shopping_values = list(shop_gender_per_age_group.values())\n",
        "#male = [] # quantidade de consumidores do sexo masculino por faixa etária\n",
        "male_shopping = []  \n",
        "#female = [] # quantidade de consumidores do sexo feminino por faixa etária\n",
        "female_shopping = []\n",
        "#outhers = [] # quantidade de consumidores de sexo não divulgado ou outros por faixa etária\n",
        "others_shopping = []\n",
        "for i in range(len(gender_shopping_values)):\n",
        "  try:\n",
        "    #male.append(gender_values[i][0])\n",
        "    male_shopping.append(gender_shopping_values[i][0])\n",
        "  except:\n",
        "    #male.append(0)\n",
        "    male_shopping.append(0)\n",
        "  try:\n",
        "    #female.append(gender_values[i][1])\n",
        "    female_shopping.append(gender_shopping_values[i][1])\n",
        "  except:\n",
        "    #female.append(0)\n",
        "    female_shopping.append(0)\n",
        "  try:\n",
        "    #others.append(gender_values[i][2])\n",
        "    others_shopping.append(gender_shopping_values[i][2])\n",
        "  except:\n",
        "    #others.append(0)\n",
        "    others_shopping.append(0)"
      ],
      "execution_count": null,
      "outputs": []
    },
    {
      "cell_type": "code",
      "metadata": {
        "colab": {
          "base_uri": "https://localhost:8080/",
          "height": 297
        },
        "id": "OOd6x61-XYk0",
        "outputId": "dda95f5e-9b55-4aea-aaad-130944ef4be1"
      },
      "source": [
        "# Formação do dataframe\n",
        "shop_age_frame = pd.DataFrame()\n",
        "shop_age_frame['Faixa etaria'] = age_shopping.keys()\n",
        "shop_age_frame['Quantidade de compras'] = age_shopping.values()\n",
        "#shop_age_frame['Masculino'] = male\n",
        "#shop_age_frame['Feminino'] = female\n",
        "#shop_age_frame['Outros / Não Divulgados'] = outhers\n",
        "shop_age_frame['Masculino'] = male_shopping\n",
        "shop_age_frame['Feminino'] = female_shopping\n",
        "shop_age_frame['Outros / Não Divulgados'] = others_shopping\n",
        "shop_age_frame"
      ],
      "execution_count": null,
      "outputs": [
        {
          "output_type": "execute_result",
          "data": {
            "text/html": [
              "<div>\n",
              "<style scoped>\n",
              "    .dataframe tbody tr th:only-of-type {\n",
              "        vertical-align: middle;\n",
              "    }\n",
              "\n",
              "    .dataframe tbody tr th {\n",
              "        vertical-align: top;\n",
              "    }\n",
              "\n",
              "    .dataframe thead th {\n",
              "        text-align: right;\n",
              "    }\n",
              "</style>\n",
              "<table border=\"1\" class=\"dataframe\">\n",
              "  <thead>\n",
              "    <tr style=\"text-align: right;\">\n",
              "      <th></th>\n",
              "      <th>Faixa etaria</th>\n",
              "      <th>Quantidade de compras</th>\n",
              "      <th>Masculino</th>\n",
              "      <th>Feminino</th>\n",
              "      <th>Outros / Não Divulgados</th>\n",
              "    </tr>\n",
              "  </thead>\n",
              "  <tbody>\n",
              "    <tr>\n",
              "      <th>0</th>\n",
              "      <td>7-12</td>\n",
              "      <td>41</td>\n",
              "      <td>31</td>\n",
              "      <td>10</td>\n",
              "      <td>0</td>\n",
              "    </tr>\n",
              "    <tr>\n",
              "      <th>1</th>\n",
              "      <td>12-17</td>\n",
              "      <td>92</td>\n",
              "      <td>77</td>\n",
              "      <td>14</td>\n",
              "      <td>1</td>\n",
              "    </tr>\n",
              "    <tr>\n",
              "      <th>2</th>\n",
              "      <td>17-22</td>\n",
              "      <td>204</td>\n",
              "      <td>167</td>\n",
              "      <td>36</td>\n",
              "      <td>1</td>\n",
              "    </tr>\n",
              "    <tr>\n",
              "      <th>3</th>\n",
              "      <td>22-27</td>\n",
              "      <td>275</td>\n",
              "      <td>226</td>\n",
              "      <td>47</td>\n",
              "      <td>2</td>\n",
              "    </tr>\n",
              "    <tr>\n",
              "      <th>4</th>\n",
              "      <td>27-32</td>\n",
              "      <td>79</td>\n",
              "      <td>65</td>\n",
              "      <td>12</td>\n",
              "      <td>2</td>\n",
              "    </tr>\n",
              "    <tr>\n",
              "      <th>5</th>\n",
              "      <td>32-37</td>\n",
              "      <td>49</td>\n",
              "      <td>38</td>\n",
              "      <td>6</td>\n",
              "      <td>5</td>\n",
              "    </tr>\n",
              "    <tr>\n",
              "      <th>6</th>\n",
              "      <td>37-42</td>\n",
              "      <td>37</td>\n",
              "      <td>26</td>\n",
              "      <td>11</td>\n",
              "      <td>0</td>\n",
              "    </tr>\n",
              "    <tr>\n",
              "      <th>7</th>\n",
              "      <td>42-47</td>\n",
              "      <td>3</td>\n",
              "      <td>3</td>\n",
              "      <td>0</td>\n",
              "      <td>0</td>\n",
              "    </tr>\n",
              "  </tbody>\n",
              "</table>\n",
              "</div>"
            ],
            "text/plain": [
              "  Faixa etaria  Quantidade de compras  ...  Feminino  Outros / Não Divulgados\n",
              "0         7-12                     41  ...        10                        0\n",
              "1        12-17                     92  ...        14                        1\n",
              "2        17-22                    204  ...        36                        1\n",
              "3        22-27                    275  ...        47                        2\n",
              "4        27-32                     79  ...        12                        2\n",
              "5        32-37                     49  ...         6                        5\n",
              "6        37-42                     37  ...        11                        0\n",
              "7        42-47                      3  ...         0                        0\n",
              "\n",
              "[8 rows x 5 columns]"
            ]
          },
          "metadata": {},
          "execution_count": 80
        }
      ]
    },
    {
      "cell_type": "markdown",
      "metadata": {
        "id": "ZA4Ua8NP-wK9"
      },
      "source": [
        "#Identificando os 5 principais compradores pelo valor total de compra:\n",
        "\n",
        "* Login\n",
        "* Número de compras\n",
        "* Preço médio de compra\n",
        "* Valor Total de Compra\n",
        "* Itens mais populares"
      ]
    },
    {
      "cell_type": "code",
      "metadata": {
        "id": "VnHQ2KVyI9EB",
        "colab": {
          "base_uri": "https://localhost:8080/",
          "height": 203
        },
        "outputId": "d754cbdf-73d2-461d-e37f-07c19a9a8437"
      },
      "source": [
        "top_5 = login.sort_values(by='Valor', ascending=False).head(5)\n",
        "top_5 = top_5.reset_index().drop(columns='index', axis=1)\n",
        "top_5"
      ],
      "execution_count": null,
      "outputs": [
        {
          "output_type": "execute_result",
          "data": {
            "text/html": [
              "<div>\n",
              "<style scoped>\n",
              "    .dataframe tbody tr th:only-of-type {\n",
              "        vertical-align: middle;\n",
              "    }\n",
              "\n",
              "    .dataframe tbody tr th {\n",
              "        vertical-align: top;\n",
              "    }\n",
              "\n",
              "    .dataframe thead th {\n",
              "        text-align: right;\n",
              "    }\n",
              "</style>\n",
              "<table border=\"1\" class=\"dataframe\">\n",
              "  <thead>\n",
              "    <tr style=\"text-align: right;\">\n",
              "      <th></th>\n",
              "      <th>Login</th>\n",
              "      <th>Sexo</th>\n",
              "      <th>Idade</th>\n",
              "      <th>Quantidade de compras</th>\n",
              "      <th>Valor</th>\n",
              "    </tr>\n",
              "  </thead>\n",
              "  <tbody>\n",
              "    <tr>\n",
              "      <th>0</th>\n",
              "      <td>Undirrala66</td>\n",
              "      <td>Masculino</td>\n",
              "      <td>29</td>\n",
              "      <td>5</td>\n",
              "      <td>17.06</td>\n",
              "    </tr>\n",
              "    <tr>\n",
              "      <th>1</th>\n",
              "      <td>Saedue76</td>\n",
              "      <td>Masculino</td>\n",
              "      <td>25</td>\n",
              "      <td>4</td>\n",
              "      <td>13.56</td>\n",
              "    </tr>\n",
              "    <tr>\n",
              "      <th>2</th>\n",
              "      <td>Mindimnya67</td>\n",
              "      <td>Feminino</td>\n",
              "      <td>39</td>\n",
              "      <td>4</td>\n",
              "      <td>12.74</td>\n",
              "    </tr>\n",
              "    <tr>\n",
              "      <th>3</th>\n",
              "      <td>Haellysu29</td>\n",
              "      <td>Masculino</td>\n",
              "      <td>21</td>\n",
              "      <td>3</td>\n",
              "      <td>12.73</td>\n",
              "    </tr>\n",
              "    <tr>\n",
              "      <th>4</th>\n",
              "      <td>Eoda93</td>\n",
              "      <td>Masculino</td>\n",
              "      <td>22</td>\n",
              "      <td>3</td>\n",
              "      <td>11.58</td>\n",
              "    </tr>\n",
              "  </tbody>\n",
              "</table>\n",
              "</div>"
            ],
            "text/plain": [
              "         Login       Sexo  Idade  Quantidade de compras  Valor\n",
              "0  Undirrala66  Masculino     29                      5  17.06\n",
              "1     Saedue76  Masculino     25                      4  13.56\n",
              "2  Mindimnya67   Feminino     39                      4  12.74\n",
              "3   Haellysu29  Masculino     21                      3  12.73\n",
              "4       Eoda93  Masculino     22                      3  11.58"
            ]
          },
          "metadata": {},
          "execution_count": 59
        }
      ]
    },
    {
      "cell_type": "code",
      "metadata": {
        "id": "eIErFvEoI9Bp",
        "colab": {
          "base_uri": "https://localhost:8080/",
          "height": 203
        },
        "outputId": "138c8d40-a976-414a-fd90-d187bd715c7d"
      },
      "source": [
        "# Ranque geral de itens mais populares\n",
        "general_rank = purchase_file['Nome do Item'].value_counts()\n",
        "general_rank = general_rank.reset_index().rename(columns={'index':'Nome do Item', 'Nome do Item':'Contagem'})\n",
        "general_rank = general_rank.head(5)\n",
        "general_rank"
      ],
      "execution_count": null,
      "outputs": [
        {
          "output_type": "execute_result",
          "data": {
            "text/html": [
              "<div>\n",
              "<style scoped>\n",
              "    .dataframe tbody tr th:only-of-type {\n",
              "        vertical-align: middle;\n",
              "    }\n",
              "\n",
              "    .dataframe tbody tr th {\n",
              "        vertical-align: top;\n",
              "    }\n",
              "\n",
              "    .dataframe thead th {\n",
              "        text-align: right;\n",
              "    }\n",
              "</style>\n",
              "<table border=\"1\" class=\"dataframe\">\n",
              "  <thead>\n",
              "    <tr style=\"text-align: right;\">\n",
              "      <th></th>\n",
              "      <th>Nome do Item</th>\n",
              "      <th>Contagem</th>\n",
              "    </tr>\n",
              "  </thead>\n",
              "  <tbody>\n",
              "    <tr>\n",
              "      <th>0</th>\n",
              "      <td>Final Critic</td>\n",
              "      <td>14</td>\n",
              "    </tr>\n",
              "    <tr>\n",
              "      <th>1</th>\n",
              "      <td>Betrayal, Whisper of Grieving Widows</td>\n",
              "      <td>11</td>\n",
              "    </tr>\n",
              "    <tr>\n",
              "      <th>2</th>\n",
              "      <td>Arcane Gem</td>\n",
              "      <td>11</td>\n",
              "    </tr>\n",
              "    <tr>\n",
              "      <th>3</th>\n",
              "      <td>Stormcaller</td>\n",
              "      <td>10</td>\n",
              "    </tr>\n",
              "    <tr>\n",
              "      <th>4</th>\n",
              "      <td>Trickster</td>\n",
              "      <td>9</td>\n",
              "    </tr>\n",
              "  </tbody>\n",
              "</table>\n",
              "</div>"
            ],
            "text/plain": [
              "                           Nome do Item  Contagem\n",
              "0                          Final Critic        14\n",
              "1  Betrayal, Whisper of Grieving Widows        11\n",
              "2                            Arcane Gem        11\n",
              "3                           Stormcaller        10\n",
              "4                             Trickster         9"
            ]
          },
          "metadata": {},
          "execution_count": 83
        }
      ]
    },
    {
      "cell_type": "code",
      "metadata": {
        "id": "wONSnUK9I8zq"
      },
      "source": [
        "top_5_buy = purchase_file[purchase_file['Login'].isin(top_5['Login'])]"
      ],
      "execution_count": null,
      "outputs": []
    },
    {
      "cell_type": "code",
      "metadata": {
        "id": "zZXfftZ-I8xE",
        "colab": {
          "base_uri": "https://localhost:8080/",
          "height": 203
        },
        "outputId": "b7434135-8dd6-4f4c-b883-2af6af3688eb"
      },
      "source": [
        "# Ranque dos top_5 de itens mais populares\n",
        "top_5_rank = top_5_buy['Nome do Item'].value_counts()\n",
        "top_5_rank = top_5_rank.reset_index().rename(columns={'index':'Nome do Item', 'Nome do Item':'Contagem'})\n",
        "top_5_rank = top_5_rank.head(5)\n",
        "top_5_rank"
      ],
      "execution_count": null,
      "outputs": [
        {
          "output_type": "execute_result",
          "data": {
            "text/html": [
              "<div>\n",
              "<style scoped>\n",
              "    .dataframe tbody tr th:only-of-type {\n",
              "        vertical-align: middle;\n",
              "    }\n",
              "\n",
              "    .dataframe tbody tr th {\n",
              "        vertical-align: top;\n",
              "    }\n",
              "\n",
              "    .dataframe thead th {\n",
              "        text-align: right;\n",
              "    }\n",
              "</style>\n",
              "<table border=\"1\" class=\"dataframe\">\n",
              "  <thead>\n",
              "    <tr style=\"text-align: right;\">\n",
              "      <th></th>\n",
              "      <th>Nome do Item</th>\n",
              "      <th>Contagem</th>\n",
              "    </tr>\n",
              "  </thead>\n",
              "  <tbody>\n",
              "    <tr>\n",
              "      <th>0</th>\n",
              "      <td>Striker</td>\n",
              "      <td>2</td>\n",
              "    </tr>\n",
              "    <tr>\n",
              "      <th>1</th>\n",
              "      <td>Blood Infused Guardian</td>\n",
              "      <td>1</td>\n",
              "    </tr>\n",
              "    <tr>\n",
              "      <th>2</th>\n",
              "      <td>Stormfury Longsword</td>\n",
              "      <td>1</td>\n",
              "    </tr>\n",
              "    <tr>\n",
              "      <th>3</th>\n",
              "      <td>Thunderfury Scimitar</td>\n",
              "      <td>1</td>\n",
              "    </tr>\n",
              "    <tr>\n",
              "      <th>4</th>\n",
              "      <td>Torchlight, Bond of Storms</td>\n",
              "      <td>1</td>\n",
              "    </tr>\n",
              "  </tbody>\n",
              "</table>\n",
              "</div>"
            ],
            "text/plain": [
              "                 Nome do Item  Contagem\n",
              "0                     Striker         2\n",
              "1      Blood Infused Guardian         1\n",
              "2         Stormfury Longsword         1\n",
              "3        Thunderfury Scimitar         1\n",
              "4  Torchlight, Bond of Storms         1"
            ]
          },
          "metadata": {},
          "execution_count": 101
        }
      ]
    },
    {
      "cell_type": "markdown",
      "metadata": {
        "id": "8DittNTO3HGT"
      },
      "source": [
        "#Identificando os 5 itens mais populares por contagem de compras:\n",
        "\n",
        "* ID do item\n",
        "* Nome do item\n",
        "* Número de compras\n",
        "* Preço do item\n",
        "* Valor Total de Compra\n",
        "* Itens mais lucrativos"
      ]
    },
    {
      "cell_type": "code",
      "metadata": {
        "id": "lE0IlCPZ3Of5",
        "colab": {
          "base_uri": "https://localhost:8080/",
          "height": 419
        },
        "outputId": "009b46c7-baad-4a9a-f183-5337c6caf983"
      },
      "source": [
        "# Tabela dos top 5 itens mais populares por contagem de compras\n",
        "nova = purchase_file[['Nome do Item', 'Item ID','Valor']].value_counts() \n",
        "nova = nova.to_frame().reset_index().rename(columns={0:'Compras'})\n",
        "nova['Total'] = nova['Valor']*nova['Compras'] # valor total de compras por item\n",
        "nova.drop_duplicates(subset='Item ID')"
      ],
      "execution_count": null,
      "outputs": [
        {
          "output_type": "execute_result",
          "data": {
            "text/html": [
              "<div>\n",
              "<style scoped>\n",
              "    .dataframe tbody tr th:only-of-type {\n",
              "        vertical-align: middle;\n",
              "    }\n",
              "\n",
              "    .dataframe tbody tr th {\n",
              "        vertical-align: top;\n",
              "    }\n",
              "\n",
              "    .dataframe thead th {\n",
              "        text-align: right;\n",
              "    }\n",
              "</style>\n",
              "<table border=\"1\" class=\"dataframe\">\n",
              "  <thead>\n",
              "    <tr style=\"text-align: right;\">\n",
              "      <th></th>\n",
              "      <th>Nome do Item</th>\n",
              "      <th>Item ID</th>\n",
              "      <th>Valor</th>\n",
              "      <th>Compras</th>\n",
              "      <th>Total</th>\n",
              "    </tr>\n",
              "  </thead>\n",
              "  <tbody>\n",
              "    <tr>\n",
              "      <th>0</th>\n",
              "      <td>Arcane Gem</td>\n",
              "      <td>84</td>\n",
              "      <td>2.23</td>\n",
              "      <td>11</td>\n",
              "      <td>24.53</td>\n",
              "    </tr>\n",
              "    <tr>\n",
              "      <th>1</th>\n",
              "      <td>Betrayal, Whisper of Grieving Widows</td>\n",
              "      <td>39</td>\n",
              "      <td>2.35</td>\n",
              "      <td>11</td>\n",
              "      <td>25.85</td>\n",
              "    </tr>\n",
              "    <tr>\n",
              "      <th>2</th>\n",
              "      <td>Retribution Axe</td>\n",
              "      <td>34</td>\n",
              "      <td>4.14</td>\n",
              "      <td>9</td>\n",
              "      <td>37.26</td>\n",
              "    </tr>\n",
              "    <tr>\n",
              "      <th>3</th>\n",
              "      <td>Woeful Adamantite Claymore</td>\n",
              "      <td>175</td>\n",
              "      <td>1.24</td>\n",
              "      <td>9</td>\n",
              "      <td>11.16</td>\n",
              "    </tr>\n",
              "    <tr>\n",
              "      <th>4</th>\n",
              "      <td>Serenity</td>\n",
              "      <td>13</td>\n",
              "      <td>1.49</td>\n",
              "      <td>9</td>\n",
              "      <td>13.41</td>\n",
              "    </tr>\n",
              "    <tr>\n",
              "      <th>...</th>\n",
              "      <td>...</td>\n",
              "      <td>...</td>\n",
              "      <td>...</td>\n",
              "      <td>...</td>\n",
              "      <td>...</td>\n",
              "    </tr>\n",
              "    <tr>\n",
              "      <th>179</th>\n",
              "      <td>Foul Edge</td>\n",
              "      <td>43</td>\n",
              "      <td>2.38</td>\n",
              "      <td>1</td>\n",
              "      <td>2.38</td>\n",
              "    </tr>\n",
              "    <tr>\n",
              "      <th>180</th>\n",
              "      <td>Phantomlight</td>\n",
              "      <td>3</td>\n",
              "      <td>1.79</td>\n",
              "      <td>1</td>\n",
              "      <td>1.79</td>\n",
              "    </tr>\n",
              "    <tr>\n",
              "      <th>181</th>\n",
              "      <td>Ghastly Adamantite Protector</td>\n",
              "      <td>136</td>\n",
              "      <td>3.30</td>\n",
              "      <td>1</td>\n",
              "      <td>3.30</td>\n",
              "    </tr>\n",
              "    <tr>\n",
              "      <th>182</th>\n",
              "      <td>Hellreaver, Heirloom of Inception</td>\n",
              "      <td>147</td>\n",
              "      <td>3.59</td>\n",
              "      <td>1</td>\n",
              "      <td>3.59</td>\n",
              "    </tr>\n",
              "    <tr>\n",
              "      <th>183</th>\n",
              "      <td>Downfall, Scalpel Of The Emperor</td>\n",
              "      <td>109</td>\n",
              "      <td>3.20</td>\n",
              "      <td>1</td>\n",
              "      <td>3.20</td>\n",
              "    </tr>\n",
              "  </tbody>\n",
              "</table>\n",
              "<p>183 rows × 5 columns</p>\n",
              "</div>"
            ],
            "text/plain": [
              "                             Nome do Item  Item ID  Valor  Compras  Total\n",
              "0                              Arcane Gem       84   2.23       11  24.53\n",
              "1    Betrayal, Whisper of Grieving Widows       39   2.35       11  25.85\n",
              "2                         Retribution Axe       34   4.14        9  37.26\n",
              "3              Woeful Adamantite Claymore      175   1.24        9  11.16\n",
              "4                                Serenity       13   1.49        9  13.41\n",
              "..                                    ...      ...    ...      ...    ...\n",
              "179                             Foul Edge       43   2.38        1   2.38\n",
              "180                          Phantomlight        3   1.79        1   1.79\n",
              "181          Ghastly Adamantite Protector      136   3.30        1   3.30\n",
              "182     Hellreaver, Heirloom of Inception      147   3.59        1   3.59\n",
              "183      Downfall, Scalpel Of The Emperor      109   3.20        1   3.20\n",
              "\n",
              "[183 rows x 5 columns]"
            ]
          },
          "metadata": {},
          "execution_count": 197
        }
      ]
    },
    {
      "cell_type": "code",
      "metadata": {
        "colab": {
          "base_uri": "https://localhost:8080/",
          "height": 204
        },
        "id": "pLfdEeejSEvF",
        "outputId": "9cff2000-52a8-4829-a99f-0c3fc6cacb40"
      },
      "source": [
        "# Itens mais lucrativos neste top 5\n",
        "nova.sort_values(by='Total', ascending=False).head(5)"
      ],
      "execution_count": null,
      "outputs": [
        {
          "output_type": "execute_result",
          "data": {
            "text/html": [
              "<div>\n",
              "<style scoped>\n",
              "    .dataframe tbody tr th:only-of-type {\n",
              "        vertical-align: middle;\n",
              "    }\n",
              "\n",
              "    .dataframe tbody tr th {\n",
              "        vertical-align: top;\n",
              "    }\n",
              "\n",
              "    .dataframe thead th {\n",
              "        text-align: right;\n",
              "    }\n",
              "</style>\n",
              "<table border=\"1\" class=\"dataframe\">\n",
              "  <thead>\n",
              "    <tr style=\"text-align: right;\">\n",
              "      <th></th>\n",
              "      <th>Nome do Item</th>\n",
              "      <th>Item ID</th>\n",
              "      <th>Valor</th>\n",
              "      <th>Compras</th>\n",
              "      <th>Total</th>\n",
              "    </tr>\n",
              "  </thead>\n",
              "  <tbody>\n",
              "    <tr>\n",
              "      <th>2</th>\n",
              "      <td>Retribution Axe</td>\n",
              "      <td>34</td>\n",
              "      <td>4.14</td>\n",
              "      <td>9</td>\n",
              "      <td>37.26</td>\n",
              "    </tr>\n",
              "    <tr>\n",
              "      <th>1</th>\n",
              "      <td>Betrayal, Whisper of Grieving Widows</td>\n",
              "      <td>39</td>\n",
              "      <td>2.35</td>\n",
              "      <td>11</td>\n",
              "      <td>25.85</td>\n",
              "    </tr>\n",
              "    <tr>\n",
              "      <th>0</th>\n",
              "      <td>Arcane Gem</td>\n",
              "      <td>84</td>\n",
              "      <td>2.23</td>\n",
              "      <td>11</td>\n",
              "      <td>24.53</td>\n",
              "    </tr>\n",
              "    <tr>\n",
              "      <th>4</th>\n",
              "      <td>Serenity</td>\n",
              "      <td>13</td>\n",
              "      <td>1.49</td>\n",
              "      <td>9</td>\n",
              "      <td>13.41</td>\n",
              "    </tr>\n",
              "    <tr>\n",
              "      <th>3</th>\n",
              "      <td>Woeful Adamantite Claymore</td>\n",
              "      <td>175</td>\n",
              "      <td>1.24</td>\n",
              "      <td>9</td>\n",
              "      <td>11.16</td>\n",
              "    </tr>\n",
              "  </tbody>\n",
              "</table>\n",
              "</div>"
            ],
            "text/plain": [
              "                           Nome do Item  Item ID  Valor  Compras  Total\n",
              "2                       Retribution Axe       34   4.14        9  37.26\n",
              "1  Betrayal, Whisper of Grieving Widows       39   2.35       11  25.85\n",
              "0                            Arcane Gem       84   2.23       11  24.53\n",
              "4                              Serenity       13   1.49        9  13.41\n",
              "3            Woeful Adamantite Claymore      175   1.24        9  11.16"
            ]
          },
          "metadata": {},
          "execution_count": 45
        }
      ]
    },
    {
      "cell_type": "markdown",
      "metadata": {
        "id": "j8vTaDiXUR4W"
      },
      "source": [
        "#Identificando os 5 itens mais lucrativos pelo valor total de compra:\n",
        "\n",
        "* ID do item\n",
        "* Nome do item\n",
        "* Número de compras\n",
        "* Preço do item\n",
        "* Valor Total de Compra\n"
      ]
    },
    {
      "cell_type": "markdown",
      "metadata": {
        "id": "qXU8c8MDokzm"
      },
      "source": [
        "**Observação**: Um mesmo nome de item pode ter IDs diferentes. Dessa forma, podemos calcular os itens mais lucrativos por IDs ou por nomes de itens. Abaixo foram calculadas das duas maneiras, sendo possível, portanto, observar a diferença entre os resultados."
      ]
    },
    {
      "cell_type": "markdown",
      "metadata": {
        "id": "h0I1iUknfRsH"
      },
      "source": [
        "Itens mais lucrativos por ID do Item:"
      ]
    },
    {
      "cell_type": "code",
      "metadata": {
        "colab": {
          "base_uri": "https://localhost:8080/",
          "height": 204
        },
        "id": "lfo_z-gLpjdJ",
        "outputId": "e8fa1c59-8da7-463d-bb89-acbab270b2b7"
      },
      "source": [
        "# Itens mais lucrativos por Item ID\n",
        "\n",
        "total_value = purchase_file.groupby(['Item ID']).sum()['Valor'].reset_index().rename(columns={'Valor':'Valor Total de Compra'}) # Valor total de compra por Item\n",
        "name_n_value = purchase_file[['Nome do Item','Valor', 'Item ID']].drop_duplicates(subset='Item ID').reset_index(drop=True) # Nome e Valor de cada Item por ID (nomes duplicados podem ser encontrados, visto que podem ter IDs diferentes)\n",
        "purchases_num = purchase_file[['Nome do Item', 'Item ID', 'Valor']].value_counts(subset='Item ID').reset_index().rename(columns={0:'Número de Compras'}) # Número de compras de cada Item (por ID)\n",
        "\n",
        "# Joining dataframes\n",
        "purchases_num = purchases_num.set_index('Item ID').join(name_n_value.set_index('Item ID'))\n",
        "purchases_num = purchases_num.join(total_value.set_index('Item ID')).reset_index()\n",
        "purchases_num = purchases_num[['Item ID', 'Nome do Item', 'Valor', 'Número de Compras', 'Valor Total de Compra']].sort_values(by='Item ID') # to facilitate visualization, if needed\n",
        "\n",
        "# top 5\n",
        "purchases_num.sort_values(by='Valor Total de Compra', ascending=False).head().reset_index(drop=True)"
      ],
      "execution_count": null,
      "outputs": [
        {
          "output_type": "execute_result",
          "data": {
            "text/html": [
              "<div>\n",
              "<style scoped>\n",
              "    .dataframe tbody tr th:only-of-type {\n",
              "        vertical-align: middle;\n",
              "    }\n",
              "\n",
              "    .dataframe tbody tr th {\n",
              "        vertical-align: top;\n",
              "    }\n",
              "\n",
              "    .dataframe thead th {\n",
              "        text-align: right;\n",
              "    }\n",
              "</style>\n",
              "<table border=\"1\" class=\"dataframe\">\n",
              "  <thead>\n",
              "    <tr style=\"text-align: right;\">\n",
              "      <th></th>\n",
              "      <th>Item ID</th>\n",
              "      <th>Nome do Item</th>\n",
              "      <th>Valor</th>\n",
              "      <th>Número de Compras</th>\n",
              "      <th>Valor Total de Compra</th>\n",
              "    </tr>\n",
              "  </thead>\n",
              "  <tbody>\n",
              "    <tr>\n",
              "      <th>0</th>\n",
              "      <td>34</td>\n",
              "      <td>Retribution Axe</td>\n",
              "      <td>4.14</td>\n",
              "      <td>9</td>\n",
              "      <td>37.26</td>\n",
              "    </tr>\n",
              "    <tr>\n",
              "      <th>1</th>\n",
              "      <td>115</td>\n",
              "      <td>Spectral Diamond Doomblade</td>\n",
              "      <td>4.25</td>\n",
              "      <td>7</td>\n",
              "      <td>29.75</td>\n",
              "    </tr>\n",
              "    <tr>\n",
              "      <th>2</th>\n",
              "      <td>32</td>\n",
              "      <td>Orenmir</td>\n",
              "      <td>4.95</td>\n",
              "      <td>6</td>\n",
              "      <td>29.70</td>\n",
              "    </tr>\n",
              "    <tr>\n",
              "      <th>3</th>\n",
              "      <td>103</td>\n",
              "      <td>Singed Scalpel</td>\n",
              "      <td>4.87</td>\n",
              "      <td>6</td>\n",
              "      <td>29.22</td>\n",
              "    </tr>\n",
              "    <tr>\n",
              "      <th>4</th>\n",
              "      <td>107</td>\n",
              "      <td>Splitter, Foe Of Subtlety</td>\n",
              "      <td>3.61</td>\n",
              "      <td>8</td>\n",
              "      <td>28.88</td>\n",
              "    </tr>\n",
              "  </tbody>\n",
              "</table>\n",
              "</div>"
            ],
            "text/plain": [
              "   Item ID  ... Valor Total de Compra\n",
              "0       34  ...                 37.26\n",
              "1      115  ...                 29.75\n",
              "2       32  ...                 29.70\n",
              "3      103  ...                 29.22\n",
              "4      107  ...                 28.88\n",
              "\n",
              "[5 rows x 5 columns]"
            ]
          },
          "metadata": {},
          "execution_count": 65
        }
      ]
    },
    {
      "cell_type": "markdown",
      "metadata": {
        "id": "0_owz89ZfVnH"
      },
      "source": [
        "Itens mais lucrativos por Nome do Item:"
      ]
    },
    {
      "cell_type": "code",
      "metadata": {
        "id": "qn8u_4Ow7GSW"
      },
      "source": [
        "# Itens mais lucrativos por Nome do Item\n",
        "\n",
        "# Nome do Item e Valor Total de Compra de cada um\n",
        "user_total = purchase_file.groupby([\"Nome do Item\"]).sum()[\"Valor\"].rename(\"Valor Total de Compra\")\n",
        "user_total = user_total.reset_index().reset_index(drop=True)\n",
        "\n",
        "# Número de compras de cada item por nome\n",
        "name_item_num = purchase_file['Nome do Item'].value_counts().reset_index().rename(columns={'index':'Nome do Item', 'Nome do Item':'Número de Compras'})\n",
        "\n",
        "# Valor de cada item (por nome)\n",
        "name_item_value = purchase_file[['Nome do Item','Valor']].drop_duplicates(subset='Nome do Item').reset_index(drop=True) # Nome e Valor de cada Item por nome\n",
        "\n",
        "# Joining dataframes\n",
        "user_total = user_total.set_index('Nome do Item').join(name_item_num.set_index('Nome do Item')).reset_index()\n",
        "user_total = user_total[['Nome do Item', 'Número de Compras', 'Valor Total de Compra']]\n",
        "\n",
        "# Top 5\n",
        "#display(user_total.sort_values(by='Valor Total de Compra', ascending=False).head().reset_index(drop=True))"
      ],
      "execution_count": null,
      "outputs": []
    },
    {
      "cell_type": "code",
      "metadata": {
        "id": "8oC9mlhz83hE"
      },
      "source": [
        "# Valor de cada item (por nome)\n",
        "name_item_value = purchase_file[['Nome do Item','Valor', 'Item ID']].drop_duplicates(subset=['Nome do Item', 'Valor']).reset_index(drop=True) # Nome e Valor de cada Item por nome\n",
        "#display(name_item_value)"
      ],
      "execution_count": null,
      "outputs": []
    },
    {
      "cell_type": "code",
      "metadata": {
        "id": "QfUKnnThWYKR"
      },
      "source": [
        "# Formação de dicionários\n",
        "\n",
        "values = {} # guarda os preços do item\n",
        "ids = {} # guarda os IDs do item"
      ],
      "execution_count": null,
      "outputs": []
    },
    {
      "cell_type": "code",
      "metadata": {
        "id": "mFqfG5FpWuPx"
      },
      "source": [
        "for i in range(len(name_item_value)):\n",
        "  name = name_item_value['Nome do Item'][i]\n",
        "  value = name_item_value['Valor'][i]\n",
        "  id = name_item_value['Item ID'][i]\n",
        "  if name not in values.keys():\n",
        "    values[name] = [value]\n",
        "    ids[name] = [id]\n",
        "  if name in values.keys() and value not in values[name]:\n",
        "    values[name].append(value)\n",
        "    ids[name].append(id)"
      ],
      "execution_count": null,
      "outputs": []
    },
    {
      "cell_type": "code",
      "metadata": {
        "id": "pOPOy7gfWitq"
      },
      "source": [
        "# Funções para formatação da apresentação de dados\n",
        "\n",
        "# formatação da exibição dos valores\n",
        "def convert_prices(a):\n",
        "  '''\n",
        "  to make use of this function, make sure that you \n",
        "  are using valid values (i.e., not 'NaN' values or\n",
        "  other non-numeric data types)\n",
        "  '''\n",
        "  string = f'${round(a[0], 2)}'\n",
        "  for j in a[1:]:\n",
        "    string += f', ${round(j, 2)}'\n",
        "  return string\n",
        "\n",
        "# formatação da exibição dos IDs\n",
        "def convert_ids(a):\n",
        "  '''\n",
        "  to make use of this function, make sure that you \n",
        "  are using valid values (i.e., not 'NaN' values or\n",
        "  other non-numeric data types)\n",
        "  '''\n",
        "  string = f'{round(a[0], 2)}'\n",
        "  for j in a[1:]:\n",
        "    string += f', {round(j, 2)}'\n",
        "  return string"
      ],
      "execution_count": null,
      "outputs": []
    },
    {
      "cell_type": "code",
      "metadata": {
        "id": "IIqqp74g9iSf"
      },
      "source": [
        "# Formação de um dataframe\n",
        "\n",
        "temp = pd.DataFrame()\n",
        "temp['Nome do Item'] = values.keys()\n",
        "temp['Valor(es)'] = np.array(list(values.values()), dtype=object)\n",
        "temp['IDs'] = np.array(list(ids.values()), dtype=object)\n",
        "\n",
        "# Data munging\n",
        "temp['Valor(es)'] = temp['Valor(es)'].map(convert_prices)\n",
        "temp['IDs'] = temp['IDs'].map(convert_ids)\n",
        "\n",
        "#display(temp)"
      ],
      "execution_count": null,
      "outputs": []
    },
    {
      "cell_type": "code",
      "metadata": {
        "id": "Xf3d6J2DY3Qx"
      },
      "source": [
        "# Joining dataframes\n",
        "\n",
        "user_total = user_total.set_index('Nome do Item').join(temp.set_index('Nome do Item'), on='Nome do Item').reset_index()\n",
        "user_total = user_total[['Nome do Item', 'IDs', 'Número de Compras', 'Valor(es)', 'Valor Total de Compra']]\n"
      ],
      "execution_count": null,
      "outputs": []
    },
    {
      "cell_type": "code",
      "metadata": {
        "colab": {
          "base_uri": "https://localhost:8080/",
          "height": 204
        },
        "id": "UANc-4YQeifw",
        "outputId": "89d9491c-4129-4f0f-a8b9-e5f5a6a14c76"
      },
      "source": [
        "# Visualização (Top 5)\n",
        "\n",
        "user_total.sort_values(by='Valor Total de Compra', ascending=False).head().reset_index(drop=True)"
      ],
      "execution_count": null,
      "outputs": [
        {
          "output_type": "execute_result",
          "data": {
            "text/html": [
              "<div>\n",
              "<style scoped>\n",
              "    .dataframe tbody tr th:only-of-type {\n",
              "        vertical-align: middle;\n",
              "    }\n",
              "\n",
              "    .dataframe tbody tr th {\n",
              "        vertical-align: top;\n",
              "    }\n",
              "\n",
              "    .dataframe thead th {\n",
              "        text-align: right;\n",
              "    }\n",
              "</style>\n",
              "<table border=\"1\" class=\"dataframe\">\n",
              "  <thead>\n",
              "    <tr style=\"text-align: right;\">\n",
              "      <th></th>\n",
              "      <th>Nome do Item</th>\n",
              "      <th>IDs</th>\n",
              "      <th>Número de Compras</th>\n",
              "      <th>Valor(es)</th>\n",
              "      <th>Valor Total de Compra</th>\n",
              "    </tr>\n",
              "  </thead>\n",
              "  <tbody>\n",
              "    <tr>\n",
              "      <th>0</th>\n",
              "      <td>Final Critic</td>\n",
              "      <td>92, 101</td>\n",
              "      <td>14</td>\n",
              "      <td>$1.36, $4.62</td>\n",
              "      <td>38.60</td>\n",
              "    </tr>\n",
              "    <tr>\n",
              "      <th>1</th>\n",
              "      <td>Retribution Axe</td>\n",
              "      <td>34</td>\n",
              "      <td>9</td>\n",
              "      <td>$4.14</td>\n",
              "      <td>37.26</td>\n",
              "    </tr>\n",
              "    <tr>\n",
              "      <th>2</th>\n",
              "      <td>Stormcaller</td>\n",
              "      <td>30, 180</td>\n",
              "      <td>10</td>\n",
              "      <td>$4.15, $2.78</td>\n",
              "      <td>34.65</td>\n",
              "    </tr>\n",
              "    <tr>\n",
              "      <th>3</th>\n",
              "      <td>Spectral Diamond Doomblade</td>\n",
              "      <td>115</td>\n",
              "      <td>7</td>\n",
              "      <td>$4.25</td>\n",
              "      <td>29.75</td>\n",
              "    </tr>\n",
              "    <tr>\n",
              "      <th>4</th>\n",
              "      <td>Orenmir</td>\n",
              "      <td>32</td>\n",
              "      <td>6</td>\n",
              "      <td>$4.95</td>\n",
              "      <td>29.70</td>\n",
              "    </tr>\n",
              "  </tbody>\n",
              "</table>\n",
              "</div>"
            ],
            "text/plain": [
              "                 Nome do Item      IDs  ...     Valor(es) Valor Total de Compra\n",
              "0                Final Critic  92, 101  ...  $1.36, $4.62                 38.60\n",
              "1             Retribution Axe       34  ...         $4.14                 37.26\n",
              "2                 Stormcaller  30, 180  ...  $4.15, $2.78                 34.65\n",
              "3  Spectral Diamond Doomblade      115  ...         $4.25                 29.75\n",
              "4                     Orenmir       32  ...         $4.95                 29.70\n",
              "\n",
              "[5 rows x 5 columns]"
            ]
          },
          "metadata": {},
          "execution_count": 235
        }
      ]
    }
  ]
}
