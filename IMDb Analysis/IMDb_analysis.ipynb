{
  "nbformat": 4,
  "nbformat_minor": 0,
  "metadata": {
    "colab": {
      "name": "IMDb_analysis.ipynb",
      "provenance": [],
      "mount_file_id": "1ITyHEL-bJPuf2mLKxaTE1ZK95eVHCDWc",
      "authorship_tag": "ABX9TyPB8XPcoCUcvACRLiSI/Cjw"
    },
    "kernelspec": {
      "display_name": "Python 3",
      "name": "python3"
    },
    "language_info": {
      "name": "python"
    }
  },
  "cells": [
    {
      "cell_type": "markdown",
      "metadata": {
        "id": "Jj9d7uIVn0GH"
      },
      "source": [
        "## Mini-Project - Exploratory Data Analysis with Python an SQL language\n",
        "#### Mini-Projeto - Análise Exploratória de Dados com Python e Linguagem SQL"
      ]
    },
    {
      "cell_type": "markdown",
      "metadata": {
        "id": "5vIA6Eqfbzy0"
      },
      "source": [
        "In this Mini-Project, a basic **exploratory data analysis** is performed using Python, SQL language and SQLite Database. We will use publicly available data, about movies listed in <a href=\"https://www.imdb.com/interfaces/\">IMDb</a>.\n",
        "\n",
        "The 10 questions that guide the exploratory analysis throghout this project are:\n",
        "\n",
        "- 1 - What a are the **most commons** movies categories in IMDb?\n",
        "- 2 - What is the **number of titles** by **genre**?\n",
        "- 3 - What is the **ratings median** of movies by **genre**?\n",
        "- 4 - What is the **median** of movies ratings by **year of release**?\n",
        "- 5 - What is the number of **rated movies** by **genre** related to the **year of release**?\n",
        "- 6 - What is the movie with **longest duration**?\n",
        "- 7 - What is the relation between **duration** and **genre**?\n",
        "- 8 - What is the number of movies produced by a **country**?\n",
        "- 9 - What are the Top 10 **best** movies (according to ratings)?\n",
        "- 10 - What are the Top 10 **worst** movies (according to ratings)?  "
      ]
    },
    {
      "cell_type": "markdown",
      "metadata": {
        "id": "zzBBu2IW6-t3"
      },
      "source": [
        "**Obs**: Some of the cells (like type check cells, for example), commands and comments might look too basic, unecessary or redundant to some more experienced data scientists. This was made intentionaly, in order to help new learners in understanding some aspects of Data Science more easily."
      ]
    },
    {
      "cell_type": "markdown",
      "metadata": {
        "id": "UNWctrsirqNF"
      },
      "source": [
        "## Instaling and Loading Packages\n",
        "#### Instalando e Carregando Pacotes "
      ]
    },
    {
      "cell_type": "markdown",
      "metadata": {
        "id": "FJfTnQjGpewO"
      },
      "source": [
        "##### Main Extra Packages Used (beyond some of the usual ones used in data science, that you can find in the imports cell below):\n",
        "- <a href=\"https://pypi.org/project/imdb-sqlite/\">imdb-sqlite</a> (Imports IMDB TSV files into a SQLite database)\n",
        "- <a href=\"https://pypi.org/project/pycountry/\">pycountry</a>"
      ]
    },
    {
      "cell_type": "code",
      "metadata": {
        "id": "p5Qo5deSn-uU"
      },
      "source": [
        "#Extra packages\n",
        "!pip install -q imdb-sqlite\n",
        "!pip install -q pycountry"
      ],
      "execution_count": null,
      "outputs": []
    },
    {
      "cell_type": "code",
      "metadata": {
        "id": "YqLkBTOgryPy"
      },
      "source": [
        "# Imports\n",
        "import re \n",
        "import time\n",
        "import sqlite3\n",
        "import pycountry\n",
        "import numpy as np\n",
        "import pandas as pd\n",
        "import matplotlib.pyplot as plt\n",
        "import seaborn as sns\n",
        "from matplotlib import cm\n",
        "from sklearn.feature_extraction.text import CountVectorizer\n",
        "import warnings\n",
        "warnings.filterwarnings(\"ignore\")\n",
        "sns.set_theme(style = \"whitegrid\")"
      ],
      "execution_count": 2,
      "outputs": []
    },
    {
      "cell_type": "code",
      "metadata": {
        "colab": {
          "base_uri": "https://localhost:8080/"
        },
        "id": "HsalboJLXZ0p",
        "outputId": "6d5e0126-1429-4b6c-ffcb-67ef518afe50"
      },
      "source": [
        "from platform import python_version\n",
        "print(f'Python version: {python_version()}')"
      ],
      "execution_count": 5,
      "outputs": [
        {
          "output_type": "stream",
          "name": "stdout",
          "text": [
            "Python version: 3.7.12\n"
          ]
        }
      ]
    },
    {
      "cell_type": "code",
      "metadata": {
        "id": "GUNjfGTWhthD",
        "colab": {
          "base_uri": "https://localhost:8080/"
        },
        "outputId": "c68f6ba9-9e3d-4271-c6cb-93183c4cef53"
      },
      "source": [
        "print(f're version: {re.__version__}')\n",
        "print(f'sqlite3 version: {sqlite3.sqlite_version}')\n",
        "print(f'pycountry version: {pycountry.__version__}')\n",
        "print(f'numpy version: {np.__version__}')\n",
        "print(f'pandas: {pd.__version__}')\n",
        "print(f'seaborn version: {sns.__version__}')\n"
      ],
      "execution_count": 17,
      "outputs": [
        {
          "output_type": "stream",
          "name": "stdout",
          "text": [
            "re version: 2.2.1\n",
            "sqlite3 version: 3.22.0\n",
            "pycountry version: 20.7.3\n",
            "numpy version: 1.19.5\n",
            "pandas: 1.1.5\n",
            "seaborn version: 0.11.2\n"
          ]
        }
      ]
    },
    {
      "cell_type": "markdown",
      "metadata": {
        "id": "wk_toUcKp-Mt"
      },
      "source": [
        "## Loading Data\n",
        "#### Carregando os Dados"
      ]
    },
    {
      "cell_type": "code",
      "metadata": {
        "id": "QduY8UgJZRfx"
      },
      "source": [
        "%%time\n",
        "!imdb-sqlite # database provided by IMDb"
      ],
      "execution_count": null,
      "outputs": []
    },
    {
      "cell_type": "code",
      "metadata": {
        "id": "4WAgX9ehqUYk"
      },
      "source": [
        "# Connect to database \n",
        "connection = sqltite.connect(\"imdb.db\")"
      ],
      "execution_count": 19,
      "outputs": []
    },
    {
      "cell_type": "code",
      "metadata": {
        "colab": {
          "base_uri": "https://localhost:8080/"
        },
        "id": "Q3yujW_kqekG",
        "outputId": "e14a33b3-c85b-4f19-ccee-3a8a01285083"
      },
      "source": [
        "# Pull list of tables\n",
        "tables = pd.read_sql_query(\"SELECT NAME AS 'Table_Name' FROM sqlite_master WHERE type='table'\", connection)\n",
        "\n",
        "type(tables)"
      ],
      "execution_count": 20,
      "outputs": [
        {
          "output_type": "execute_result",
          "data": {
            "text/plain": [
              "pandas.core.frame.DataFrame"
            ]
          },
          "metadata": {},
          "execution_count": 20
        }
      ]
    },
    {
      "cell_type": "code",
      "metadata": {
        "colab": {
          "base_uri": "https://localhost:8080/",
          "height": 204
        },
        "id": "nnwU1-LOqfFd",
        "outputId": "2714928d-9dd1-459f-c12b-8efc2e35b8fd"
      },
      "source": [
        "# Result visualization\n",
        "tables.head()"
      ],
      "execution_count": 21,
      "outputs": [
        {
          "output_type": "execute_result",
          "data": {
            "text/html": [
              "<div>\n",
              "<style scoped>\n",
              "    .dataframe tbody tr th:only-of-type {\n",
              "        vertical-align: middle;\n",
              "    }\n",
              "\n",
              "    .dataframe tbody tr th {\n",
              "        vertical-align: top;\n",
              "    }\n",
              "\n",
              "    .dataframe thead th {\n",
              "        text-align: right;\n",
              "    }\n",
              "</style>\n",
              "<table border=\"1\" class=\"dataframe\">\n",
              "  <thead>\n",
              "    <tr style=\"text-align: right;\">\n",
              "      <th></th>\n",
              "      <th>Table_Name</th>\n",
              "    </tr>\n",
              "  </thead>\n",
              "  <tbody>\n",
              "    <tr>\n",
              "      <th>0</th>\n",
              "      <td>people</td>\n",
              "    </tr>\n",
              "    <tr>\n",
              "      <th>1</th>\n",
              "      <td>titles</td>\n",
              "    </tr>\n",
              "    <tr>\n",
              "      <th>2</th>\n",
              "      <td>akas</td>\n",
              "    </tr>\n",
              "    <tr>\n",
              "      <th>3</th>\n",
              "      <td>crew</td>\n",
              "    </tr>\n",
              "    <tr>\n",
              "      <th>4</th>\n",
              "      <td>episodes</td>\n",
              "    </tr>\n",
              "  </tbody>\n",
              "</table>\n",
              "</div>"
            ],
            "text/plain": [
              "  Table_Name\n",
              "0     people\n",
              "1     titles\n",
              "2       akas\n",
              "3       crew\n",
              "4   episodes"
            ]
          },
          "metadata": {},
          "execution_count": 21
        }
      ]
    },
    {
      "cell_type": "code",
      "metadata": {
        "id": "EseFFdLpqfwt"
      },
      "source": [
        "# Converting dataframe into a list\n",
        "tables = tables[\"Table_Name\"].values.tolist()"
      ],
      "execution_count": 22,
      "outputs": []
    },
    {
      "cell_type": "code",
      "metadata": {
        "colab": {
          "base_uri": "https://localhost:8080/",
          "height": 1000
        },
        "id": "2PK-_nUjqgBt",
        "outputId": "6a7dfc00-35cd-4712-c56d-fffa50b9a159"
      },
      "source": [
        "# Scroll through the list of tables in database and extract the scheme of each one\n",
        "for table in tables:\n",
        "  consult = \"PRAGMA TABLE_INFO({})\".format(table)\n",
        "  result = pd.read_sql_query(consult, connection)\n",
        "  print(\"Scheme of table:\", table)\n",
        "  display(result)\n",
        "  print(\"-\"*100)\n",
        "  print(\"\\n\")"
      ],
      "execution_count": 23,
      "outputs": [
        {
          "output_type": "stream",
          "name": "stdout",
          "text": [
            "Scheme of table: people\n"
          ]
        },
        {
          "output_type": "display_data",
          "data": {
            "text/html": [
              "<div>\n",
              "<style scoped>\n",
              "    .dataframe tbody tr th:only-of-type {\n",
              "        vertical-align: middle;\n",
              "    }\n",
              "\n",
              "    .dataframe tbody tr th {\n",
              "        vertical-align: top;\n",
              "    }\n",
              "\n",
              "    .dataframe thead th {\n",
              "        text-align: right;\n",
              "    }\n",
              "</style>\n",
              "<table border=\"1\" class=\"dataframe\">\n",
              "  <thead>\n",
              "    <tr style=\"text-align: right;\">\n",
              "      <th></th>\n",
              "      <th>cid</th>\n",
              "      <th>name</th>\n",
              "      <th>type</th>\n",
              "      <th>notnull</th>\n",
              "      <th>dflt_value</th>\n",
              "      <th>pk</th>\n",
              "    </tr>\n",
              "  </thead>\n",
              "  <tbody>\n",
              "    <tr>\n",
              "      <th>0</th>\n",
              "      <td>0</td>\n",
              "      <td>person_id</td>\n",
              "      <td>VARCHAR</td>\n",
              "      <td>0</td>\n",
              "      <td>None</td>\n",
              "      <td>1</td>\n",
              "    </tr>\n",
              "    <tr>\n",
              "      <th>1</th>\n",
              "      <td>1</td>\n",
              "      <td>name</td>\n",
              "      <td>VARCHAR</td>\n",
              "      <td>0</td>\n",
              "      <td>None</td>\n",
              "      <td>0</td>\n",
              "    </tr>\n",
              "    <tr>\n",
              "      <th>2</th>\n",
              "      <td>2</td>\n",
              "      <td>born</td>\n",
              "      <td>INTEGER</td>\n",
              "      <td>0</td>\n",
              "      <td>None</td>\n",
              "      <td>0</td>\n",
              "    </tr>\n",
              "    <tr>\n",
              "      <th>3</th>\n",
              "      <td>3</td>\n",
              "      <td>died</td>\n",
              "      <td>INTEGER</td>\n",
              "      <td>0</td>\n",
              "      <td>None</td>\n",
              "      <td>0</td>\n",
              "    </tr>\n",
              "  </tbody>\n",
              "</table>\n",
              "</div>"
            ],
            "text/plain": [
              "   cid       name     type  notnull dflt_value  pk\n",
              "0    0  person_id  VARCHAR        0       None   1\n",
              "1    1       name  VARCHAR        0       None   0\n",
              "2    2       born  INTEGER        0       None   0\n",
              "3    3       died  INTEGER        0       None   0"
            ]
          },
          "metadata": {}
        },
        {
          "output_type": "stream",
          "name": "stdout",
          "text": [
            "----------------------------------------------------------------------------------------------------\n",
            "\n",
            "\n",
            "Scheme of table: titles\n"
          ]
        },
        {
          "output_type": "display_data",
          "data": {
            "text/html": [
              "<div>\n",
              "<style scoped>\n",
              "    .dataframe tbody tr th:only-of-type {\n",
              "        vertical-align: middle;\n",
              "    }\n",
              "\n",
              "    .dataframe tbody tr th {\n",
              "        vertical-align: top;\n",
              "    }\n",
              "\n",
              "    .dataframe thead th {\n",
              "        text-align: right;\n",
              "    }\n",
              "</style>\n",
              "<table border=\"1\" class=\"dataframe\">\n",
              "  <thead>\n",
              "    <tr style=\"text-align: right;\">\n",
              "      <th></th>\n",
              "      <th>cid</th>\n",
              "      <th>name</th>\n",
              "      <th>type</th>\n",
              "      <th>notnull</th>\n",
              "      <th>dflt_value</th>\n",
              "      <th>pk</th>\n",
              "    </tr>\n",
              "  </thead>\n",
              "  <tbody>\n",
              "    <tr>\n",
              "      <th>0</th>\n",
              "      <td>0</td>\n",
              "      <td>title_id</td>\n",
              "      <td>VARCHAR</td>\n",
              "      <td>0</td>\n",
              "      <td>None</td>\n",
              "      <td>1</td>\n",
              "    </tr>\n",
              "    <tr>\n",
              "      <th>1</th>\n",
              "      <td>1</td>\n",
              "      <td>type</td>\n",
              "      <td>VARCHAR</td>\n",
              "      <td>0</td>\n",
              "      <td>None</td>\n",
              "      <td>0</td>\n",
              "    </tr>\n",
              "    <tr>\n",
              "      <th>2</th>\n",
              "      <td>2</td>\n",
              "      <td>primary_title</td>\n",
              "      <td>VARCHAR</td>\n",
              "      <td>0</td>\n",
              "      <td>None</td>\n",
              "      <td>0</td>\n",
              "    </tr>\n",
              "    <tr>\n",
              "      <th>3</th>\n",
              "      <td>3</td>\n",
              "      <td>original_title</td>\n",
              "      <td>VARCHAR</td>\n",
              "      <td>0</td>\n",
              "      <td>None</td>\n",
              "      <td>0</td>\n",
              "    </tr>\n",
              "    <tr>\n",
              "      <th>4</th>\n",
              "      <td>4</td>\n",
              "      <td>is_adult</td>\n",
              "      <td>INTEGER</td>\n",
              "      <td>0</td>\n",
              "      <td>None</td>\n",
              "      <td>0</td>\n",
              "    </tr>\n",
              "    <tr>\n",
              "      <th>5</th>\n",
              "      <td>5</td>\n",
              "      <td>premiered</td>\n",
              "      <td>INTEGER</td>\n",
              "      <td>0</td>\n",
              "      <td>None</td>\n",
              "      <td>0</td>\n",
              "    </tr>\n",
              "    <tr>\n",
              "      <th>6</th>\n",
              "      <td>6</td>\n",
              "      <td>ended</td>\n",
              "      <td>INTEGER</td>\n",
              "      <td>0</td>\n",
              "      <td>None</td>\n",
              "      <td>0</td>\n",
              "    </tr>\n",
              "    <tr>\n",
              "      <th>7</th>\n",
              "      <td>7</td>\n",
              "      <td>runtime_minutes</td>\n",
              "      <td>INTEGER</td>\n",
              "      <td>0</td>\n",
              "      <td>None</td>\n",
              "      <td>0</td>\n",
              "    </tr>\n",
              "    <tr>\n",
              "      <th>8</th>\n",
              "      <td>8</td>\n",
              "      <td>genres</td>\n",
              "      <td>VARCHAR</td>\n",
              "      <td>0</td>\n",
              "      <td>None</td>\n",
              "      <td>0</td>\n",
              "    </tr>\n",
              "  </tbody>\n",
              "</table>\n",
              "</div>"
            ],
            "text/plain": [
              "   cid             name     type  notnull dflt_value  pk\n",
              "0    0         title_id  VARCHAR        0       None   1\n",
              "1    1             type  VARCHAR        0       None   0\n",
              "2    2    primary_title  VARCHAR        0       None   0\n",
              "3    3   original_title  VARCHAR        0       None   0\n",
              "4    4         is_adult  INTEGER        0       None   0\n",
              "5    5        premiered  INTEGER        0       None   0\n",
              "6    6            ended  INTEGER        0       None   0\n",
              "7    7  runtime_minutes  INTEGER        0       None   0\n",
              "8    8           genres  VARCHAR        0       None   0"
            ]
          },
          "metadata": {}
        },
        {
          "output_type": "stream",
          "name": "stdout",
          "text": [
            "----------------------------------------------------------------------------------------------------\n",
            "\n",
            "\n",
            "Scheme of table: akas\n"
          ]
        },
        {
          "output_type": "display_data",
          "data": {
            "text/html": [
              "<div>\n",
              "<style scoped>\n",
              "    .dataframe tbody tr th:only-of-type {\n",
              "        vertical-align: middle;\n",
              "    }\n",
              "\n",
              "    .dataframe tbody tr th {\n",
              "        vertical-align: top;\n",
              "    }\n",
              "\n",
              "    .dataframe thead th {\n",
              "        text-align: right;\n",
              "    }\n",
              "</style>\n",
              "<table border=\"1\" class=\"dataframe\">\n",
              "  <thead>\n",
              "    <tr style=\"text-align: right;\">\n",
              "      <th></th>\n",
              "      <th>cid</th>\n",
              "      <th>name</th>\n",
              "      <th>type</th>\n",
              "      <th>notnull</th>\n",
              "      <th>dflt_value</th>\n",
              "      <th>pk</th>\n",
              "    </tr>\n",
              "  </thead>\n",
              "  <tbody>\n",
              "    <tr>\n",
              "      <th>0</th>\n",
              "      <td>0</td>\n",
              "      <td>title_id</td>\n",
              "      <td>VARCHAR</td>\n",
              "      <td>0</td>\n",
              "      <td>None</td>\n",
              "      <td>0</td>\n",
              "    </tr>\n",
              "    <tr>\n",
              "      <th>1</th>\n",
              "      <td>1</td>\n",
              "      <td>title</td>\n",
              "      <td>VARCHAR</td>\n",
              "      <td>0</td>\n",
              "      <td>None</td>\n",
              "      <td>0</td>\n",
              "    </tr>\n",
              "    <tr>\n",
              "      <th>2</th>\n",
              "      <td>2</td>\n",
              "      <td>region</td>\n",
              "      <td>VARCHAR</td>\n",
              "      <td>0</td>\n",
              "      <td>None</td>\n",
              "      <td>0</td>\n",
              "    </tr>\n",
              "    <tr>\n",
              "      <th>3</th>\n",
              "      <td>3</td>\n",
              "      <td>language</td>\n",
              "      <td>VARCHAR</td>\n",
              "      <td>0</td>\n",
              "      <td>None</td>\n",
              "      <td>0</td>\n",
              "    </tr>\n",
              "    <tr>\n",
              "      <th>4</th>\n",
              "      <td>4</td>\n",
              "      <td>types</td>\n",
              "      <td>VARCHAR</td>\n",
              "      <td>0</td>\n",
              "      <td>None</td>\n",
              "      <td>0</td>\n",
              "    </tr>\n",
              "    <tr>\n",
              "      <th>5</th>\n",
              "      <td>5</td>\n",
              "      <td>attributes</td>\n",
              "      <td>VARCHAR</td>\n",
              "      <td>0</td>\n",
              "      <td>None</td>\n",
              "      <td>0</td>\n",
              "    </tr>\n",
              "    <tr>\n",
              "      <th>6</th>\n",
              "      <td>6</td>\n",
              "      <td>is_original_title</td>\n",
              "      <td>INTEGER</td>\n",
              "      <td>0</td>\n",
              "      <td>None</td>\n",
              "      <td>0</td>\n",
              "    </tr>\n",
              "  </tbody>\n",
              "</table>\n",
              "</div>"
            ],
            "text/plain": [
              "   cid               name     type  notnull dflt_value  pk\n",
              "0    0           title_id  VARCHAR        0       None   0\n",
              "1    1              title  VARCHAR        0       None   0\n",
              "2    2             region  VARCHAR        0       None   0\n",
              "3    3           language  VARCHAR        0       None   0\n",
              "4    4              types  VARCHAR        0       None   0\n",
              "5    5         attributes  VARCHAR        0       None   0\n",
              "6    6  is_original_title  INTEGER        0       None   0"
            ]
          },
          "metadata": {}
        },
        {
          "output_type": "stream",
          "name": "stdout",
          "text": [
            "----------------------------------------------------------------------------------------------------\n",
            "\n",
            "\n",
            "Scheme of table: crew\n"
          ]
        },
        {
          "output_type": "display_data",
          "data": {
            "text/html": [
              "<div>\n",
              "<style scoped>\n",
              "    .dataframe tbody tr th:only-of-type {\n",
              "        vertical-align: middle;\n",
              "    }\n",
              "\n",
              "    .dataframe tbody tr th {\n",
              "        vertical-align: top;\n",
              "    }\n",
              "\n",
              "    .dataframe thead th {\n",
              "        text-align: right;\n",
              "    }\n",
              "</style>\n",
              "<table border=\"1\" class=\"dataframe\">\n",
              "  <thead>\n",
              "    <tr style=\"text-align: right;\">\n",
              "      <th></th>\n",
              "      <th>cid</th>\n",
              "      <th>name</th>\n",
              "      <th>type</th>\n",
              "      <th>notnull</th>\n",
              "      <th>dflt_value</th>\n",
              "      <th>pk</th>\n",
              "    </tr>\n",
              "  </thead>\n",
              "  <tbody>\n",
              "    <tr>\n",
              "      <th>0</th>\n",
              "      <td>0</td>\n",
              "      <td>title_id</td>\n",
              "      <td>VARCHAR</td>\n",
              "      <td>0</td>\n",
              "      <td>None</td>\n",
              "      <td>0</td>\n",
              "    </tr>\n",
              "    <tr>\n",
              "      <th>1</th>\n",
              "      <td>1</td>\n",
              "      <td>person_id</td>\n",
              "      <td>VARCHAR</td>\n",
              "      <td>0</td>\n",
              "      <td>None</td>\n",
              "      <td>0</td>\n",
              "    </tr>\n",
              "    <tr>\n",
              "      <th>2</th>\n",
              "      <td>2</td>\n",
              "      <td>category</td>\n",
              "      <td>VARCHAR</td>\n",
              "      <td>0</td>\n",
              "      <td>None</td>\n",
              "      <td>0</td>\n",
              "    </tr>\n",
              "    <tr>\n",
              "      <th>3</th>\n",
              "      <td>3</td>\n",
              "      <td>job</td>\n",
              "      <td>VARCHAR</td>\n",
              "      <td>0</td>\n",
              "      <td>None</td>\n",
              "      <td>0</td>\n",
              "    </tr>\n",
              "    <tr>\n",
              "      <th>4</th>\n",
              "      <td>4</td>\n",
              "      <td>characters</td>\n",
              "      <td>VARCHAR</td>\n",
              "      <td>0</td>\n",
              "      <td>None</td>\n",
              "      <td>0</td>\n",
              "    </tr>\n",
              "  </tbody>\n",
              "</table>\n",
              "</div>"
            ],
            "text/plain": [
              "   cid        name     type  notnull dflt_value  pk\n",
              "0    0    title_id  VARCHAR        0       None   0\n",
              "1    1   person_id  VARCHAR        0       None   0\n",
              "2    2    category  VARCHAR        0       None   0\n",
              "3    3         job  VARCHAR        0       None   0\n",
              "4    4  characters  VARCHAR        0       None   0"
            ]
          },
          "metadata": {}
        },
        {
          "output_type": "stream",
          "name": "stdout",
          "text": [
            "----------------------------------------------------------------------------------------------------\n",
            "\n",
            "\n",
            "Scheme of table: episodes\n"
          ]
        },
        {
          "output_type": "display_data",
          "data": {
            "text/html": [
              "<div>\n",
              "<style scoped>\n",
              "    .dataframe tbody tr th:only-of-type {\n",
              "        vertical-align: middle;\n",
              "    }\n",
              "\n",
              "    .dataframe tbody tr th {\n",
              "        vertical-align: top;\n",
              "    }\n",
              "\n",
              "    .dataframe thead th {\n",
              "        text-align: right;\n",
              "    }\n",
              "</style>\n",
              "<table border=\"1\" class=\"dataframe\">\n",
              "  <thead>\n",
              "    <tr style=\"text-align: right;\">\n",
              "      <th></th>\n",
              "      <th>cid</th>\n",
              "      <th>name</th>\n",
              "      <th>type</th>\n",
              "      <th>notnull</th>\n",
              "      <th>dflt_value</th>\n",
              "      <th>pk</th>\n",
              "    </tr>\n",
              "  </thead>\n",
              "  <tbody>\n",
              "    <tr>\n",
              "      <th>0</th>\n",
              "      <td>0</td>\n",
              "      <td>episode_title_id</td>\n",
              "      <td>INTEGER</td>\n",
              "      <td>0</td>\n",
              "      <td>None</td>\n",
              "      <td>0</td>\n",
              "    </tr>\n",
              "    <tr>\n",
              "      <th>1</th>\n",
              "      <td>1</td>\n",
              "      <td>show_title_id</td>\n",
              "      <td>INTEGER</td>\n",
              "      <td>0</td>\n",
              "      <td>None</td>\n",
              "      <td>0</td>\n",
              "    </tr>\n",
              "    <tr>\n",
              "      <th>2</th>\n",
              "      <td>2</td>\n",
              "      <td>season_number</td>\n",
              "      <td>INTEGER</td>\n",
              "      <td>0</td>\n",
              "      <td>None</td>\n",
              "      <td>0</td>\n",
              "    </tr>\n",
              "    <tr>\n",
              "      <th>3</th>\n",
              "      <td>3</td>\n",
              "      <td>eposide_number</td>\n",
              "      <td>INTEGER</td>\n",
              "      <td>0</td>\n",
              "      <td>None</td>\n",
              "      <td>0</td>\n",
              "    </tr>\n",
              "  </tbody>\n",
              "</table>\n",
              "</div>"
            ],
            "text/plain": [
              "   cid              name     type  notnull dflt_value  pk\n",
              "0    0  episode_title_id  INTEGER        0       None   0\n",
              "1    1     show_title_id  INTEGER        0       None   0\n",
              "2    2     season_number  INTEGER        0       None   0\n",
              "3    3    eposide_number  INTEGER        0       None   0"
            ]
          },
          "metadata": {}
        },
        {
          "output_type": "stream",
          "name": "stdout",
          "text": [
            "----------------------------------------------------------------------------------------------------\n",
            "\n",
            "\n",
            "Scheme of table: ratings\n"
          ]
        },
        {
          "output_type": "display_data",
          "data": {
            "text/html": [
              "<div>\n",
              "<style scoped>\n",
              "    .dataframe tbody tr th:only-of-type {\n",
              "        vertical-align: middle;\n",
              "    }\n",
              "\n",
              "    .dataframe tbody tr th {\n",
              "        vertical-align: top;\n",
              "    }\n",
              "\n",
              "    .dataframe thead th {\n",
              "        text-align: right;\n",
              "    }\n",
              "</style>\n",
              "<table border=\"1\" class=\"dataframe\">\n",
              "  <thead>\n",
              "    <tr style=\"text-align: right;\">\n",
              "      <th></th>\n",
              "      <th>cid</th>\n",
              "      <th>name</th>\n",
              "      <th>type</th>\n",
              "      <th>notnull</th>\n",
              "      <th>dflt_value</th>\n",
              "      <th>pk</th>\n",
              "    </tr>\n",
              "  </thead>\n",
              "  <tbody>\n",
              "    <tr>\n",
              "      <th>0</th>\n",
              "      <td>0</td>\n",
              "      <td>title_id</td>\n",
              "      <td>VARCHAR</td>\n",
              "      <td>0</td>\n",
              "      <td>None</td>\n",
              "      <td>1</td>\n",
              "    </tr>\n",
              "    <tr>\n",
              "      <th>1</th>\n",
              "      <td>1</td>\n",
              "      <td>rating</td>\n",
              "      <td>INTEGER</td>\n",
              "      <td>0</td>\n",
              "      <td>None</td>\n",
              "      <td>0</td>\n",
              "    </tr>\n",
              "    <tr>\n",
              "      <th>2</th>\n",
              "      <td>2</td>\n",
              "      <td>votes</td>\n",
              "      <td>INTEGER</td>\n",
              "      <td>0</td>\n",
              "      <td>None</td>\n",
              "      <td>0</td>\n",
              "    </tr>\n",
              "  </tbody>\n",
              "</table>\n",
              "</div>"
            ],
            "text/plain": [
              "   cid      name     type  notnull dflt_value  pk\n",
              "0    0  title_id  VARCHAR        0       None   1\n",
              "1    1    rating  INTEGER        0       None   0\n",
              "2    2     votes  INTEGER        0       None   0"
            ]
          },
          "metadata": {}
        },
        {
          "output_type": "stream",
          "name": "stdout",
          "text": [
            "----------------------------------------------------------------------------------------------------\n",
            "\n",
            "\n"
          ]
        }
      ]
    },
    {
      "cell_type": "markdown",
      "metadata": {
        "id": "4u7j7W1zh0Se"
      },
      "source": [
        "## 1 - What a are the most commons movies categories in IMDb?\n",
        "#### 1- Quais São as Categorias de Filmes Mais Comuns no IMDB?\n",
        "##### What are the main categories of titles (movies)?"
      ]
    },
    {
      "cell_type": "code",
      "metadata": {
        "id": "1FdvktQgqgRd"
      },
      "source": [
        "# Created SQL query\n",
        "consult_1 = '''SELECT type, COUNT(*) AS COUNT FROM titles GROUP BY type'''"
      ],
      "execution_count": 24,
      "outputs": []
    },
    {
      "cell_type": "code",
      "metadata": {
        "id": "P_YXpUM5qgtd"
      },
      "source": [
        "# Pull off the result\n",
        "result_1 = pd.read_sql_query(consult_1, connection)"
      ],
      "execution_count": 25,
      "outputs": []
    },
    {
      "cell_type": "code",
      "metadata": {
        "colab": {
          "base_uri": "https://localhost:8080/",
          "height": 421
        },
        "id": "PHbZNKj7hmsT",
        "outputId": "952cb5e7-8901-42d8-eeda-0eb9861ad6ed"
      },
      "source": [
        "display(result_1)"
      ],
      "execution_count": 26,
      "outputs": [
        {
          "output_type": "display_data",
          "data": {
            "text/html": [
              "<div>\n",
              "<style scoped>\n",
              "    .dataframe tbody tr th:only-of-type {\n",
              "        vertical-align: middle;\n",
              "    }\n",
              "\n",
              "    .dataframe tbody tr th {\n",
              "        vertical-align: top;\n",
              "    }\n",
              "\n",
              "    .dataframe thead th {\n",
              "        text-align: right;\n",
              "    }\n",
              "</style>\n",
              "<table border=\"1\" class=\"dataframe\">\n",
              "  <thead>\n",
              "    <tr style=\"text-align: right;\">\n",
              "      <th></th>\n",
              "      <th>type</th>\n",
              "      <th>COUNT</th>\n",
              "    </tr>\n",
              "  </thead>\n",
              "  <tbody>\n",
              "    <tr>\n",
              "      <th>0</th>\n",
              "      <td>movie</td>\n",
              "      <td>590862</td>\n",
              "    </tr>\n",
              "    <tr>\n",
              "      <th>1</th>\n",
              "      <td>radioEpisode</td>\n",
              "      <td>1</td>\n",
              "    </tr>\n",
              "    <tr>\n",
              "      <th>2</th>\n",
              "      <td>short</td>\n",
              "      <td>835849</td>\n",
              "    </tr>\n",
              "    <tr>\n",
              "      <th>3</th>\n",
              "      <td>tvEpisode</td>\n",
              "      <td>6137573</td>\n",
              "    </tr>\n",
              "    <tr>\n",
              "      <th>4</th>\n",
              "      <td>tvMiniSeries</td>\n",
              "      <td>40194</td>\n",
              "    </tr>\n",
              "    <tr>\n",
              "      <th>5</th>\n",
              "      <td>tvMovie</td>\n",
              "      <td>133295</td>\n",
              "    </tr>\n",
              "    <tr>\n",
              "      <th>6</th>\n",
              "      <td>tvPilot</td>\n",
              "      <td>2</td>\n",
              "    </tr>\n",
              "    <tr>\n",
              "      <th>7</th>\n",
              "      <td>tvSeries</td>\n",
              "      <td>216547</td>\n",
              "    </tr>\n",
              "    <tr>\n",
              "      <th>8</th>\n",
              "      <td>tvShort</td>\n",
              "      <td>10334</td>\n",
              "    </tr>\n",
              "    <tr>\n",
              "      <th>9</th>\n",
              "      <td>tvSpecial</td>\n",
              "      <td>34471</td>\n",
              "    </tr>\n",
              "    <tr>\n",
              "      <th>10</th>\n",
              "      <td>video</td>\n",
              "      <td>324858</td>\n",
              "    </tr>\n",
              "    <tr>\n",
              "      <th>11</th>\n",
              "      <td>videoGame</td>\n",
              "      <td>29472</td>\n",
              "    </tr>\n",
              "  </tbody>\n",
              "</table>\n",
              "</div>"
            ],
            "text/plain": [
              "            type    COUNT\n",
              "0          movie   590862\n",
              "1   radioEpisode        1\n",
              "2          short   835849\n",
              "3      tvEpisode  6137573\n",
              "4   tvMiniSeries    40194\n",
              "5        tvMovie   133295\n",
              "6        tvPilot        2\n",
              "7       tvSeries   216547\n",
              "8        tvShort    10334\n",
              "9      tvSpecial    34471\n",
              "10         video   324858\n",
              "11     videoGame    29472"
            ]
          },
          "metadata": {}
        }
      ]
    },
    {
      "cell_type": "code",
      "metadata": {
        "id": "QZz8rdbdhnLR"
      },
      "source": [
        "# Computing the percentile of each type\n",
        "result_1['percentage_1'] = (result_1['COUNT'] / result_1['COUNT'].sum()) * 100"
      ],
      "execution_count": 27,
      "outputs": []
    },
    {
      "cell_type": "code",
      "metadata": {
        "colab": {
          "base_uri": "https://localhost:8080/",
          "height": 421
        },
        "id": "xnapJxkZhneO",
        "outputId": "c04db312-828c-4d1f-ba53-53112f2bd878"
      },
      "source": [
        "display(result_1)"
      ],
      "execution_count": 28,
      "outputs": [
        {
          "output_type": "display_data",
          "data": {
            "text/html": [
              "<div>\n",
              "<style scoped>\n",
              "    .dataframe tbody tr th:only-of-type {\n",
              "        vertical-align: middle;\n",
              "    }\n",
              "\n",
              "    .dataframe tbody tr th {\n",
              "        vertical-align: top;\n",
              "    }\n",
              "\n",
              "    .dataframe thead th {\n",
              "        text-align: right;\n",
              "    }\n",
              "</style>\n",
              "<table border=\"1\" class=\"dataframe\">\n",
              "  <thead>\n",
              "    <tr style=\"text-align: right;\">\n",
              "      <th></th>\n",
              "      <th>type</th>\n",
              "      <th>COUNT</th>\n",
              "      <th>percentage_1</th>\n",
              "    </tr>\n",
              "  </thead>\n",
              "  <tbody>\n",
              "    <tr>\n",
              "      <th>0</th>\n",
              "      <td>movie</td>\n",
              "      <td>590862</td>\n",
              "      <td>7.073262</td>\n",
              "    </tr>\n",
              "    <tr>\n",
              "      <th>1</th>\n",
              "      <td>radioEpisode</td>\n",
              "      <td>1</td>\n",
              "      <td>0.000012</td>\n",
              "    </tr>\n",
              "    <tr>\n",
              "      <th>2</th>\n",
              "      <td>short</td>\n",
              "      <td>835849</td>\n",
              "      <td>10.006024</td>\n",
              "    </tr>\n",
              "    <tr>\n",
              "      <th>3</th>\n",
              "      <td>tvEpisode</td>\n",
              "      <td>6137573</td>\n",
              "      <td>73.473441</td>\n",
              "    </tr>\n",
              "    <tr>\n",
              "      <th>4</th>\n",
              "      <td>tvMiniSeries</td>\n",
              "      <td>40194</td>\n",
              "      <td>0.481166</td>\n",
              "    </tr>\n",
              "    <tr>\n",
              "      <th>5</th>\n",
              "      <td>tvMovie</td>\n",
              "      <td>133295</td>\n",
              "      <td>1.595686</td>\n",
              "    </tr>\n",
              "    <tr>\n",
              "      <th>6</th>\n",
              "      <td>tvPilot</td>\n",
              "      <td>2</td>\n",
              "      <td>0.000024</td>\n",
              "    </tr>\n",
              "    <tr>\n",
              "      <th>7</th>\n",
              "      <td>tvSeries</td>\n",
              "      <td>216547</td>\n",
              "      <td>2.592304</td>\n",
              "    </tr>\n",
              "    <tr>\n",
              "      <th>8</th>\n",
              "      <td>tvShort</td>\n",
              "      <td>10334</td>\n",
              "      <td>0.123709</td>\n",
              "    </tr>\n",
              "    <tr>\n",
              "      <th>9</th>\n",
              "      <td>tvSpecial</td>\n",
              "      <td>34471</td>\n",
              "      <td>0.412655</td>\n",
              "    </tr>\n",
              "    <tr>\n",
              "      <th>10</th>\n",
              "      <td>video</td>\n",
              "      <td>324858</td>\n",
              "      <td>3.888904</td>\n",
              "    </tr>\n",
              "    <tr>\n",
              "      <th>11</th>\n",
              "      <td>videoGame</td>\n",
              "      <td>29472</td>\n",
              "      <td>0.352812</td>\n",
              "    </tr>\n",
              "  </tbody>\n",
              "</table>\n",
              "</div>"
            ],
            "text/plain": [
              "            type    COUNT  percentage_1\n",
              "0          movie   590862      7.073262\n",
              "1   radioEpisode        1      0.000012\n",
              "2          short   835849     10.006024\n",
              "3      tvEpisode  6137573     73.473441\n",
              "4   tvMiniSeries    40194      0.481166\n",
              "5        tvMovie   133295      1.595686\n",
              "6        tvPilot        2      0.000024\n",
              "7       tvSeries   216547      2.592304\n",
              "8        tvShort    10334      0.123709\n",
              "9      tvSpecial    34471      0.412655\n",
              "10         video   324858      3.888904\n",
              "11     videoGame    29472      0.352812"
            ]
          },
          "metadata": {}
        }
      ]
    },
    {
      "cell_type": "code",
      "metadata": {
        "id": "ZkcLNyckhnwQ"
      },
      "source": [
        "# Creating a pie chart with only 4 categories (the main ones): The 3 main categories plus one categorie that includes the rest\n",
        "\n",
        "others = {}\n",
        "\n",
        "# Filters the percentage by 5% and then sums the total\n",
        "others['COUNT'] = result_1[result_1['percentage_1'] < 5]['COUNT'].sum()\n",
        "\n",
        "# Saves the percentage\n",
        "others['percentage_1'] = result_1[result_1['percentage_1'] < 5]['percentage_1'].sum()\n",
        "\n",
        "# Adjusting name \n",
        "others['type'] = 'others'"
      ],
      "execution_count": 29,
      "outputs": []
    },
    {
      "cell_type": "code",
      "metadata": {
        "colab": {
          "base_uri": "https://localhost:8080/"
        },
        "id": "sLwzjopxqo1j",
        "outputId": "610beb8f-e773-4236-fae9-6d2624d2320e"
      },
      "source": [
        "others"
      ],
      "execution_count": 30,
      "outputs": [
        {
          "output_type": "execute_result",
          "data": {
            "text/plain": [
              "{'COUNT': 789174, 'percentage_1': 9.447273213081337, 'type': 'others'}"
            ]
          },
          "metadata": {},
          "execution_count": 30
        }
      ]
    },
    {
      "cell_type": "code",
      "metadata": {
        "id": "QM6TmX28hoOd"
      },
      "source": [
        "# Filters the result dataframe\n",
        "result_1 = result_1[result_1['percentage_1'] > 5]"
      ],
      "execution_count": 31,
      "outputs": []
    },
    {
      "cell_type": "code",
      "metadata": {
        "id": "mK_uRsDYholX"
      },
      "source": [
        "# Appends with dataframe of others categories\n",
        "result_1 = result_1.append(others, ignore_index = True)"
      ],
      "execution_count": 32,
      "outputs": []
    },
    {
      "cell_type": "code",
      "metadata": {
        "id": "oySqn3vUhpCe"
      },
      "source": [
        "# Sort the results\n",
        "result_1 = result_1.sort_values(by = \"COUNT\", ascending = False)"
      ],
      "execution_count": 33,
      "outputs": []
    },
    {
      "cell_type": "code",
      "metadata": {
        "colab": {
          "base_uri": "https://localhost:8080/",
          "height": 173
        },
        "id": "RXCADg1-hpbe",
        "outputId": "9a21b242-e797-4f17-ff2a-29c05c8bd5c5"
      },
      "source": [
        "# Display\n",
        "result_1"
      ],
      "execution_count": 34,
      "outputs": [
        {
          "output_type": "execute_result",
          "data": {
            "text/html": [
              "<div>\n",
              "<style scoped>\n",
              "    .dataframe tbody tr th:only-of-type {\n",
              "        vertical-align: middle;\n",
              "    }\n",
              "\n",
              "    .dataframe tbody tr th {\n",
              "        vertical-align: top;\n",
              "    }\n",
              "\n",
              "    .dataframe thead th {\n",
              "        text-align: right;\n",
              "    }\n",
              "</style>\n",
              "<table border=\"1\" class=\"dataframe\">\n",
              "  <thead>\n",
              "    <tr style=\"text-align: right;\">\n",
              "      <th></th>\n",
              "      <th>type</th>\n",
              "      <th>COUNT</th>\n",
              "      <th>percentage_1</th>\n",
              "    </tr>\n",
              "  </thead>\n",
              "  <tbody>\n",
              "    <tr>\n",
              "      <th>2</th>\n",
              "      <td>tvEpisode</td>\n",
              "      <td>6137573</td>\n",
              "      <td>73.473441</td>\n",
              "    </tr>\n",
              "    <tr>\n",
              "      <th>1</th>\n",
              "      <td>short</td>\n",
              "      <td>835849</td>\n",
              "      <td>10.006024</td>\n",
              "    </tr>\n",
              "    <tr>\n",
              "      <th>3</th>\n",
              "      <td>others</td>\n",
              "      <td>789174</td>\n",
              "      <td>9.447273</td>\n",
              "    </tr>\n",
              "    <tr>\n",
              "      <th>0</th>\n",
              "      <td>movie</td>\n",
              "      <td>590862</td>\n",
              "      <td>7.073262</td>\n",
              "    </tr>\n",
              "  </tbody>\n",
              "</table>\n",
              "</div>"
            ],
            "text/plain": [
              "        type    COUNT  percentage_1\n",
              "2  tvEpisode  6137573     73.473441\n",
              "1      short   835849     10.006024\n",
              "3     others   789174      9.447273\n",
              "0      movie   590862      7.073262"
            ]
          },
          "metadata": {},
          "execution_count": 34
        }
      ]
    },
    {
      "cell_type": "code",
      "metadata": {
        "id": "bfz3_NQJp79b"
      },
      "source": [
        "# Labels to plot figure\n",
        "labels = [str(result_1['type'][i]) + ' ' +'['+str(round(result_1['percentage_1'][i],2)) + '%'+']' for i in result_1.index]"
      ],
      "execution_count": 35,
      "outputs": []
    },
    {
      "cell_type": "code",
      "metadata": {
        "colab": {
          "base_uri": "https://localhost:8080/",
          "height": 559
        },
        "id": "6bP6WZ3bp8V9",
        "outputId": "30d815ec-cc41-4059-e91f-61b003f09f1f"
      },
      "source": [
        "# Plot\n",
        "\n",
        "# Color map\n",
        "# https://matplotlib.org/stable/tutorials/colors/colormaps.html\n",
        "cs = cm.Set3(np.arange(100))\n",
        "\n",
        "# Create figure\n",
        "f = plt.figure()\n",
        "\n",
        "# Pie Plot\n",
        "plt.pie(result_1['COUNT'], labeldistance = 1, radius = 3, colors = cs, wedgeprops = dict(width = .8))\n",
        "plt.legend(labels = labels, loc = 'center', prop = {'size':12})\n",
        "plt.title(\"Titles Distribution\", loc = \"Center\", fontdict = {'fontsize':20,'fontweight':20})\n",
        "plt.show()"
      ],
      "execution_count": 36,
      "outputs": [
        {
          "output_type": "display_data",
          "data": {
            "image/png": "[encoded data removed]",
            "text/plain": [
              "<Figure size 432x288 with 1 Axes>"
            ]
          },
          "metadata": {}
        }
      ]
    },
    {
      "cell_type": "markdown",
      "metadata": {
        "id": "CSlcdmqt06Mr"
      },
      "source": [
        "## 2- What is the number of titles by genre?\n",
        "#### 2- Qual o Número de Títulos Por Gênero?"
      ]
    },
    {
      "cell_type": "code",
      "metadata": {
        "id": "XKdYv2Rhp8hj"
      },
      "source": [
        "# Created SQL query\n",
        "consult_2 = '''SELECT genres, COUNT(*) FROM titles WHERE type = 'movie' GROUP BY genres'''"
      ],
      "execution_count": 37,
      "outputs": []
    },
    {
      "cell_type": "code",
      "metadata": {
        "id": "8E5pAO6lp8vE"
      },
      "source": [
        "# Result\n",
        "result_2 = pd.read_sql_query(consult_2, connection)"
      ],
      "execution_count": 38,
      "outputs": []
    },
    {
      "cell_type": "code",
      "metadata": {
        "colab": {
          "base_uri": "https://localhost:8080/",
          "height": 419
        },
        "id": "rEmHdCszp88z",
        "outputId": "850f3490-89d9-4199-df0a-cf4e539b909e"
      },
      "source": [
        " display(result_2)"
      ],
      "execution_count": 39,
      "outputs": [
        {
          "output_type": "display_data",
          "data": {
            "text/html": [
              "<div>\n",
              "<style scoped>\n",
              "    .dataframe tbody tr th:only-of-type {\n",
              "        vertical-align: middle;\n",
              "    }\n",
              "\n",
              "    .dataframe tbody tr th {\n",
              "        vertical-align: top;\n",
              "    }\n",
              "\n",
              "    .dataframe thead th {\n",
              "        text-align: right;\n",
              "    }\n",
              "</style>\n",
              "<table border=\"1\" class=\"dataframe\">\n",
              "  <thead>\n",
              "    <tr style=\"text-align: right;\">\n",
              "      <th></th>\n",
              "      <th>genres</th>\n",
              "      <th>COUNT(*)</th>\n",
              "    </tr>\n",
              "  </thead>\n",
              "  <tbody>\n",
              "    <tr>\n",
              "      <th>0</th>\n",
              "      <td>Action</td>\n",
              "      <td>13522</td>\n",
              "    </tr>\n",
              "    <tr>\n",
              "      <th>1</th>\n",
              "      <td>Action,Adult</td>\n",
              "      <td>11</td>\n",
              "    </tr>\n",
              "    <tr>\n",
              "      <th>2</th>\n",
              "      <td>Action,Adult,Adventure</td>\n",
              "      <td>1</td>\n",
              "    </tr>\n",
              "    <tr>\n",
              "      <th>3</th>\n",
              "      <td>Action,Adult,Comedy</td>\n",
              "      <td>5</td>\n",
              "    </tr>\n",
              "    <tr>\n",
              "      <th>4</th>\n",
              "      <td>Action,Adult,Crime</td>\n",
              "      <td>10</td>\n",
              "    </tr>\n",
              "    <tr>\n",
              "      <th>...</th>\n",
              "      <td>...</td>\n",
              "      <td>...</td>\n",
              "    </tr>\n",
              "    <tr>\n",
              "      <th>1444</th>\n",
              "      <td>Thriller,Western</td>\n",
              "      <td>40</td>\n",
              "    </tr>\n",
              "    <tr>\n",
              "      <th>1445</th>\n",
              "      <td>War</td>\n",
              "      <td>1264</td>\n",
              "    </tr>\n",
              "    <tr>\n",
              "      <th>1446</th>\n",
              "      <td>War,Western</td>\n",
              "      <td>9</td>\n",
              "    </tr>\n",
              "    <tr>\n",
              "      <th>1447</th>\n",
              "      <td>Western</td>\n",
              "      <td>4054</td>\n",
              "    </tr>\n",
              "    <tr>\n",
              "      <th>1448</th>\n",
              "      <td>\\N</td>\n",
              "      <td>71088</td>\n",
              "    </tr>\n",
              "  </tbody>\n",
              "</table>\n",
              "<p>1449 rows × 2 columns</p>\n",
              "</div>"
            ],
            "text/plain": [
              "                      genres  COUNT(*)\n",
              "0                     Action     13522\n",
              "1               Action,Adult        11\n",
              "2     Action,Adult,Adventure         1\n",
              "3        Action,Adult,Comedy         5\n",
              "4         Action,Adult,Crime        10\n",
              "...                      ...       ...\n",
              "1444        Thriller,Western        40\n",
              "1445                     War      1264\n",
              "1446             War,Western         9\n",
              "1447                 Western      4054\n",
              "1448                      \\N     71088\n",
              "\n",
              "[1449 rows x 2 columns]"
            ]
          },
          "metadata": {}
        }
      ]
    },
    {
      "cell_type": "code",
      "metadata": {
        "id": "iDf7DKGUp9Nj"
      },
      "source": [
        "# Lowercase\n",
        "result_2['genres'] = result_2['genres'].str.lower().values # Obs: CountVectorizer already process lowercase in argument, so this cell might be considered redundant (just to ensure the correct managing of data)"
      ],
      "execution_count": 40,
      "outputs": []
    },
    {
      "cell_type": "code",
      "metadata": {
        "id": "r3WTyLpKp9cr"
      },
      "source": [
        "# Cleaning data\n",
        "temp = result_2['genres'].dropna()"
      ],
      "execution_count": 41,
      "outputs": []
    },
    {
      "cell_type": "markdown",
      "metadata": {
        "id": "0p-mievGGH05"
      },
      "source": [
        "###### Here, it is used CountVectorizer to convert the genres column in a one-hot encoded vector in order to count the number of movies in each genre.\n",
        "\n"
      ]
    },
    {
      "cell_type": "code",
      "metadata": {
        "id": "S-lBylNlFaxt"
      },
      "source": [
        "# Creating regular expression to filter strings\n",
        "\n",
        "pattern = '(?u)\\\\b[\\\\w-]+\\\\b' # https://docs.python.org/3.8/library/re.html\n",
        "\n",
        "vector = CountVectorizer(token_pattern = pattern, analyzer = 'word').fit(temp) # https://scikit-learn.org/stable/modules/generated/sklearn.feature_extraction.text.CountVectorizer.html\n",
        "# CountVectorizer converts a collection of text documents to a matrix of token counts.\n",
        "# The fit() method takes the training data (temp, in this case) as arguments. Obs: words that were not seen in the training corpus will be completely ignored in future calls to the transform method\n"
      ],
      "execution_count": 42,
      "outputs": []
    },
    {
      "cell_type": "code",
      "metadata": {
        "colab": {
          "base_uri": "https://localhost:8080/"
        },
        "id": "Us5CEBuhFbIg",
        "outputId": "d4509793-a365-4766-cbf3-2cd6daa7ef6e"
      },
      "source": [
        "type(vector)"
      ],
      "execution_count": 43,
      "outputs": [
        {
          "output_type": "execute_result",
          "data": {
            "text/plain": [
              "sklearn.feature_extraction.text.CountVectorizer"
            ]
          },
          "metadata": {},
          "execution_count": 43
        }
      ]
    },
    {
      "cell_type": "code",
      "metadata": {
        "id": "_HShHtHsFbhj"
      },
      "source": [
        "# Apply vectorization to dataset without NA values\n",
        "bag_genres = vector.transform(temp)"
      ],
      "execution_count": 44,
      "outputs": []
    },
    {
      "cell_type": "code",
      "metadata": {
        "colab": {
          "base_uri": "https://localhost:8080/"
        },
        "id": "S2xn0wplFb77",
        "outputId": "ad671579-0a72-403b-d182-37c11280026b"
      },
      "source": [
        "type(bag_genres)"
      ],
      "execution_count": 45,
      "outputs": [
        {
          "output_type": "execute_result",
          "data": {
            "text/plain": [
              "scipy.sparse.csr.csr_matrix"
            ]
          },
          "metadata": {},
          "execution_count": 45
        }
      ]
    },
    {
      "cell_type": "code",
      "metadata": {
        "id": "xgz1m4NrFcIN"
      },
      "source": [
        "# Return unique genres\n",
        "genres_unique = vector.get_feature_names()"
      ],
      "execution_count": 46,
      "outputs": []
    },
    {
      "cell_type": "code",
      "metadata": {
        "id": "fCGDhvhsFclM"
      },
      "source": [
        "# Creates the dataframe of genres\n",
        "genres = pd.DataFrame(bag_genres.todense(), columns = genres_unique, index = temp.index)"
      ],
      "execution_count": 47,
      "outputs": []
    },
    {
      "cell_type": "code",
      "metadata": {
        "colab": {
          "base_uri": "https://localhost:8080/"
        },
        "id": "nTbVDwRYFc67",
        "outputId": "a9c2d74a-a425-4a0a-be5d-9406a78f4f12"
      },
      "source": [
        "genres.info()"
      ],
      "execution_count": 48,
      "outputs": [
        {
          "output_type": "stream",
          "name": "stdout",
          "text": [
            "<class 'pandas.core.frame.DataFrame'>\n",
            "Int64Index: 1449 entries, 0 to 1448\n",
            "Data columns (total 29 columns):\n",
            " #   Column       Non-Null Count  Dtype\n",
            "---  ------       --------------  -----\n",
            " 0   action       1449 non-null   int64\n",
            " 1   adult        1449 non-null   int64\n",
            " 2   adventure    1449 non-null   int64\n",
            " 3   animation    1449 non-null   int64\n",
            " 4   biography    1449 non-null   int64\n",
            " 5   comedy       1449 non-null   int64\n",
            " 6   crime        1449 non-null   int64\n",
            " 7   documentary  1449 non-null   int64\n",
            " 8   drama        1449 non-null   int64\n",
            " 9   family       1449 non-null   int64\n",
            " 10  fantasy      1449 non-null   int64\n",
            " 11  film-noir    1449 non-null   int64\n",
            " 12  game-show    1449 non-null   int64\n",
            " 13  history      1449 non-null   int64\n",
            " 14  horror       1449 non-null   int64\n",
            " 15  music        1449 non-null   int64\n",
            " 16  musical      1449 non-null   int64\n",
            " 17  mystery      1449 non-null   int64\n",
            " 18  n            1449 non-null   int64\n",
            " 19  news         1449 non-null   int64\n",
            " 20  reality-tv   1449 non-null   int64\n",
            " 21  romance      1449 non-null   int64\n",
            " 22  sci-fi       1449 non-null   int64\n",
            " 23  short        1449 non-null   int64\n",
            " 24  sport        1449 non-null   int64\n",
            " 25  talk-show    1449 non-null   int64\n",
            " 26  thriller     1449 non-null   int64\n",
            " 27  war          1449 non-null   int64\n",
            " 28  western      1449 non-null   int64\n",
            "dtypes: int64(29)\n",
            "memory usage: 339.6 KB\n"
          ]
        }
      ]
    },
    {
      "cell_type": "code",
      "metadata": {
        "id": "YnBi3h3rFdNT"
      },
      "source": [
        "# Drop column 'n'\n",
        "genres = genres.drop(columns = 'n', axis = 0)"
      ],
      "execution_count": 49,
      "outputs": []
    },
    {
      "cell_type": "code",
      "metadata": {
        "id": "BNPB3_6aFdo7"
      },
      "source": [
        "# Compute the percentage\n",
        "genres_percentage = 100 * pd.Series(genres.sum()).sort_values(ascending = False) / genres.shape[0]"
      ],
      "execution_count": 50,
      "outputs": []
    },
    {
      "cell_type": "code",
      "metadata": {
        "colab": {
          "base_uri": "https://localhost:8080/"
        },
        "id": "krAaXOh_Fd-j",
        "outputId": "7ca2cf19-f6ab-4bb3-af2a-6ff4c27723d5"
      },
      "source": [
        "genres_percentage.head(10)"
      ],
      "execution_count": 52,
      "outputs": [
        {
          "output_type": "execute_result",
          "data": {
            "text/plain": [
              "drama          18.357488\n",
              "comedy         16.839199\n",
              "documentary    15.942029\n",
              "adventure      14.906832\n",
              "action         14.561767\n",
              "romance        13.457557\n",
              "crime          13.112491\n",
              "mystery        12.560386\n",
              "thriller       12.353347\n",
              "fantasy        12.215321\n",
              "dtype: float64"
            ]
          },
          "metadata": {},
          "execution_count": 52
        }
      ]
    },
    {
      "cell_type": "code",
      "metadata": {
        "colab": {
          "base_uri": "https://localhost:8080/",
          "height": 563
        },
        "id": "0PalTn-3EFKJ",
        "outputId": "007257be-08f8-4f8d-e51a-64b70644669f"
      },
      "source": [
        "# Plot\n",
        "plt.figure(figsize = (16, 8))\n",
        "sns.barplot(x = genres_percentage.values, y = genres_percentage.index, orient = 'h', palette = 'terrain')\n",
        "plt.ylabel('Genre')\n",
        "plt.xlabel('\\nPercentage of Movies (%)')\n",
        "plt.title('\\nNumber (Percentage) of Titles By Genre\\n')\n",
        "plt.show()"
      ],
      "execution_count": 54,
      "outputs": [
        {
          "output_type": "display_data",
          "data": {
            "image/png": "[encoded data removed]",
            "text/plain": [
              "<Figure size 1152x576 with 1 Axes>"
            ]
          },
          "metadata": {}
        }
      ]
    },
    {
      "cell_type": "markdown",
      "metadata": {
        "id": "-hUdrYVEFKhu"
      },
      "source": [
        "## 3 - What is the ratings median of movies by genre?\n",
        "#### 3- Qual a Mediana de Avaliação dos Filmes Por Gênero? "
      ]
    },
    {
      "cell_type": "markdown",
      "metadata": {
        "id": "AQ0ZQdPKNZhI"
      },
      "source": [
        "#### Why median and not mean?\n",
        "###### Median is a **resistent** measure, in way that it doesn't get affected by outliers, whereas mean it is not, in particular for strong assimetric distributions or having atypical values. Nevertheless, mean is a good measure if data distribution is nearly normal. "
      ]
    },
    {
      "cell_type": "code",
      "metadata": {
        "id": "dTeErVrYEFZf"
      },
      "source": [
        "# Created SQL query\n",
        "consult_3 = '''\n",
        "            SELECT rating, genres FROM\n",
        "            ratings JOIN titles ON ratings.title_id = titles.title_id \n",
        "            WHERE premiered <= 2022 AND type = 'movie'\n",
        "            '''"
      ],
      "execution_count": 55,
      "outputs": []
    },
    {
      "cell_type": "code",
      "metadata": {
        "id": "yOP2z1PbEFuT"
      },
      "source": [
        "# Result\n",
        "result_3 = pd.read_sql_query(consult_3, connection)"
      ],
      "execution_count": 56,
      "outputs": []
    },
    {
      "cell_type": "code",
      "metadata": {
        "colab": {
          "base_uri": "https://localhost:8080/",
          "height": 419
        },
        "id": "5C8TaoDOEGDL",
        "outputId": "edf9d960-1572-4fcc-9918-2ec9af95cf5c"
      },
      "source": [
        "display(result_3)"
      ],
      "execution_count": 57,
      "outputs": [
        {
          "output_type": "display_data",
          "data": {
            "text/html": [
              "<div>\n",
              "<style scoped>\n",
              "    .dataframe tbody tr th:only-of-type {\n",
              "        vertical-align: middle;\n",
              "    }\n",
              "\n",
              "    .dataframe tbody tr th {\n",
              "        vertical-align: top;\n",
              "    }\n",
              "\n",
              "    .dataframe thead th {\n",
              "        text-align: right;\n",
              "    }\n",
              "</style>\n",
              "<table border=\"1\" class=\"dataframe\">\n",
              "  <thead>\n",
              "    <tr style=\"text-align: right;\">\n",
              "      <th></th>\n",
              "      <th>rating</th>\n",
              "      <th>genres</th>\n",
              "    </tr>\n",
              "  </thead>\n",
              "  <tbody>\n",
              "    <tr>\n",
              "      <th>0</th>\n",
              "      <td>4.5</td>\n",
              "      <td>\\N</td>\n",
              "    </tr>\n",
              "    <tr>\n",
              "      <th>1</th>\n",
              "      <td>6.1</td>\n",
              "      <td>Action,Adventure,Biography</td>\n",
              "    </tr>\n",
              "    <tr>\n",
              "      <th>2</th>\n",
              "      <td>5.2</td>\n",
              "      <td>Drama</td>\n",
              "    </tr>\n",
              "    <tr>\n",
              "      <th>3</th>\n",
              "      <td>4.5</td>\n",
              "      <td>Drama</td>\n",
              "    </tr>\n",
              "    <tr>\n",
              "      <th>4</th>\n",
              "      <td>3.8</td>\n",
              "      <td>Drama</td>\n",
              "    </tr>\n",
              "    <tr>\n",
              "      <th>...</th>\n",
              "      <td>...</td>\n",
              "      <td>...</td>\n",
              "    </tr>\n",
              "    <tr>\n",
              "      <th>269658</th>\n",
              "      <td>3.5</td>\n",
              "      <td>Action,Adventure,Thriller</td>\n",
              "    </tr>\n",
              "    <tr>\n",
              "      <th>269659</th>\n",
              "      <td>5.8</td>\n",
              "      <td>Thriller</td>\n",
              "    </tr>\n",
              "    <tr>\n",
              "      <th>269660</th>\n",
              "      <td>6.4</td>\n",
              "      <td>Drama,History</td>\n",
              "    </tr>\n",
              "    <tr>\n",
              "      <th>269661</th>\n",
              "      <td>3.8</td>\n",
              "      <td>Adventure,History,War</td>\n",
              "    </tr>\n",
              "    <tr>\n",
              "      <th>269662</th>\n",
              "      <td>8.3</td>\n",
              "      <td>Drama</td>\n",
              "    </tr>\n",
              "  </tbody>\n",
              "</table>\n",
              "<p>269663 rows × 2 columns</p>\n",
              "</div>"
            ],
            "text/plain": [
              "        rating                      genres\n",
              "0          4.5                          \\N\n",
              "1          6.1  Action,Adventure,Biography\n",
              "2          5.2                       Drama\n",
              "3          4.5                       Drama\n",
              "4          3.8                       Drama\n",
              "...        ...                         ...\n",
              "269658     3.5   Action,Adventure,Thriller\n",
              "269659     5.8                    Thriller\n",
              "269660     6.4               Drama,History\n",
              "269661     3.8       Adventure,History,War\n",
              "269662     8.3                       Drama\n",
              "\n",
              "[269663 rows x 2 columns]"
            ]
          },
          "metadata": {}
        }
      ]
    },
    {
      "cell_type": "code",
      "metadata": {
        "id": "A6Ml_DG-EGRj"
      },
      "source": [
        "# Function to return genres (the same done in question 2, without functionalizing, which sometimes might be not appropriate)\n",
        "def return_genres(df):\n",
        "  df['genres'] = df['genres'].str.lower().values\n",
        "  temp = df['genres'].dropna()\n",
        "  vector = CountVectorizer(token_pattern = '(?u)\\\\b[\\\\w-]+\\\\b', analyzer = 'word').fit(temp)\n",
        "  genres_unique = vector.get_feature_names()\n",
        "  genres_unique = [genre for genre in genres_unique if len(genre) > 1]\n",
        "  return genres_unique"
      ],
      "execution_count": 58,
      "outputs": []
    },
    {
      "cell_type": "code",
      "metadata": {
        "id": "Adc66aODEGlz"
      },
      "source": [
        "genres_unique = return_genres(result_3)"
      ],
      "execution_count": 59,
      "outputs": []
    },
    {
      "cell_type": "code",
      "metadata": {
        "colab": {
          "base_uri": "https://localhost:8080/"
        },
        "id": "0ksh3u1IEGvz",
        "outputId": "cdd14ed3-89b4-4195-af0d-f81b09a55724"
      },
      "source": [
        "genres_unique"
      ],
      "execution_count": 60,
      "outputs": [
        {
          "output_type": "execute_result",
          "data": {
            "text/plain": [
              "['action',\n",
              " 'adult',\n",
              " 'adventure',\n",
              " 'animation',\n",
              " 'biography',\n",
              " 'comedy',\n",
              " 'crime',\n",
              " 'documentary',\n",
              " 'drama',\n",
              " 'family',\n",
              " 'fantasy',\n",
              " 'film-noir',\n",
              " 'game-show',\n",
              " 'history',\n",
              " 'horror',\n",
              " 'music',\n",
              " 'musical',\n",
              " 'mystery',\n",
              " 'news',\n",
              " 'reality-tv',\n",
              " 'romance',\n",
              " 'sci-fi',\n",
              " 'short',\n",
              " 'sport',\n",
              " 'talk-show',\n",
              " 'thriller',\n",
              " 'war',\n",
              " 'western']"
            ]
          },
          "metadata": {},
          "execution_count": 60
        }
      ]
    },
    {
      "cell_type": "code",
      "metadata": {
        "id": "sNzxR9aeEG3D"
      },
      "source": [
        "genre_counts = list()\n",
        "genre_ratings = list()"
      ],
      "execution_count": 61,
      "outputs": []
    },
    {
      "cell_type": "code",
      "metadata": {
        "id": "e-x-bH5hEG-Z"
      },
      "source": [
        "# Loop\n",
        "for item in genres_unique:\n",
        "\n",
        "  # Returns the count of movies by genre\n",
        "  consult = 'SELECT COUNT(rating) FROM ratings JOIN titles ON ratings.title_id = titles.title_id WHERE genres LIKE' + '\\''+'%'+item+'%'+'\\' AND type=\\'movie\\''\n",
        "  result = pd.read_sql_query(consult, connection)\n",
        "  genre_counts.append(result.values[0][0])\n",
        "\n",
        "  # Returns the movies ratings by genre\n",
        "  consult = 'SELECT rating FROM ratings JOIN titles ON ratings.title_id = titles.title_id WHERE genres LIKE' + '\\''+'%'+item+'%'+'\\' AND type=\\'movie\\''\n",
        "  result = pd.read_sql_query(consult, connection)\n",
        "  genre_ratings.append(np.median(result['rating']))\n"
      ],
      "execution_count": 62,
      "outputs": []
    },
    {
      "cell_type": "code",
      "metadata": {
        "id": "49-rH9KpXUjW"
      },
      "source": [
        "# Final dataframe\n",
        "df_genre_ratings = pd.DataFrame()\n",
        "df_genre_ratings['genres'] = genres_unique\n",
        "df_genre_ratings['count'] = genre_counts\n",
        "df_genre_ratings['rating'] = genre_ratings"
      ],
      "execution_count": 63,
      "outputs": []
    },
    {
      "cell_type": "code",
      "metadata": {
        "colab": {
          "base_uri": "https://localhost:8080/",
          "height": 669
        },
        "id": "dS1G5geXXUhq",
        "outputId": "97a51b73-4b5c-470a-88b0-46692b4dc5b5"
      },
      "source": [
        "df_genre_ratings.head(20)"
      ],
      "execution_count": 64,
      "outputs": [
        {
          "output_type": "execute_result",
          "data": {
            "text/html": [
              "<div>\n",
              "<style scoped>\n",
              "    .dataframe tbody tr th:only-of-type {\n",
              "        vertical-align: middle;\n",
              "    }\n",
              "\n",
              "    .dataframe tbody tr th {\n",
              "        vertical-align: top;\n",
              "    }\n",
              "\n",
              "    .dataframe thead th {\n",
              "        text-align: right;\n",
              "    }\n",
              "</style>\n",
              "<table border=\"1\" class=\"dataframe\">\n",
              "  <thead>\n",
              "    <tr style=\"text-align: right;\">\n",
              "      <th></th>\n",
              "      <th>genres</th>\n",
              "      <th>count</th>\n",
              "      <th>rating</th>\n",
              "    </tr>\n",
              "  </thead>\n",
              "  <tbody>\n",
              "    <tr>\n",
              "      <th>0</th>\n",
              "      <td>action</td>\n",
              "      <td>28907</td>\n",
              "      <td>5.8</td>\n",
              "    </tr>\n",
              "    <tr>\n",
              "      <th>1</th>\n",
              "      <td>adult</td>\n",
              "      <td>4100</td>\n",
              "      <td>5.8</td>\n",
              "    </tr>\n",
              "    <tr>\n",
              "      <th>2</th>\n",
              "      <td>adventure</td>\n",
              "      <td>17661</td>\n",
              "      <td>6.0</td>\n",
              "    </tr>\n",
              "    <tr>\n",
              "      <th>3</th>\n",
              "      <td>animation</td>\n",
              "      <td>4717</td>\n",
              "      <td>6.5</td>\n",
              "    </tr>\n",
              "    <tr>\n",
              "      <th>4</th>\n",
              "      <td>biography</td>\n",
              "      <td>8122</td>\n",
              "      <td>7.0</td>\n",
              "    </tr>\n",
              "    <tr>\n",
              "      <th>5</th>\n",
              "      <td>comedy</td>\n",
              "      <td>67083</td>\n",
              "      <td>6.0</td>\n",
              "    </tr>\n",
              "    <tr>\n",
              "      <th>6</th>\n",
              "      <td>crime</td>\n",
              "      <td>23208</td>\n",
              "      <td>6.1</td>\n",
              "    </tr>\n",
              "    <tr>\n",
              "      <th>7</th>\n",
              "      <td>documentary</td>\n",
              "      <td>39655</td>\n",
              "      <td>7.3</td>\n",
              "    </tr>\n",
              "    <tr>\n",
              "      <th>8</th>\n",
              "      <td>drama</td>\n",
              "      <td>119734</td>\n",
              "      <td>6.3</td>\n",
              "    </tr>\n",
              "    <tr>\n",
              "      <th>9</th>\n",
              "      <td>family</td>\n",
              "      <td>10193</td>\n",
              "      <td>6.3</td>\n",
              "    </tr>\n",
              "    <tr>\n",
              "      <th>10</th>\n",
              "      <td>fantasy</td>\n",
              "      <td>7996</td>\n",
              "      <td>6.1</td>\n",
              "    </tr>\n",
              "    <tr>\n",
              "      <th>11</th>\n",
              "      <td>film-noir</td>\n",
              "      <td>758</td>\n",
              "      <td>6.6</td>\n",
              "    </tr>\n",
              "    <tr>\n",
              "      <th>12</th>\n",
              "      <td>game-show</td>\n",
              "      <td>3</td>\n",
              "      <td>7.4</td>\n",
              "    </tr>\n",
              "    <tr>\n",
              "      <th>13</th>\n",
              "      <td>history</td>\n",
              "      <td>7426</td>\n",
              "      <td>6.9</td>\n",
              "    </tr>\n",
              "    <tr>\n",
              "      <th>14</th>\n",
              "      <td>horror</td>\n",
              "      <td>19042</td>\n",
              "      <td>5.0</td>\n",
              "    </tr>\n",
              "    <tr>\n",
              "      <th>15</th>\n",
              "      <td>music</td>\n",
              "      <td>12411</td>\n",
              "      <td>6.6</td>\n",
              "    </tr>\n",
              "    <tr>\n",
              "      <th>16</th>\n",
              "      <td>musical</td>\n",
              "      <td>5967</td>\n",
              "      <td>6.3</td>\n",
              "    </tr>\n",
              "    <tr>\n",
              "      <th>17</th>\n",
              "      <td>mystery</td>\n",
              "      <td>10064</td>\n",
              "      <td>6.0</td>\n",
              "    </tr>\n",
              "    <tr>\n",
              "      <th>18</th>\n",
              "      <td>news</td>\n",
              "      <td>664</td>\n",
              "      <td>7.3</td>\n",
              "    </tr>\n",
              "    <tr>\n",
              "      <th>19</th>\n",
              "      <td>reality-tv</td>\n",
              "      <td>42</td>\n",
              "      <td>6.5</td>\n",
              "    </tr>\n",
              "  </tbody>\n",
              "</table>\n",
              "</div>"
            ],
            "text/plain": [
              "         genres   count  rating\n",
              "0        action   28907     5.8\n",
              "1         adult    4100     5.8\n",
              "2     adventure   17661     6.0\n",
              "3     animation    4717     6.5\n",
              "4     biography    8122     7.0\n",
              "5        comedy   67083     6.0\n",
              "6         crime   23208     6.1\n",
              "7   documentary   39655     7.3\n",
              "8         drama  119734     6.3\n",
              "9        family   10193     6.3\n",
              "10      fantasy    7996     6.1\n",
              "11    film-noir     758     6.6\n",
              "12    game-show       3     7.4\n",
              "13      history    7426     6.9\n",
              "14       horror   19042     5.0\n",
              "15        music   12411     6.6\n",
              "16      musical    5967     6.3\n",
              "17      mystery   10064     6.0\n",
              "18         news     664     7.3\n",
              "19   reality-tv      42     6.5"
            ]
          },
          "metadata": {},
          "execution_count": 64
        }
      ]
    },
    {
      "cell_type": "code",
      "metadata": {
        "id": "kgA7DpQnXUfv"
      },
      "source": [
        "# Drop of index 18 (news) (we don't want this information as genre)\n",
        "df_genre_ratings = df_genre_ratings.drop(index = 18)"
      ],
      "execution_count": 65,
      "outputs": []
    },
    {
      "cell_type": "code",
      "metadata": {
        "id": "Bv8uZxW2ZmuW"
      },
      "source": [
        "# Sorting\n",
        "df_genre_ratings = df_genre_ratings.sort_values(by = 'rating', ascending = False)"
      ],
      "execution_count": 66,
      "outputs": []
    },
    {
      "cell_type": "code",
      "metadata": {
        "colab": {
          "base_uri": "https://localhost:8080/",
          "height": 657
        },
        "id": "NDDvcjxSXUdg",
        "outputId": "75a94837-0ca9-4540-fcf9-32219a489718"
      },
      "source": [
        "# Plot\n",
        "\n",
        "# Figure\n",
        "plt.figure(figsize = (16,10))\n",
        "\n",
        "# Barplot\n",
        "sns.barplot(y = df_genre_ratings.genres, x = df_genre_ratings.rating, orient = \"h\")\n",
        "\n",
        "# Texts\n",
        "for i in range(len(df_genre_ratings.index)):\n",
        "    \n",
        "    plt.text(4.0, \n",
        "             i + 0.25, \n",
        "             str(df_genre_ratings['count'][df_genre_ratings.index[i]]) + \" movies\")\n",
        "    \n",
        "    plt.text(df_genre_ratings.rating[df_genre_ratings.index[i]],\n",
        "             i + 0.25,\n",
        "             round(df_genre_ratings[\"rating\"][df_genre_ratings.index[i]],2))\n",
        "\n",
        "plt.ylabel('Genre')             \n",
        "plt.xlabel('Median of Ratings')\n",
        "plt.title('\\nMedian of Rating by Genre\\n')\n",
        "plt.show()"
      ],
      "execution_count": 67,
      "outputs": [
        {
          "output_type": "display_data",
          "data": {
            "image/png": "[encoded data removed]",
            "text/plain": [
              "<Figure size 1152x720 with 1 Axes>"
            ]
          },
          "metadata": {}
        }
      ]
    },
    {
      "cell_type": "markdown",
      "metadata": {
        "id": "QbzgHyMmSpzg"
      },
      "source": [
        "## 4 - What is the median of movies ratings by year of release?\n",
        "#### 4- Qual a Mediana de Avaliação dos Filmes Em Relação ao Ano de Estréia?"
      ]
    },
    {
      "cell_type": "code",
      "metadata": {
        "id": "97pUiYWKXUbX"
      },
      "source": [
        "# Created SQL query\n",
        "consult_4 = '''SELECT rating, premiered FROM\n",
        "                ratings JOIN titles ON ratings.title_id = titles.title_id\n",
        "                WHERE premiered <= 2025 AND type = 'movie' \n",
        "                ORDER BY premiered\n",
        "             '''"
      ],
      "execution_count": 68,
      "outputs": []
    },
    {
      "cell_type": "code",
      "metadata": {
        "id": "BGiAVyi5XUYe"
      },
      "source": [
        "# Result\n",
        "result_4 = pd.read_sql_query(consult_4, connection)"
      ],
      "execution_count": 69,
      "outputs": []
    },
    {
      "cell_type": "code",
      "metadata": {
        "colab": {
          "base_uri": "https://localhost:8080/",
          "height": 419
        },
        "id": "8mhRtbmWXUV9",
        "outputId": "977013e2-47ac-4a5f-a838-6c207fc94ba0"
      },
      "source": [
        "result_4"
      ],
      "execution_count": 70,
      "outputs": [
        {
          "output_type": "execute_result",
          "data": {
            "text/html": [
              "<div>\n",
              "<style scoped>\n",
              "    .dataframe tbody tr th:only-of-type {\n",
              "        vertical-align: middle;\n",
              "    }\n",
              "\n",
              "    .dataframe tbody tr th {\n",
              "        vertical-align: top;\n",
              "    }\n",
              "\n",
              "    .dataframe thead th {\n",
              "        text-align: right;\n",
              "    }\n",
              "</style>\n",
              "<table border=\"1\" class=\"dataframe\">\n",
              "  <thead>\n",
              "    <tr style=\"text-align: right;\">\n",
              "      <th></th>\n",
              "      <th>rating</th>\n",
              "      <th>premiered</th>\n",
              "    </tr>\n",
              "  </thead>\n",
              "  <tbody>\n",
              "    <tr>\n",
              "      <th>0</th>\n",
              "      <td>6.4</td>\n",
              "      <td>1896</td>\n",
              "    </tr>\n",
              "    <tr>\n",
              "      <th>1</th>\n",
              "      <td>4.4</td>\n",
              "      <td>1897</td>\n",
              "    </tr>\n",
              "    <tr>\n",
              "      <th>2</th>\n",
              "      <td>3.9</td>\n",
              "      <td>1899</td>\n",
              "    </tr>\n",
              "    <tr>\n",
              "      <th>3</th>\n",
              "      <td>3.7</td>\n",
              "      <td>1899</td>\n",
              "    </tr>\n",
              "    <tr>\n",
              "      <th>4</th>\n",
              "      <td>6.0</td>\n",
              "      <td>1900</td>\n",
              "    </tr>\n",
              "    <tr>\n",
              "      <th>...</th>\n",
              "      <td>...</td>\n",
              "      <td>...</td>\n",
              "    </tr>\n",
              "    <tr>\n",
              "      <th>269658</th>\n",
              "      <td>9.1</td>\n",
              "      <td>2021</td>\n",
              "    </tr>\n",
              "    <tr>\n",
              "      <th>269659</th>\n",
              "      <td>5.6</td>\n",
              "      <td>2021</td>\n",
              "    </tr>\n",
              "    <tr>\n",
              "      <th>269660</th>\n",
              "      <td>5.9</td>\n",
              "      <td>2021</td>\n",
              "    </tr>\n",
              "    <tr>\n",
              "      <th>269661</th>\n",
              "      <td>8.0</td>\n",
              "      <td>2021</td>\n",
              "    </tr>\n",
              "    <tr>\n",
              "      <th>269662</th>\n",
              "      <td>7.0</td>\n",
              "      <td>2022</td>\n",
              "    </tr>\n",
              "  </tbody>\n",
              "</table>\n",
              "<p>269663 rows × 2 columns</p>\n",
              "</div>"
            ],
            "text/plain": [
              "        rating  premiered\n",
              "0          6.4       1896\n",
              "1          4.4       1897\n",
              "2          3.9       1899\n",
              "3          3.7       1899\n",
              "4          6.0       1900\n",
              "...        ...        ...\n",
              "269658     9.1       2021\n",
              "269659     5.6       2021\n",
              "269660     5.9       2021\n",
              "269661     8.0       2021\n",
              "269662     7.0       2022\n",
              "\n",
              "[269663 rows x 2 columns]"
            ]
          },
          "metadata": {},
          "execution_count": 70
        }
      ]
    },
    {
      "cell_type": "code",
      "metadata": {
        "id": "O73L4cFeXUSZ"
      },
      "source": [
        "# Computing the median of ratings by year\n",
        "ratings = []\n",
        "for year in set(result_4['premiered']):\n",
        "  ratings.append(np.median(result_4[result_4['premiered'] == year]['rating']))"
      ],
      "execution_count": 71,
      "outputs": []
    },
    {
      "cell_type": "code",
      "metadata": {
        "id": "-29gUEsIXUNo"
      },
      "source": [
        "# Years list\n",
        "years = list(set(result_4['premiered']))"
      ],
      "execution_count": 72,
      "outputs": []
    },
    {
      "cell_type": "code",
      "metadata": {
        "colab": {
          "base_uri": "https://localhost:8080/",
          "height": 563
        },
        "id": "5TF2EtbIXUGP",
        "outputId": "569b7ba0-c3a3-4180-83da-ada9375de8c4"
      },
      "source": [
        "# Plot\n",
        "plt.figure(figsize = (16, 8))\n",
        "plt.plot(years, ratings)\n",
        "plt.xlabel('\\nYear')\n",
        "plt.ylabel('Median of Ratings')\n",
        "plt.title('\\nMedian of Ratings by Year of Release\\n')\n",
        "plt.show()"
      ],
      "execution_count": 73,
      "outputs": [
        {
          "output_type": "display_data",
          "data": {
            "image/png": "[encoded data removed]",
            "text/plain": [
              "<Figure size 1152x576 with 1 Axes>"
            ]
          },
          "metadata": {}
        }
      ]
    },
    {
      "cell_type": "markdown",
      "metadata": {
        "id": "bycOWY_capQI"
      },
      "source": [
        "## 5 - What is the number of rated movies by genre related to the year of release?\n",
        "#### 5- Qual o Número de Filmes Avaliados Por Gênero Em Relação ao Ano de Estréia?"
      ]
    },
    {
      "cell_type": "code",
      "metadata": {
        "id": "JLpJpG-DXT7G"
      },
      "source": [
        "# Created SQL query\n",
        "consult_5 = '''\n",
        "             SELECT genres FROM titles \n",
        "             '''"
      ],
      "execution_count": 76,
      "outputs": []
    },
    {
      "cell_type": "code",
      "metadata": {
        "id": "7hlw03YkawOj"
      },
      "source": [
        "# Result\n",
        "result_5 = pd.read_sql_query(consult_5, connection)"
      ],
      "execution_count": 77,
      "outputs": []
    },
    {
      "cell_type": "code",
      "metadata": {
        "colab": {
          "base_uri": "https://localhost:8080/",
          "height": 419
        },
        "id": "F6yPsuewawMu",
        "outputId": "7a460342-b569-4ad0-d130-41697c055616"
      },
      "source": [
        "result_5"
      ],
      "execution_count": 78,
      "outputs": [
        {
          "output_type": "execute_result",
          "data": {
            "text/html": [
              "<div>\n",
              "<style scoped>\n",
              "    .dataframe tbody tr th:only-of-type {\n",
              "        vertical-align: middle;\n",
              "    }\n",
              "\n",
              "    .dataframe tbody tr th {\n",
              "        vertical-align: top;\n",
              "    }\n",
              "\n",
              "    .dataframe thead th {\n",
              "        text-align: right;\n",
              "    }\n",
              "</style>\n",
              "<table border=\"1\" class=\"dataframe\">\n",
              "  <thead>\n",
              "    <tr style=\"text-align: right;\">\n",
              "      <th></th>\n",
              "      <th>genres</th>\n",
              "    </tr>\n",
              "  </thead>\n",
              "  <tbody>\n",
              "    <tr>\n",
              "      <th>0</th>\n",
              "      <td>Documentary,Short</td>\n",
              "    </tr>\n",
              "    <tr>\n",
              "      <th>1</th>\n",
              "      <td>Animation,Short</td>\n",
              "    </tr>\n",
              "    <tr>\n",
              "      <th>2</th>\n",
              "      <td>Animation,Comedy,Romance</td>\n",
              "    </tr>\n",
              "    <tr>\n",
              "      <th>3</th>\n",
              "      <td>Animation,Short</td>\n",
              "    </tr>\n",
              "    <tr>\n",
              "      <th>4</th>\n",
              "      <td>Comedy,Short</td>\n",
              "    </tr>\n",
              "    <tr>\n",
              "      <th>...</th>\n",
              "      <td>...</td>\n",
              "    </tr>\n",
              "    <tr>\n",
              "      <th>8353453</th>\n",
              "      <td>Action,Drama,Family</td>\n",
              "    </tr>\n",
              "    <tr>\n",
              "      <th>8353454</th>\n",
              "      <td>Action,Drama,Family</td>\n",
              "    </tr>\n",
              "    <tr>\n",
              "      <th>8353455</th>\n",
              "      <td>Action,Drama,Family</td>\n",
              "    </tr>\n",
              "    <tr>\n",
              "      <th>8353456</th>\n",
              "      <td>Short</td>\n",
              "    </tr>\n",
              "    <tr>\n",
              "      <th>8353457</th>\n",
              "      <td>Adventure,Animation,Comedy</td>\n",
              "    </tr>\n",
              "  </tbody>\n",
              "</table>\n",
              "<p>8353458 rows × 1 columns</p>\n",
              "</div>"
            ],
            "text/plain": [
              "                             genres\n",
              "0                 Documentary,Short\n",
              "1                   Animation,Short\n",
              "2          Animation,Comedy,Romance\n",
              "3                   Animation,Short\n",
              "4                      Comedy,Short\n",
              "...                             ...\n",
              "8353453         Action,Drama,Family\n",
              "8353454         Action,Drama,Family\n",
              "8353455         Action,Drama,Family\n",
              "8353456                       Short\n",
              "8353457  Adventure,Animation,Comedy\n",
              "\n",
              "[8353458 rows x 1 columns]"
            ]
          },
          "metadata": {},
          "execution_count": 78
        }
      ]
    },
    {
      "cell_type": "code",
      "metadata": {
        "id": "GAzkhVv_awKQ"
      },
      "source": [
        "# Returns uniques genres\n",
        "genre_unique = return_genres(result_5) # function created in previous section (Section 4)"
      ],
      "execution_count": 80,
      "outputs": []
    },
    {
      "cell_type": "code",
      "metadata": {
        "id": "zUZDeXzUawIJ"
      },
      "source": [
        "# Counting\n",
        "genre_count = list()\n",
        "for item in genre_unique:\n",
        "  consult = 'SELECT COUNT(*) COUNT FROM titles WHERE genres LIKE '+'\\''+'%'+item+'%'+'\\' AND type=\\'movie\\' AND premiered <= 2025'\n",
        "  result = pd.read_sql_query(consult, connection)\n",
        "  genre_count.append(result['COUNT'].values[0])"
      ],
      "execution_count": 81,
      "outputs": []
    },
    {
      "cell_type": "code",
      "metadata": {
        "id": "1UpA3TIEjceB"
      },
      "source": [
        "# Creating dataframe\n",
        "df_genre_count = pd.DataFrame()\n",
        "df_genre_count['genre'] = genre_unique\n",
        "df_genre_count['Count'] = genre_count"
      ],
      "execution_count": 82,
      "outputs": []
    },
    {
      "cell_type": "code",
      "metadata": {
        "id": "vXF3POR7awGc"
      },
      "source": [
        "# Compute\n",
        "df_genre_count = df_genre_count[df_genre_count['genre'] != 'n'] # same as the drop function used above in the other section\n",
        "df_genre_count = df_genre_count.sort_values(by = 'Count', ascending = False)\n",
        "top_genres = df_genre_count.head()['genre'].values # to show only the five most expressive genres"
      ],
      "execution_count": 83,
      "outputs": []
    },
    {
      "cell_type": "code",
      "metadata": {
        "colab": {
          "base_uri": "https://localhost:8080/",
          "height": 672
        },
        "id": "ds0dz9ULawEB",
        "outputId": "f6db8af1-d598-4167-eba8-29120a2f97f8"
      },
      "source": [
        "# Plot\n",
        "\n",
        "# Figure\n",
        "plt.figure(figsize = (16, 10))\n",
        "\n",
        "# Plot\n",
        "for item in top_genres:\n",
        "  consult = 'SELECT COUNT(*) Number_of_movies, premiered Year FROM titles WHERE genres LIKE ' + '\\''+'%'+item+'%'+'\\' AND type=\\'movie\\' AND Year <=2025 GROUP BY Year'\n",
        "  result = pd.read_sql_query(consult, connection)\n",
        "  plt.plot(result['Year'], result['Number_of_movies'])\n",
        "\n",
        "plt.xlabel('\\nYear')\n",
        "plt.ylabel('Number of Rated Movies')\n",
        "plt.title('\\nNumber of Rated Movies by Genre related to the Year of Release\\n')\n",
        "plt.legend(labels = top_genres)\n",
        "plt.show()"
      ],
      "execution_count": 84,
      "outputs": [
        {
          "output_type": "display_data",
          "data": {
            "image/png": "[encoded data removed]",
            "text/plain": [
              "<Figure size 1152x720 with 1 Axes>"
            ]
          },
          "metadata": {}
        }
      ]
    },
    {
      "cell_type": "markdown",
      "metadata": {
        "id": "CwHJV5WMpHov"
      },
      "source": [
        "## 6 - What is the movie with longest time duration?\n",
        "#### 6 - Qual o Filme Com Maior Tempo de Duração?"
      ]
    },
    {
      "cell_type": "code",
      "metadata": {
        "id": "uquTEBuitna5"
      },
      "source": [
        "# Created SQL query\n",
        "consult_6 = '''\n",
        "             SELECT runtime_minutes Runtime \n",
        "             FROM titles \n",
        "             WHERE type = 'movie' AND Runtime != 'NaN'\n",
        "             '''"
      ],
      "execution_count": 85,
      "outputs": []
    },
    {
      "cell_type": "code",
      "metadata": {
        "id": "lJ-jQKm7tnYJ"
      },
      "source": [
        "# Result\n",
        "result_6 = pd.read_sql_query(consult_6, connection)"
      ],
      "execution_count": 86,
      "outputs": []
    },
    {
      "cell_type": "code",
      "metadata": {
        "colab": {
          "base_uri": "https://localhost:8080/",
          "height": 419
        },
        "id": "S6Fhm1vmtnQJ",
        "outputId": "f614611a-8e25-4047-fb36-c4f739bd8d22"
      },
      "source": [
        "result_6"
      ],
      "execution_count": 87,
      "outputs": [
        {
          "output_type": "execute_result",
          "data": {
            "text/html": [
              "<div>\n",
              "<style scoped>\n",
              "    .dataframe tbody tr th:only-of-type {\n",
              "        vertical-align: middle;\n",
              "    }\n",
              "\n",
              "    .dataframe tbody tr th {\n",
              "        vertical-align: top;\n",
              "    }\n",
              "\n",
              "    .dataframe thead th {\n",
              "        text-align: right;\n",
              "    }\n",
              "</style>\n",
              "<table border=\"1\" class=\"dataframe\">\n",
              "  <thead>\n",
              "    <tr style=\"text-align: right;\">\n",
              "      <th></th>\n",
              "      <th>Runtime</th>\n",
              "    </tr>\n",
              "  </thead>\n",
              "  <tbody>\n",
              "    <tr>\n",
              "      <th>0</th>\n",
              "      <td>100</td>\n",
              "    </tr>\n",
              "    <tr>\n",
              "      <th>1</th>\n",
              "      <td>70</td>\n",
              "    </tr>\n",
              "    <tr>\n",
              "      <th>2</th>\n",
              "      <td>90</td>\n",
              "    </tr>\n",
              "    <tr>\n",
              "      <th>3</th>\n",
              "      <td>120</td>\n",
              "    </tr>\n",
              "    <tr>\n",
              "      <th>4</th>\n",
              "      <td>58</td>\n",
              "    </tr>\n",
              "    <tr>\n",
              "      <th>...</th>\n",
              "      <td>...</td>\n",
              "    </tr>\n",
              "    <tr>\n",
              "      <th>371761</th>\n",
              "      <td>123</td>\n",
              "    </tr>\n",
              "    <tr>\n",
              "      <th>371762</th>\n",
              "      <td>57</td>\n",
              "    </tr>\n",
              "    <tr>\n",
              "      <th>371763</th>\n",
              "      <td>100</td>\n",
              "    </tr>\n",
              "    <tr>\n",
              "      <th>371764</th>\n",
              "      <td>116</td>\n",
              "    </tr>\n",
              "    <tr>\n",
              "      <th>371765</th>\n",
              "      <td>49</td>\n",
              "    </tr>\n",
              "  </tbody>\n",
              "</table>\n",
              "<p>371766 rows × 1 columns</p>\n",
              "</div>"
            ],
            "text/plain": [
              "        Runtime\n",
              "0           100\n",
              "1            70\n",
              "2            90\n",
              "3           120\n",
              "4            58\n",
              "...         ...\n",
              "371761      123\n",
              "371762       57\n",
              "371763      100\n",
              "371764      116\n",
              "371765       49\n",
              "\n",
              "[371766 rows x 1 columns]"
            ]
          },
          "metadata": {},
          "execution_count": 87
        }
      ]
    },
    {
      "cell_type": "code",
      "metadata": {
        "colab": {
          "base_uri": "https://localhost:8080/"
        },
        "id": "KB589SiqtyQZ",
        "outputId": "30b0e318-7df9-447a-8812-9a0a051d7715"
      },
      "source": [
        "# Loop to compute the percentiles\n",
        "for i in range(101):\n",
        "  val = i\n",
        "  perc = round(np.percentile(result_6['Runtime'].values, val), 2)\n",
        "  print(f'{val}th runtime percentile is: {perc}')"
      ],
      "execution_count": 88,
      "outputs": [
        {
          "output_type": "stream",
          "name": "stdout",
          "text": [
            "0th runtime percentile is: 1.0\n",
            "1th runtime percentile is: 45.0\n",
            "2th runtime percentile is: 48.0\n",
            "3th runtime percentile is: 50.0\n",
            "4th runtime percentile is: 50.0\n",
            "5th runtime percentile is: 52.0\n",
            "6th runtime percentile is: 52.0\n",
            "7th runtime percentile is: 54.0\n",
            "8th runtime percentile is: 55.0\n",
            "9th runtime percentile is: 56.0\n",
            "10th runtime percentile is: 58.0\n",
            "11th runtime percentile is: 59.0\n",
            "12th runtime percentile is: 60.0\n",
            "13th runtime percentile is: 60.0\n",
            "14th runtime percentile is: 60.0\n",
            "15th runtime percentile is: 62.0\n",
            "16th runtime percentile is: 63.0\n",
            "17th runtime percentile is: 65.0\n",
            "18th runtime percentile is: 66.0\n",
            "19th runtime percentile is: 68.0\n",
            "20th runtime percentile is: 70.0\n",
            "21th runtime percentile is: 70.0\n",
            "22th runtime percentile is: 71.0\n",
            "23th runtime percentile is: 72.0\n",
            "24th runtime percentile is: 73.0\n",
            "25th runtime percentile is: 74.0\n",
            "26th runtime percentile is: 75.0\n",
            "27th runtime percentile is: 75.0\n",
            "28th runtime percentile is: 76.0\n",
            "29th runtime percentile is: 77.0\n",
            "30th runtime percentile is: 78.0\n",
            "31th runtime percentile is: 79.0\n",
            "32th runtime percentile is: 80.0\n",
            "33th runtime percentile is: 80.0\n",
            "34th runtime percentile is: 80.0\n",
            "35th runtime percentile is: 81.0\n",
            "36th runtime percentile is: 82.0\n",
            "37th runtime percentile is: 82.0\n",
            "38th runtime percentile is: 83.0\n",
            "39th runtime percentile is: 84.0\n",
            "40th runtime percentile is: 84.0\n",
            "41th runtime percentile is: 85.0\n",
            "42th runtime percentile is: 85.0\n",
            "43th runtime percentile is: 85.0\n",
            "44th runtime percentile is: 86.0\n",
            "45th runtime percentile is: 86.0\n",
            "46th runtime percentile is: 87.0\n",
            "47th runtime percentile is: 87.0\n",
            "48th runtime percentile is: 88.0\n",
            "49th runtime percentile is: 88.0\n",
            "50th runtime percentile is: 89.0\n",
            "51th runtime percentile is: 90.0\n",
            "52th runtime percentile is: 90.0\n",
            "53th runtime percentile is: 90.0\n",
            "54th runtime percentile is: 90.0\n",
            "55th runtime percentile is: 90.0\n",
            "56th runtime percentile is: 90.0\n",
            "57th runtime percentile is: 90.0\n",
            "58th runtime percentile is: 91.0\n",
            "59th runtime percentile is: 91.0\n",
            "60th runtime percentile is: 92.0\n",
            "61th runtime percentile is: 92.0\n",
            "62th runtime percentile is: 93.0\n",
            "63th runtime percentile is: 93.0\n",
            "64th runtime percentile is: 94.0\n",
            "65th runtime percentile is: 94.0\n",
            "66th runtime percentile is: 95.0\n",
            "67th runtime percentile is: 95.0\n",
            "68th runtime percentile is: 96.0\n",
            "69th runtime percentile is: 96.0\n",
            "70th runtime percentile is: 97.0\n",
            "71th runtime percentile is: 98.0\n",
            "72th runtime percentile is: 98.0\n",
            "73th runtime percentile is: 99.0\n",
            "74th runtime percentile is: 100.0\n",
            "75th runtime percentile is: 100.0\n",
            "76th runtime percentile is: 100.0\n",
            "77th runtime percentile is: 101.0\n",
            "78th runtime percentile is: 102.0\n",
            "79th runtime percentile is: 103.0\n",
            "80th runtime percentile is: 104.0\n",
            "81th runtime percentile is: 105.0\n",
            "82th runtime percentile is: 106.0\n",
            "83th runtime percentile is: 107.0\n",
            "84th runtime percentile is: 108.0\n",
            "85th runtime percentile is: 110.0\n",
            "86th runtime percentile is: 110.0\n",
            "87th runtime percentile is: 112.0\n",
            "88th runtime percentile is: 114.0\n",
            "89th runtime percentile is: 116.0\n",
            "90th runtime percentile is: 119.0\n",
            "91th runtime percentile is: 120.0\n",
            "92th runtime percentile is: 122.0\n",
            "93th runtime percentile is: 126.0\n",
            "94th runtime percentile is: 130.0\n",
            "95th runtime percentile is: 135.0\n",
            "96th runtime percentile is: 139.0\n",
            "97th runtime percentile is: 145.0\n",
            "98th runtime percentile is: 153.0\n",
            "99th runtime percentile is: 168.0\n",
            "100th runtime percentile is: 51420.0\n"
          ]
        }
      ]
    },
    {
      "cell_type": "code",
      "metadata": {
        "id": "MsGp_1cgawBo"
      },
      "source": [
        "# SQL Consult again to return the film of longest time duration\n",
        "consult_6 = '''\n",
        "             SELECT primary_title, runtime_minutes Runtime \n",
        "             FROM titles \n",
        "             WHERE type = 'movie' AND Runtime != 'NaN'\n",
        "             ORDER BY Runtime DESC\n",
        "             LIMIT 1\n",
        "             '''"
      ],
      "execution_count": 89,
      "outputs": []
    },
    {
      "cell_type": "code",
      "metadata": {
        "id": "ugx-v6jEav_h"
      },
      "source": [
        "# Result\n",
        "result_6 = pd.read_sql_query(consult_6, connection)"
      ],
      "execution_count": 90,
      "outputs": []
    },
    {
      "cell_type": "code",
      "metadata": {
        "colab": {
          "base_uri": "https://localhost:8080/",
          "height": 80
        },
        "id": "rakzOZAMav9Y",
        "outputId": "a32764c9-0b9c-42f5-850b-4c7627829bb1"
      },
      "source": [
        "result_6"
      ],
      "execution_count": 91,
      "outputs": [
        {
          "output_type": "execute_result",
          "data": {
            "text/html": [
              "<div>\n",
              "<style scoped>\n",
              "    .dataframe tbody tr th:only-of-type {\n",
              "        vertical-align: middle;\n",
              "    }\n",
              "\n",
              "    .dataframe tbody tr th {\n",
              "        vertical-align: top;\n",
              "    }\n",
              "\n",
              "    .dataframe thead th {\n",
              "        text-align: right;\n",
              "    }\n",
              "</style>\n",
              "<table border=\"1\" class=\"dataframe\">\n",
              "  <thead>\n",
              "    <tr style=\"text-align: right;\">\n",
              "      <th></th>\n",
              "      <th>primary_title</th>\n",
              "      <th>Runtime</th>\n",
              "    </tr>\n",
              "  </thead>\n",
              "  <tbody>\n",
              "    <tr>\n",
              "      <th>0</th>\n",
              "      <td>Logistics</td>\n",
              "      <td>51420</td>\n",
              "    </tr>\n",
              "  </tbody>\n",
              "</table>\n",
              "</div>"
            ],
            "text/plain": [
              "  primary_title  Runtime\n",
              "0     Logistics    51420"
            ]
          },
          "metadata": {},
          "execution_count": 91
        }
      ]
    },
    {
      "cell_type": "markdown",
      "metadata": {
        "id": "osJydjkKxhEa"
      },
      "source": [
        "##### <a href = https://en.wikipedia.org/wiki/Logistics_(film)>Logistics</a>, or Logistics Art Project, is a 2012 Swedish experimental film conceived and created by Erika Magnusson and Daniel Andersson. At 51,420 minutes (857 hours or 35 days and 17 hours), it is the longest film ever made."
      ]
    },
    {
      "cell_type": "markdown",
      "metadata": {
        "id": "_WnvjGH1yKFp"
      },
      "source": [
        "## 7 - What is the relation between duration and genre?\n",
        "#### 7- Qual a Relação Entre Duração e Gênero?"
      ]
    },
    {
      "cell_type": "code",
      "metadata": {
        "id": "sEJ6cr2ctS5L"
      },
      "source": [
        "# Created SQL query\n",
        "consult_7 = '''\n",
        "             SELECT AVG(runtime_minutes) Runtime, genres\n",
        "             FROM titles\n",
        "             WHERE type = 'movie'\n",
        "             AND runtime_minutes != 'NaN'\n",
        "             GROUP BY genres\n",
        "             '''"
      ],
      "execution_count": 92,
      "outputs": []
    },
    {
      "cell_type": "code",
      "metadata": {
        "id": "XRh78mqRtS3L"
      },
      "source": [
        "# Result\n",
        "result_7 = pd.read_sql_query(consult_7, connection)"
      ],
      "execution_count": 93,
      "outputs": []
    },
    {
      "cell_type": "code",
      "metadata": {
        "colab": {
          "base_uri": "https://localhost:8080/",
          "height": 419
        },
        "id": "39-x4OSlx_hR",
        "outputId": "db3bb6f8-9f26-4d82-ecda-de9bcc9ede08"
      },
      "source": [
        "result_7"
      ],
      "execution_count": 94,
      "outputs": [
        {
          "output_type": "execute_result",
          "data": {
            "text/html": [
              "<div>\n",
              "<style scoped>\n",
              "    .dataframe tbody tr th:only-of-type {\n",
              "        vertical-align: middle;\n",
              "    }\n",
              "\n",
              "    .dataframe tbody tr th {\n",
              "        vertical-align: top;\n",
              "    }\n",
              "\n",
              "    .dataframe thead th {\n",
              "        text-align: right;\n",
              "    }\n",
              "</style>\n",
              "<table border=\"1\" class=\"dataframe\">\n",
              "  <thead>\n",
              "    <tr style=\"text-align: right;\">\n",
              "      <th></th>\n",
              "      <th>Runtime</th>\n",
              "      <th>genres</th>\n",
              "    </tr>\n",
              "  </thead>\n",
              "  <tbody>\n",
              "    <tr>\n",
              "      <th>0</th>\n",
              "      <td>99.320314</td>\n",
              "      <td>Action</td>\n",
              "    </tr>\n",
              "    <tr>\n",
              "      <th>1</th>\n",
              "      <td>77.000000</td>\n",
              "      <td>Action,Adult</td>\n",
              "    </tr>\n",
              "    <tr>\n",
              "      <th>2</th>\n",
              "      <td>69.000000</td>\n",
              "      <td>Action,Adult,Adventure</td>\n",
              "    </tr>\n",
              "    <tr>\n",
              "      <th>3</th>\n",
              "      <td>74.000000</td>\n",
              "      <td>Action,Adult,Comedy</td>\n",
              "    </tr>\n",
              "    <tr>\n",
              "      <th>4</th>\n",
              "      <td>84.666667</td>\n",
              "      <td>Action,Adult,Crime</td>\n",
              "    </tr>\n",
              "    <tr>\n",
              "      <th>...</th>\n",
              "      <td>...</td>\n",
              "      <td>...</td>\n",
              "    </tr>\n",
              "    <tr>\n",
              "      <th>1361</th>\n",
              "      <td>93.928571</td>\n",
              "      <td>Thriller,Western</td>\n",
              "    </tr>\n",
              "    <tr>\n",
              "      <th>1362</th>\n",
              "      <td>93.302048</td>\n",
              "      <td>War</td>\n",
              "    </tr>\n",
              "    <tr>\n",
              "      <th>1363</th>\n",
              "      <td>98.000000</td>\n",
              "      <td>War,Western</td>\n",
              "    </tr>\n",
              "    <tr>\n",
              "      <th>1364</th>\n",
              "      <td>72.222341</td>\n",
              "      <td>Western</td>\n",
              "    </tr>\n",
              "    <tr>\n",
              "      <th>1365</th>\n",
              "      <td>82.213272</td>\n",
              "      <td>\\N</td>\n",
              "    </tr>\n",
              "  </tbody>\n",
              "</table>\n",
              "<p>1366 rows × 2 columns</p>\n",
              "</div>"
            ],
            "text/plain": [
              "        Runtime                  genres\n",
              "0     99.320314                  Action\n",
              "1     77.000000            Action,Adult\n",
              "2     69.000000  Action,Adult,Adventure\n",
              "3     74.000000     Action,Adult,Comedy\n",
              "4     84.666667      Action,Adult,Crime\n",
              "...         ...                     ...\n",
              "1361  93.928571        Thriller,Western\n",
              "1362  93.302048                     War\n",
              "1363  98.000000             War,Western\n",
              "1364  72.222341                 Western\n",
              "1365  82.213272                      \\N\n",
              "\n",
              "[1366 rows x 2 columns]"
            ]
          },
          "metadata": {},
          "execution_count": 94
        }
      ]
    },
    {
      "cell_type": "code",
      "metadata": {
        "id": "hx5ax0ITtS1F"
      },
      "source": [
        "# Returns uniques genres\n",
        "genres_unique = return_genres(result_7)"
      ],
      "execution_count": 95,
      "outputs": []
    },
    {
      "cell_type": "code",
      "metadata": {
        "id": "tuUCmqvbtSyw"
      },
      "source": [
        "# Compute time duration by genre\n",
        "genre_runtime = list()\n",
        "for item in genres_unique:\n",
        "  consult = 'SELECT runtime_minutes Runtime FROM titles WHERE genres LIKE ' + '\\''+'%'+item+'%'+'\\' AND type=\\'movie\\' AND Runtime != \\'NaN\\''\n",
        "  result = pd.read_sql_query(consult, connection)\n",
        "  genre_runtime.append(np.median(result['Runtime']))"
      ],
      "execution_count": 96,
      "outputs": []
    },
    {
      "cell_type": "code",
      "metadata": {
        "id": "HBNqXGQMtSwa"
      },
      "source": [
        "# Creating dataframe\n",
        "df_genre_runtime = pd.DataFrame()\n",
        "df_genre_runtime['genre'] = genres_unique\n",
        "df_genre_runtime['runtime'] = genre_runtime"
      ],
      "execution_count": 97,
      "outputs": []
    },
    {
      "cell_type": "code",
      "metadata": {
        "id": "lDRJ6GgdtSuS"
      },
      "source": [
        "# Removing index 18 (news)\n",
        "df_genre_runtime = df_genre_runtime.drop(index = 18)"
      ],
      "execution_count": 98,
      "outputs": []
    },
    {
      "cell_type": "code",
      "metadata": {
        "id": "BiFkdszUtSsJ"
      },
      "source": [
        "# Sorting\n",
        "df_genre_runtime = df_genre_runtime.sort_values(by = 'runtime', ascending = False)"
      ],
      "execution_count": 99,
      "outputs": []
    },
    {
      "cell_type": "code",
      "metadata": {
        "colab": {
          "base_uri": "https://localhost:8080/",
          "height": 672
        },
        "id": "O3f9eTLetSp6",
        "outputId": "9ee8a0ac-74ca-4d38-b55d-9e662eb2fa5b"
      },
      "source": [
        "# Plot\n",
        "\n",
        "# Figure size\n",
        "plt.figure(figsize = (16,10))\n",
        "\n",
        "# Barplot\n",
        "sns.barplot(y = df_genre_runtime.genre, x = df_genre_runtime.runtime, orient = 'h')\n",
        "\n",
        "# Loop\n",
        "for i in range(len(df_genre_runtime.index)):\n",
        "  plt.text(df_genre_runtime.runtime[df_genre_runtime.index[i]],\n",
        "           i + .25,\n",
        "           round(df_genre_runtime[\"runtime\"][df_genre_runtime.index[i]], 2))\n",
        "\n",
        "plt.ylabel('Genre')\n",
        "plt.xlabel('\\nMedian of Time Duration (Minutes)')\n",
        "plt.title('\\nRelation between Duration and Genre\\n')\n",
        "plt.show()\n"
      ],
      "execution_count": 100,
      "outputs": [
        {
          "output_type": "display_data",
          "data": {
            "image/png": "[encoded data removed]",
            "text/plain": [
              "<Figure size 1152x720 with 1 Axes>"
            ]
          },
          "metadata": {}
        }
      ]
    },
    {
      "cell_type": "markdown",
      "metadata": {
        "id": "gc28ulBN2es3"
      },
      "source": [
        "#### Alternative solution to question 7"
      ]
    },
    {
      "cell_type": "code",
      "metadata": {
        "id": "TAe1o84-2djx"
      },
      "source": [
        "# Consult SQL\n",
        "consult_7 = '''\n",
        "             SELECT genres, runtime_minutes Runtime \n",
        "             FROM titles \n",
        "             WHERE type = 'movie' AND genres != '\\\\N' AND Runtime != 'NaN'\n",
        "             '''"
      ],
      "execution_count": 101,
      "outputs": []
    },
    {
      "cell_type": "code",
      "metadata": {
        "id": "0wVqlPJytSnx"
      },
      "source": [
        "# Result\n",
        "result_7 = pd.read_sql_query(consult_7, connection)"
      ],
      "execution_count": 102,
      "outputs": []
    },
    {
      "cell_type": "code",
      "metadata": {
        "id": "r7w3X1dstSjJ"
      },
      "source": [
        "# Return uniques genres\n",
        "genres_unique = return_genres(result_7)"
      ],
      "execution_count": 104,
      "outputs": []
    },
    {
      "cell_type": "code",
      "metadata": {
        "id": "GBf88vkRtSgp"
      },
      "source": [
        "genre_runtime = list()\n",
        "genre_counts = list()"
      ],
      "execution_count": 105,
      "outputs": []
    },
    {
      "cell_type": "code",
      "metadata": {
        "id": "13IZkneRtSeh"
      },
      "source": [
        "for item in genres_unique:\n",
        "  consult = 'SELECT COUNT(genres) AS COUNT FROM titles WHERE genres LIKE' + '\\''+'%'+item+'%'+'\\' AND type=\\'movie\\''\n",
        "  result = pd.read_sql_query(consult, connection)\n",
        "  genre_counts.append(result.values[0][0])  \n",
        "\n",
        "  consult = 'SELECT genres, runtime_minutes FROM titles WHERE genres LIKE' + '\\''+'%'+item+'%'+'\\' AND type=\\'movie\\''\n",
        "  result = pd.read_sql_query(consult, connection)\n",
        "  result = result.dropna()\n",
        "  genre_runtime.append(np.median(result['runtime_minutes']))"
      ],
      "execution_count": 106,
      "outputs": []
    },
    {
      "cell_type": "code",
      "metadata": {
        "id": "7htMyP-GtSZx",
        "colab": {
          "base_uri": "https://localhost:8080/",
          "height": 917
        },
        "outputId": "71408512-5a40-4db8-8144-4428e7fbcbc7"
      },
      "source": [
        "# Creating dataframe\n",
        "df_genre_runtime = pd.DataFrame()\n",
        "df_genre_runtime['Genre'] = genres_unique\n",
        "df_genre_runtime['Runtime'] = genre_runtime\n",
        "df_genre_runtime['Count'] = genre_counts\n",
        "df_genre_runtime"
      ],
      "execution_count": 107,
      "outputs": [
        {
          "output_type": "execute_result",
          "data": {
            "text/html": [
              "<div>\n",
              "<style scoped>\n",
              "    .dataframe tbody tr th:only-of-type {\n",
              "        vertical-align: middle;\n",
              "    }\n",
              "\n",
              "    .dataframe tbody tr th {\n",
              "        vertical-align: top;\n",
              "    }\n",
              "\n",
              "    .dataframe thead th {\n",
              "        text-align: right;\n",
              "    }\n",
              "</style>\n",
              "<table border=\"1\" class=\"dataframe\">\n",
              "  <thead>\n",
              "    <tr style=\"text-align: right;\">\n",
              "      <th></th>\n",
              "      <th>Genre</th>\n",
              "      <th>Runtime</th>\n",
              "      <th>Count</th>\n",
              "    </tr>\n",
              "  </thead>\n",
              "  <tbody>\n",
              "    <tr>\n",
              "      <th>0</th>\n",
              "      <td>action</td>\n",
              "      <td>93.0</td>\n",
              "      <td>50552</td>\n",
              "    </tr>\n",
              "    <tr>\n",
              "      <th>1</th>\n",
              "      <td>adult</td>\n",
              "      <td>77.0</td>\n",
              "      <td>8338</td>\n",
              "    </tr>\n",
              "    <tr>\n",
              "      <th>2</th>\n",
              "      <td>adventure</td>\n",
              "      <td>90.0</td>\n",
              "      <td>26589</td>\n",
              "    </tr>\n",
              "    <tr>\n",
              "      <th>3</th>\n",
              "      <td>animation</td>\n",
              "      <td>82.0</td>\n",
              "      <td>7896</td>\n",
              "    </tr>\n",
              "    <tr>\n",
              "      <th>4</th>\n",
              "      <td>biography</td>\n",
              "      <td>87.0</td>\n",
              "      <td>15534</td>\n",
              "    </tr>\n",
              "    <tr>\n",
              "      <th>5</th>\n",
              "      <td>comedy</td>\n",
              "      <td>91.0</td>\n",
              "      <td>100629</td>\n",
              "    </tr>\n",
              "    <tr>\n",
              "      <th>6</th>\n",
              "      <td>crime</td>\n",
              "      <td>92.0</td>\n",
              "      <td>34045</td>\n",
              "    </tr>\n",
              "    <tr>\n",
              "      <th>7</th>\n",
              "      <td>documentary</td>\n",
              "      <td>74.0</td>\n",
              "      <td>108786</td>\n",
              "    </tr>\n",
              "    <tr>\n",
              "      <th>8</th>\n",
              "      <td>drama</td>\n",
              "      <td>93.0</td>\n",
              "      <td>212326</td>\n",
              "    </tr>\n",
              "    <tr>\n",
              "      <th>9</th>\n",
              "      <td>family</td>\n",
              "      <td>89.0</td>\n",
              "      <td>16123</td>\n",
              "    </tr>\n",
              "    <tr>\n",
              "      <th>10</th>\n",
              "      <td>fantasy</td>\n",
              "      <td>90.0</td>\n",
              "      <td>13848</td>\n",
              "    </tr>\n",
              "    <tr>\n",
              "      <th>11</th>\n",
              "      <td>film-noir</td>\n",
              "      <td>83.0</td>\n",
              "      <td>759</td>\n",
              "    </tr>\n",
              "    <tr>\n",
              "      <th>12</th>\n",
              "      <td>game-show</td>\n",
              "      <td>51.5</td>\n",
              "      <td>19</td>\n",
              "    </tr>\n",
              "    <tr>\n",
              "      <th>13</th>\n",
              "      <td>history</td>\n",
              "      <td>90.0</td>\n",
              "      <td>12987</td>\n",
              "    </tr>\n",
              "    <tr>\n",
              "      <th>14</th>\n",
              "      <td>horror</td>\n",
              "      <td>88.0</td>\n",
              "      <td>32362</td>\n",
              "    </tr>\n",
              "    <tr>\n",
              "      <th>15</th>\n",
              "      <td>music</td>\n",
              "      <td>90.0</td>\n",
              "      <td>20655</td>\n",
              "    </tr>\n",
              "    <tr>\n",
              "      <th>16</th>\n",
              "      <td>musical</td>\n",
              "      <td>92.5</td>\n",
              "      <td>9716</td>\n",
              "    </tr>\n",
              "    <tr>\n",
              "      <th>17</th>\n",
              "      <td>mystery</td>\n",
              "      <td>91.0</td>\n",
              "      <td>15254</td>\n",
              "    </tr>\n",
              "    <tr>\n",
              "      <th>18</th>\n",
              "      <td>news</td>\n",
              "      <td>75.0</td>\n",
              "      <td>1452</td>\n",
              "    </tr>\n",
              "    <tr>\n",
              "      <th>19</th>\n",
              "      <td>reality-tv</td>\n",
              "      <td>90.0</td>\n",
              "      <td>421</td>\n",
              "    </tr>\n",
              "    <tr>\n",
              "      <th>20</th>\n",
              "      <td>romance</td>\n",
              "      <td>95.0</td>\n",
              "      <td>44210</td>\n",
              "    </tr>\n",
              "    <tr>\n",
              "      <th>21</th>\n",
              "      <td>sci-fi</td>\n",
              "      <td>90.0</td>\n",
              "      <td>12559</td>\n",
              "    </tr>\n",
              "    <tr>\n",
              "      <th>22</th>\n",
              "      <td>short</td>\n",
              "      <td>17.5</td>\n",
              "      <td>56</td>\n",
              "    </tr>\n",
              "    <tr>\n",
              "      <th>23</th>\n",
              "      <td>sport</td>\n",
              "      <td>90.0</td>\n",
              "      <td>6287</td>\n",
              "    </tr>\n",
              "    <tr>\n",
              "      <th>24</th>\n",
              "      <td>talk-show</td>\n",
              "      <td>80.0</td>\n",
              "      <td>141</td>\n",
              "    </tr>\n",
              "    <tr>\n",
              "      <th>25</th>\n",
              "      <td>thriller</td>\n",
              "      <td>92.0</td>\n",
              "      <td>39711</td>\n",
              "    </tr>\n",
              "    <tr>\n",
              "      <th>26</th>\n",
              "      <td>war</td>\n",
              "      <td>93.0</td>\n",
              "      <td>8831</td>\n",
              "    </tr>\n",
              "    <tr>\n",
              "      <th>27</th>\n",
              "      <td>western</td>\n",
              "      <td>75.0</td>\n",
              "      <td>7313</td>\n",
              "    </tr>\n",
              "  </tbody>\n",
              "</table>\n",
              "</div>"
            ],
            "text/plain": [
              "          Genre  Runtime   Count\n",
              "0        action     93.0   50552\n",
              "1         adult     77.0    8338\n",
              "2     adventure     90.0   26589\n",
              "3     animation     82.0    7896\n",
              "4     biography     87.0   15534\n",
              "5        comedy     91.0  100629\n",
              "6         crime     92.0   34045\n",
              "7   documentary     74.0  108786\n",
              "8         drama     93.0  212326\n",
              "9        family     89.0   16123\n",
              "10      fantasy     90.0   13848\n",
              "11    film-noir     83.0     759\n",
              "12    game-show     51.5      19\n",
              "13      history     90.0   12987\n",
              "14       horror     88.0   32362\n",
              "15        music     90.0   20655\n",
              "16      musical     92.5    9716\n",
              "17      mystery     91.0   15254\n",
              "18         news     75.0    1452\n",
              "19   reality-tv     90.0     421\n",
              "20      romance     95.0   44210\n",
              "21       sci-fi     90.0   12559\n",
              "22        short     17.5      56\n",
              "23        sport     90.0    6287\n",
              "24    talk-show     80.0     141\n",
              "25     thriller     92.0   39711\n",
              "26          war     93.0    8831\n",
              "27      western     75.0    7313"
            ]
          },
          "metadata": {},
          "execution_count": 107
        }
      ]
    },
    {
      "cell_type": "code",
      "metadata": {
        "id": "UvBVkQNB3Ukw"
      },
      "source": [
        "# Removing index 18 (news)\n",
        "df_genre_runtime = df_genre_runtime.drop(index = 18)"
      ],
      "execution_count": 108,
      "outputs": []
    },
    {
      "cell_type": "code",
      "metadata": {
        "id": "8pRxic1stSSB"
      },
      "source": [
        "# Sorting\n",
        "df_genre_runtime = df_genre_runtime.sort_values(by = 'Runtime', ascending = False)"
      ],
      "execution_count": 109,
      "outputs": []
    },
    {
      "cell_type": "code",
      "metadata": {
        "id": "e4ZimbJJ3O2J",
        "colab": {
          "base_uri": "https://localhost:8080/",
          "height": 657
        },
        "outputId": "afbdb1cf-3031-47d0-e9e2-d2b60b8f22e1"
      },
      "source": [
        "# Plot \n",
        "\n",
        "plt.figure(figsize=(16, 10))\n",
        "\n",
        "# Barplot \n",
        "sns.barplot(y= df_genre_runtime.Genre, x = df_genre_runtime.Runtime, orient = 'h')\n",
        "\n",
        "# Texts\n",
        "for i in range(len(df_genre_runtime.index)):\n",
        "\n",
        "  plt.text(4.0,\n",
        "           i + .25,\n",
        "           str(df_genre_runtime['Count'][df_genre_runtime.index[i]]) + ' movies')\n",
        "  \n",
        "  plt.text(df_genre_runtime.Runtime[df_genre_runtime.index[i]],\n",
        "           i + .25,\n",
        "           round(df_genre_runtime['Runtime'][df_genre_runtime.index[i]], 2))\n",
        "\n",
        "plt.ylabel('Genre')\n",
        "plt.xlabel('Median of Time Duration')\n",
        "plt.title('\\nMedian of Time Duration by Genre\\n')\n",
        "plt.show()"
      ],
      "execution_count": 111,
      "outputs": [
        {
          "output_type": "display_data",
          "data": {
            "image/png": "[encoded data removed]",
            "text/plain": [
              "<Figure size 1152x720 with 1 Axes>"
            ]
          },
          "metadata": {}
        }
      ]
    },
    {
      "cell_type": "markdown",
      "metadata": {
        "id": "abgaPD6P3ayg"
      },
      "source": [
        "## 8 - What is the number of movies produced by a country?\n",
        "#### 8- Qual o Número de Filmes Produzidos Por País?\n"
      ]
    },
    {
      "cell_type": "code",
      "metadata": {
        "id": "ddGZCPZt3mko"
      },
      "source": [
        "# Created SQL query\n",
        "consult_8 = '''\n",
        "             SELECT region, COUNT(*) Number_of_movies FROM \n",
        "             akas JOIN titles ON\n",
        "             akas.title_id = titles.title_id\n",
        "             WHERE region != 'None'\n",
        "             AND type = \\'movie\\'\n",
        "             GROUP BY region\n",
        "             '''"
      ],
      "execution_count": 112,
      "outputs": []
    },
    {
      "cell_type": "code",
      "metadata": {
        "id": "wqbMZN7a3mJX",
        "colab": {
          "base_uri": "https://localhost:8080/",
          "height": 419
        },
        "outputId": "9e8e6c83-d434-4d7e-9406-db80c70e9e4f"
      },
      "source": [
        "# Result\n",
        "result_8 = pd.read_sql_query(consult_8, connection)\n",
        "result_8"
      ],
      "execution_count": 113,
      "outputs": [
        {
          "output_type": "execute_result",
          "data": {
            "text/html": [
              "<div>\n",
              "<style scoped>\n",
              "    .dataframe tbody tr th:only-of-type {\n",
              "        vertical-align: middle;\n",
              "    }\n",
              "\n",
              "    .dataframe tbody tr th {\n",
              "        vertical-align: top;\n",
              "    }\n",
              "\n",
              "    .dataframe thead th {\n",
              "        text-align: right;\n",
              "    }\n",
              "</style>\n",
              "<table border=\"1\" class=\"dataframe\">\n",
              "  <thead>\n",
              "    <tr style=\"text-align: right;\">\n",
              "      <th></th>\n",
              "      <th>region</th>\n",
              "      <th>Number_of_movies</th>\n",
              "    </tr>\n",
              "  </thead>\n",
              "  <tbody>\n",
              "    <tr>\n",
              "      <th>0</th>\n",
              "      <td>AD</td>\n",
              "      <td>22</td>\n",
              "    </tr>\n",
              "    <tr>\n",
              "      <th>1</th>\n",
              "      <td>AE</td>\n",
              "      <td>2069</td>\n",
              "    </tr>\n",
              "    <tr>\n",
              "      <th>2</th>\n",
              "      <td>AF</td>\n",
              "      <td>109</td>\n",
              "    </tr>\n",
              "    <tr>\n",
              "      <th>3</th>\n",
              "      <td>AG</td>\n",
              "      <td>12</td>\n",
              "    </tr>\n",
              "    <tr>\n",
              "      <th>4</th>\n",
              "      <td>AL</td>\n",
              "      <td>1238</td>\n",
              "    </tr>\n",
              "    <tr>\n",
              "      <th>...</th>\n",
              "      <td>...</td>\n",
              "      <td>...</td>\n",
              "    </tr>\n",
              "    <tr>\n",
              "      <th>229</th>\n",
              "      <td>YUCS</td>\n",
              "      <td>146</td>\n",
              "    </tr>\n",
              "    <tr>\n",
              "      <th>230</th>\n",
              "      <td>ZA</td>\n",
              "      <td>3071</td>\n",
              "    </tr>\n",
              "    <tr>\n",
              "      <th>231</th>\n",
              "      <td>ZM</td>\n",
              "      <td>12</td>\n",
              "    </tr>\n",
              "    <tr>\n",
              "      <th>232</th>\n",
              "      <td>ZRCD</td>\n",
              "      <td>2</td>\n",
              "    </tr>\n",
              "    <tr>\n",
              "      <th>233</th>\n",
              "      <td>ZW</td>\n",
              "      <td>49</td>\n",
              "    </tr>\n",
              "  </tbody>\n",
              "</table>\n",
              "<p>234 rows × 2 columns</p>\n",
              "</div>"
            ],
            "text/plain": [
              "    region  Number_of_movies\n",
              "0       AD                22\n",
              "1       AE              2069\n",
              "2       AF               109\n",
              "3       AG                12\n",
              "4       AL              1238\n",
              "..     ...               ...\n",
              "229   YUCS               146\n",
              "230     ZA              3071\n",
              "231     ZM                12\n",
              "232   ZRCD                 2\n",
              "233     ZW                49\n",
              "\n",
              "[234 rows x 2 columns]"
            ]
          },
          "metadata": {},
          "execution_count": 113
        }
      ]
    },
    {
      "cell_type": "code",
      "metadata": {
        "id": "7ryzPT0b3mHE",
        "colab": {
          "base_uri": "https://localhost:8080/"
        },
        "outputId": "374d7143-a9d5-493a-c965-f3d93085de2c"
      },
      "source": [
        "# Shape\n",
        "result_8.shape # returns the number of rows and columns of dataframe (rows, columns)"
      ],
      "execution_count": 114,
      "outputs": [
        {
          "output_type": "execute_result",
          "data": {
            "text/plain": [
              "(234, 2)"
            ]
          },
          "metadata": {},
          "execution_count": 114
        }
      ]
    },
    {
      "cell_type": "code",
      "metadata": {
        "id": "csXZTdbD3mAo"
      },
      "source": [
        "# Auxiliary lists\n",
        "names_countries = list()\n",
        "counting = list()"
      ],
      "execution_count": 115,
      "outputs": []
    },
    {
      "cell_type": "code",
      "metadata": {
        "id": "YSRuTDeX3l-f"
      },
      "source": [
        "#  Loop to get the country according to the region column\n",
        "for i in range(result_8.shape[0]):\n",
        "  try:\n",
        "    coun = result_8['region'].values[i]\n",
        "    names_countries.append(pycountry.countries.get(alpha_2 = coun).name)\n",
        "    counting.append(result_8['Number_of_movies'].values[i])\n",
        "  except:\n",
        "    continue\n",
        "    "
      ],
      "execution_count": 116,
      "outputs": []
    },
    {
      "cell_type": "code",
      "metadata": {
        "id": "XRRc-Xd13l76"
      },
      "source": [
        "# Creating dataframe\n",
        "df_films_countries = pd.DataFrame()\n",
        "df_films_countries['Country'] = names_countries\n",
        "df_films_countries['Numer_of_movies'] = counting "
      ],
      "execution_count": 117,
      "outputs": []
    },
    {
      "cell_type": "code",
      "metadata": {
        "id": "MXkYUSPA3l5p"
      },
      "source": [
        "# Sorting\n",
        "df_films_countries = df_films_countries.sort_values(by = 'Numer_of_movies', ascending = False)"
      ],
      "execution_count": 118,
      "outputs": []
    },
    {
      "cell_type": "code",
      "metadata": {
        "id": "OCvrpfhx3l3Z",
        "colab": {
          "base_uri": "https://localhost:8080/",
          "height": 359
        },
        "outputId": "053c7c99-1a53-4617-c080-039ac629f702"
      },
      "source": [
        "df_films_countries.head(10)"
      ],
      "execution_count": 119,
      "outputs": [
        {
          "output_type": "execute_result",
          "data": {
            "text/html": [
              "<div>\n",
              "<style scoped>\n",
              "    .dataframe tbody tr th:only-of-type {\n",
              "        vertical-align: middle;\n",
              "    }\n",
              "\n",
              "    .dataframe tbody tr th {\n",
              "        vertical-align: top;\n",
              "    }\n",
              "\n",
              "    .dataframe thead th {\n",
              "        text-align: right;\n",
              "    }\n",
              "</style>\n",
              "<table border=\"1\" class=\"dataframe\">\n",
              "  <thead>\n",
              "    <tr style=\"text-align: right;\">\n",
              "      <th></th>\n",
              "      <th>Country</th>\n",
              "      <th>Numer_of_movies</th>\n",
              "    </tr>\n",
              "  </thead>\n",
              "  <tbody>\n",
              "    <tr>\n",
              "      <th>199</th>\n",
              "      <td>United States</td>\n",
              "      <td>299114</td>\n",
              "    </tr>\n",
              "    <tr>\n",
              "      <th>65</th>\n",
              "      <td>United Kingdom</td>\n",
              "      <td>153533</td>\n",
              "    </tr>\n",
              "    <tr>\n",
              "      <th>96</th>\n",
              "      <td>Japan</td>\n",
              "      <td>89388</td>\n",
              "    </tr>\n",
              "    <tr>\n",
              "      <th>63</th>\n",
              "      <td>France</td>\n",
              "      <td>82221</td>\n",
              "    </tr>\n",
              "    <tr>\n",
              "      <th>89</th>\n",
              "      <td>India</td>\n",
              "      <td>75357</td>\n",
              "    </tr>\n",
              "    <tr>\n",
              "      <th>32</th>\n",
              "      <td>Canada</td>\n",
              "      <td>71796</td>\n",
              "    </tr>\n",
              "    <tr>\n",
              "      <th>47</th>\n",
              "      <td>Germany</td>\n",
              "      <td>67671</td>\n",
              "    </tr>\n",
              "    <tr>\n",
              "      <th>93</th>\n",
              "      <td>Italy</td>\n",
              "      <td>63967</td>\n",
              "    </tr>\n",
              "    <tr>\n",
              "      <th>26</th>\n",
              "      <td>Brazil</td>\n",
              "      <td>63238</td>\n",
              "    </tr>\n",
              "    <tr>\n",
              "      <th>58</th>\n",
              "      <td>Spain</td>\n",
              "      <td>62877</td>\n",
              "    </tr>\n",
              "  </tbody>\n",
              "</table>\n",
              "</div>"
            ],
            "text/plain": [
              "            Country  Numer_of_movies\n",
              "199   United States           299114\n",
              "65   United Kingdom           153533\n",
              "96            Japan            89388\n",
              "63           France            82221\n",
              "89            India            75357\n",
              "32           Canada            71796\n",
              "47          Germany            67671\n",
              "93            Italy            63967\n",
              "26           Brazil            63238\n",
              "58            Spain            62877"
            ]
          },
          "metadata": {},
          "execution_count": 119
        }
      ]
    },
    {
      "cell_type": "code",
      "metadata": {
        "id": "o8C4Ze3h3l1l",
        "colab": {
          "base_uri": "https://localhost:8080/",
          "height": 563
        },
        "outputId": "2e5750bb-4521-4d27-9a14-ff3e8cd50423"
      },
      "source": [
        "# Plot \n",
        "\n",
        "# Figure\n",
        "plt.figure(figsize = (20, 8))\n",
        "\n",
        "# Barplot\n",
        "sns.barplot(y= df_films_countries[:20].Country, x = df_films_countries[:20].Numer_of_movies, orient = 'h')\n",
        "\n",
        "# Loop\n",
        "for i in range(0, 20):\n",
        "  plt.text(df_films_countries.Numer_of_movies[df_films_countries.index[i]]-1,\n",
        "           i + .30,\n",
        "           round(df_films_countries['Numer_of_movies'][df_films_countries.index[i]], 2))\n",
        "\n",
        "plt.ylabel('Country')\n",
        "plt.xlabel('\\nNumber of movies')\n",
        "plt.title('\\nNumber of Movies Produced by Country\\n')\n",
        "plt.show()"
      ],
      "execution_count": 120,
      "outputs": [
        {
          "output_type": "display_data",
          "data": {
            "image/png": "[encoded data removed]",
            "text/plain": [
              "<Figure size 1440x576 with 1 Axes>"
            ]
          },
          "metadata": {}
        }
      ]
    },
    {
      "cell_type": "markdown",
      "metadata": {
        "id": "qO9KTVA_svQ7"
      },
      "source": [
        "## 9 - What are the Top 10 best movies (according to ratings)?\n",
        "#### 9- Quais São os Top 10 Melhores Filmes?"
      ]
    },
    {
      "cell_type": "code",
      "metadata": {
        "id": "F-DjAESx3ly5"
      },
      "source": [
        "# Created SQL query\n",
        "consult_9 = '''\n",
        "             SELECT primary_title Movie_Name, genres, rating \n",
        "             FROM titles \n",
        "             JOIN ratings ON titles.title_id = ratings.title_id \n",
        "             WHERE type = \\'movie\\' AND ratings.votes >= 25000\n",
        "             ORDER BY rating DESC\n",
        "             LIMIT 10\n",
        "             '''\n",
        "# Obs: ratings.votes >= 25000 because doensn't make sense take in count movies with few ratings"
      ],
      "execution_count": 121,
      "outputs": []
    },
    {
      "cell_type": "code",
      "metadata": {
        "id": "Z9E0U2UC3lwg",
        "colab": {
          "base_uri": "https://localhost:8080/",
          "height": 359
        },
        "outputId": "b781e66f-6566-4777-bb2d-cbd5cda07221"
      },
      "source": [
        "# Result\n",
        "result_9 = pd.read_sql_query(consult_9, connection)\n",
        "result_9"
      ],
      "execution_count": 122,
      "outputs": [
        {
          "output_type": "execute_result",
          "data": {
            "text/html": [
              "<div>\n",
              "<style scoped>\n",
              "    .dataframe tbody tr th:only-of-type {\n",
              "        vertical-align: middle;\n",
              "    }\n",
              "\n",
              "    .dataframe tbody tr th {\n",
              "        vertical-align: top;\n",
              "    }\n",
              "\n",
              "    .dataframe thead th {\n",
              "        text-align: right;\n",
              "    }\n",
              "</style>\n",
              "<table border=\"1\" class=\"dataframe\">\n",
              "  <thead>\n",
              "    <tr style=\"text-align: right;\">\n",
              "      <th></th>\n",
              "      <th>Movie_Name</th>\n",
              "      <th>genres</th>\n",
              "      <th>rating</th>\n",
              "    </tr>\n",
              "  </thead>\n",
              "  <tbody>\n",
              "    <tr>\n",
              "      <th>0</th>\n",
              "      <td>The Shawshank Redemption</td>\n",
              "      <td>Drama</td>\n",
              "      <td>9.3</td>\n",
              "    </tr>\n",
              "    <tr>\n",
              "      <th>1</th>\n",
              "      <td>The Chaos Class</td>\n",
              "      <td>Comedy,Drama</td>\n",
              "      <td>9.3</td>\n",
              "    </tr>\n",
              "    <tr>\n",
              "      <th>2</th>\n",
              "      <td>The Godfather</td>\n",
              "      <td>Crime,Drama</td>\n",
              "      <td>9.2</td>\n",
              "    </tr>\n",
              "    <tr>\n",
              "      <th>3</th>\n",
              "      <td>Soorarai Pottru</td>\n",
              "      <td>Drama</td>\n",
              "      <td>9.1</td>\n",
              "    </tr>\n",
              "    <tr>\n",
              "      <th>4</th>\n",
              "      <td>CM101MMXI Fundamentals</td>\n",
              "      <td>Comedy,Documentary</td>\n",
              "      <td>9.1</td>\n",
              "    </tr>\n",
              "    <tr>\n",
              "      <th>5</th>\n",
              "      <td>Mirror Game</td>\n",
              "      <td>Crime,Mystery,Thriller</td>\n",
              "      <td>9.1</td>\n",
              "    </tr>\n",
              "    <tr>\n",
              "      <th>6</th>\n",
              "      <td>12 Angry Men</td>\n",
              "      <td>Crime,Drama</td>\n",
              "      <td>9.0</td>\n",
              "    </tr>\n",
              "    <tr>\n",
              "      <th>7</th>\n",
              "      <td>The Godfather: Part II</td>\n",
              "      <td>Crime,Drama</td>\n",
              "      <td>9.0</td>\n",
              "    </tr>\n",
              "    <tr>\n",
              "      <th>8</th>\n",
              "      <td>The Dark Knight</td>\n",
              "      <td>Action,Crime,Drama</td>\n",
              "      <td>9.0</td>\n",
              "    </tr>\n",
              "    <tr>\n",
              "      <th>9</th>\n",
              "      <td>David Attenborough: A Life on Our Planet</td>\n",
              "      <td>Biography,Documentary</td>\n",
              "      <td>9.0</td>\n",
              "    </tr>\n",
              "  </tbody>\n",
              "</table>\n",
              "</div>"
            ],
            "text/plain": [
              "                                 Movie_Name                  genres  rating\n",
              "0                  The Shawshank Redemption                   Drama     9.3\n",
              "1                           The Chaos Class            Comedy,Drama     9.3\n",
              "2                             The Godfather             Crime,Drama     9.2\n",
              "3                           Soorarai Pottru                   Drama     9.1\n",
              "4                    CM101MMXI Fundamentals      Comedy,Documentary     9.1\n",
              "5                               Mirror Game  Crime,Mystery,Thriller     9.1\n",
              "6                              12 Angry Men             Crime,Drama     9.0\n",
              "7                    The Godfather: Part II             Crime,Drama     9.0\n",
              "8                           The Dark Knight      Action,Crime,Drama     9.0\n",
              "9  David Attenborough: A Life on Our Planet   Biography,Documentary     9.0"
            ]
          },
          "metadata": {},
          "execution_count": 122
        }
      ]
    },
    {
      "cell_type": "markdown",
      "metadata": {
        "id": "8cPPgIbvxhnk"
      },
      "source": [
        "## 10 - What are the Top 10 worst movies (according to ratings)?\n",
        "#### 10- Quais São os Top 10 Piores Filmes?\n",
        "\n"
      ]
    },
    {
      "cell_type": "code",
      "metadata": {
        "id": "wxDEQmYl3luB"
      },
      "source": [
        "# Created SQL query\n",
        "consult_10 = '''\n",
        "             SELECT primary_title Movie_Name, genres, rating \n",
        "             FROM titles \n",
        "             JOIN ratings ON titles.title_id = ratings.title_id \n",
        "             WHERE titles.type = \\'movie\\' AND ratings.votes >= 25000\n",
        "             ORDER BY rating ASC\n",
        "             LIMIT 10\n",
        "             '''\n",
        "# Obs: ratings.votes >= 25000 because doensn't make sense take in count movies with few ratings"
      ],
      "execution_count": 123,
      "outputs": []
    },
    {
      "cell_type": "code",
      "metadata": {
        "id": "y0bLti533lqB",
        "colab": {
          "base_uri": "https://localhost:8080/",
          "height": 359
        },
        "outputId": "d6ad3925-b4ba-4346-b3a7-3804fd00e2a2"
      },
      "source": [
        "# Result\n",
        "result_10 = pd.read_sql_query(consult_10, connection)\n",
        "result_10"
      ],
      "execution_count": 124,
      "outputs": [
        {
          "output_type": "execute_result",
          "data": {
            "text/html": [
              "<div>\n",
              "<style scoped>\n",
              "    .dataframe tbody tr th:only-of-type {\n",
              "        vertical-align: middle;\n",
              "    }\n",
              "\n",
              "    .dataframe tbody tr th {\n",
              "        vertical-align: top;\n",
              "    }\n",
              "\n",
              "    .dataframe thead th {\n",
              "        text-align: right;\n",
              "    }\n",
              "</style>\n",
              "<table border=\"1\" class=\"dataframe\">\n",
              "  <thead>\n",
              "    <tr style=\"text-align: right;\">\n",
              "      <th></th>\n",
              "      <th>Movie_Name</th>\n",
              "      <th>genres</th>\n",
              "      <th>rating</th>\n",
              "    </tr>\n",
              "  </thead>\n",
              "  <tbody>\n",
              "    <tr>\n",
              "      <th>0</th>\n",
              "      <td>Cumali Ceber</td>\n",
              "      <td>Comedy</td>\n",
              "      <td>1.0</td>\n",
              "    </tr>\n",
              "    <tr>\n",
              "      <th>1</th>\n",
              "      <td>Smolensk</td>\n",
              "      <td>Drama,Thriller</td>\n",
              "      <td>1.1</td>\n",
              "    </tr>\n",
              "    <tr>\n",
              "      <th>2</th>\n",
              "      <td>Sadak 2</td>\n",
              "      <td>Action,Drama</td>\n",
              "      <td>1.1</td>\n",
              "    </tr>\n",
              "    <tr>\n",
              "      <th>3</th>\n",
              "      <td>Reis</td>\n",
              "      <td>Biography,Drama</td>\n",
              "      <td>1.4</td>\n",
              "    </tr>\n",
              "    <tr>\n",
              "      <th>4</th>\n",
              "      <td>Justin Bieber: Never Say Never</td>\n",
              "      <td>Documentary,Music</td>\n",
              "      <td>1.6</td>\n",
              "    </tr>\n",
              "    <tr>\n",
              "      <th>5</th>\n",
              "      <td>Manos: The Hands of Fate</td>\n",
              "      <td>Drama,Horror</td>\n",
              "      <td>1.8</td>\n",
              "    </tr>\n",
              "    <tr>\n",
              "      <th>6</th>\n",
              "      <td>Radhe</td>\n",
              "      <td>Action,Crime,Thriller</td>\n",
              "      <td>1.8</td>\n",
              "    </tr>\n",
              "    <tr>\n",
              "      <th>7</th>\n",
              "      <td>Superbabies: Baby Geniuses 2</td>\n",
              "      <td>Comedy,Family,Sci-Fi</td>\n",
              "      <td>1.9</td>\n",
              "    </tr>\n",
              "    <tr>\n",
              "      <th>8</th>\n",
              "      <td>The Hottie &amp; the Nottie</td>\n",
              "      <td>Comedy,Romance</td>\n",
              "      <td>1.9</td>\n",
              "    </tr>\n",
              "    <tr>\n",
              "      <th>9</th>\n",
              "      <td>Disaster Movie</td>\n",
              "      <td>Comedy,Sci-Fi</td>\n",
              "      <td>1.9</td>\n",
              "    </tr>\n",
              "  </tbody>\n",
              "</table>\n",
              "</div>"
            ],
            "text/plain": [
              "                       Movie_Name                 genres  rating\n",
              "0                    Cumali Ceber                 Comedy     1.0\n",
              "1                        Smolensk         Drama,Thriller     1.1\n",
              "2                         Sadak 2           Action,Drama     1.1\n",
              "3                            Reis        Biography,Drama     1.4\n",
              "4  Justin Bieber: Never Say Never      Documentary,Music     1.6\n",
              "5        Manos: The Hands of Fate           Drama,Horror     1.8\n",
              "6                           Radhe  Action,Crime,Thriller     1.8\n",
              "7    Superbabies: Baby Geniuses 2   Comedy,Family,Sci-Fi     1.9\n",
              "8         The Hottie & the Nottie         Comedy,Romance     1.9\n",
              "9                  Disaster Movie          Comedy,Sci-Fi     1.9"
            ]
          },
          "metadata": {},
          "execution_count": 124
        }
      ]
    }
  ]
}
