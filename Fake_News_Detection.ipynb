{
  "nbformat": 4,
  "nbformat_minor": 0,
  "metadata": {
    "colab": {
      "name": "Fake_News_Detection.ipynb",
      "provenance": [],
      "mount_file_id": "1BRQxdOyAF3gRCVCUyxvSJTY3Bo7ayN6E",
      "authorship_tag": "ABX9TyMCEBEqNuU5OU/s/XGZipvs"
    },
    "kernelspec": {
      "name": "python3",
      "display_name": "Python 3"
    },
    "language_info": {
      "name": "python"
    }
  },
  "cells": [
    {
      "cell_type": "markdown",
      "metadata": {
        "id": "3NSWHOyxfx1e"
      },
      "source": [
        "# Detecting Fake News with Python and Machine Learning ([Inspired by](https://data-flair.training/blogs/advanced-python-project-detecting-fake-news/))"
      ]
    },
    {
      "cell_type": "markdown",
      "metadata": {
        "id": "5GypB0FpaVOe"
      },
      "source": [
        "### My intent here is to build a model to accurately classify a piece of political news as REAL or FAKE. We're going to use [scikit-learn](https://scikit-learn.org/stable/) library to manipulate our dataset. In this project, we'll use TF-IDF vectorization and Passive-Agrassive Classifier in order to quantify and classify the words in the news."
      ]
    },
    {
      "cell_type": "code",
      "metadata": {
        "id": "X3eXEO7dft7Y"
      },
      "source": [
        "# Imports\n",
        "\n",
        "import matplotlib.pyplot as plt\n",
        "import matplotlib as mat\n",
        "import seaborn as sns\n",
        "import numpy as np\n",
        "import pandas as pd\n",
        "import itertools\n",
        "from sklearn import __version__\n",
        "from sklearn.model_selection import train_test_split\n",
        "from sklearn.feature_extraction.text import TfidfVectorizer\n",
        "from sklearn.linear_model import PassiveAggressiveClassifier\n",
        "from sklearn.metrics import accuracy_score, confusion_matrix"
      ],
      "execution_count": null,
      "outputs": []
    },
    {
      "cell_type": "code",
      "metadata": {
        "colab": {
          "base_uri": "https://localhost:8080/",
          "height": 35
        },
        "id": "9mm9xDYqvej5",
        "outputId": "4f3e63b5-db18-4d4b-ef08-f6dcb0364dce"
      },
      "source": [
        "# Scikit-learn version\n",
        "__version__"
      ],
      "execution_count": null,
      "outputs": [
        {
          "output_type": "execute_result",
          "data": {
            "application/vnd.google.colaboratory.intrinsic+json": {
              "type": "string"
            },
            "text/plain": [
              "'1.0.1'"
            ]
          },
          "metadata": {},
          "execution_count": 31
        }
      ]
    },
    {
      "cell_type": "code",
      "metadata": {
        "colab": {
          "base_uri": "https://localhost:8080/",
          "height": 35
        },
        "id": "4Fqe_wb2u4-S",
        "outputId": "3104ee15-ef0f-4d76-96b9-9efce64e31e8"
      },
      "source": [
        "mat.__version__"
      ],
      "execution_count": null,
      "outputs": [
        {
          "output_type": "execute_result",
          "data": {
            "application/vnd.google.colaboratory.intrinsic+json": {
              "type": "string"
            },
            "text/plain": [
              "'3.2.2'"
            ]
          },
          "metadata": {},
          "execution_count": 32
        }
      ]
    },
    {
      "cell_type": "code",
      "metadata": {
        "colab": {
          "base_uri": "https://localhost:8080/",
          "height": 35
        },
        "id": "zLBRNOHzvEUp",
        "outputId": "67ec5cce-e0bd-4337-d246-77c6d2b01048"
      },
      "source": [
        "sns.__version__"
      ],
      "execution_count": null,
      "outputs": [
        {
          "output_type": "execute_result",
          "data": {
            "application/vnd.google.colaboratory.intrinsic+json": {
              "type": "string"
            },
            "text/plain": [
              "'0.11.2'"
            ]
          },
          "metadata": {},
          "execution_count": 33
        }
      ]
    },
    {
      "cell_type": "code",
      "metadata": {
        "colab": {
          "base_uri": "https://localhost:8080/",
          "height": 35
        },
        "id": "iZwCHFkKvJG5",
        "outputId": "37d86093-73aa-4eca-d4fc-8c6e7d248257"
      },
      "source": [
        "pd.__version__"
      ],
      "execution_count": null,
      "outputs": [
        {
          "output_type": "execute_result",
          "data": {
            "application/vnd.google.colaboratory.intrinsic+json": {
              "type": "string"
            },
            "text/plain": [
              "'1.1.5'"
            ]
          },
          "metadata": {},
          "execution_count": 34
        }
      ]
    },
    {
      "cell_type": "code",
      "metadata": {
        "colab": {
          "base_uri": "https://localhost:8080/",
          "height": 35
        },
        "id": "7JmklOxlvLWx",
        "outputId": "5a1b2399-57ca-482c-bc12-5f88c617339a"
      },
      "source": [
        "np.__version__"
      ],
      "execution_count": null,
      "outputs": [
        {
          "output_type": "execute_result",
          "data": {
            "application/vnd.google.colaboratory.intrinsic+json": {
              "type": "string"
            },
            "text/plain": [
              "'1.19.5'"
            ]
          },
          "metadata": {},
          "execution_count": 35
        }
      ]
    },
    {
      "cell_type": "code",
      "metadata": {
        "colab": {
          "base_uri": "https://localhost:8080/",
          "height": 380
        },
        "id": "I7gTLBbscrms",
        "outputId": "3c795a2d-6413-4eb8-90a7-a4aa83bf4db7"
      },
      "source": [
        "# Loading Dataset\n",
        "\n",
        "# Read the data\n",
        "df = pd.read_csv('news.csv', encoding='utf-8')\n",
        "\n",
        "# Shape and head of df\n",
        "print(df.shape) # Output: (rows, columns)\n",
        "df.head(10)"
      ],
      "execution_count": null,
      "outputs": [
        {
          "output_type": "stream",
          "name": "stdout",
          "text": [
            "(6335, 4)\n"
          ]
        },
        {
          "output_type": "execute_result",
          "data": {
            "text/html": [
              "<div>\n",
              "<style scoped>\n",
              "    .dataframe tbody tr th:only-of-type {\n",
              "        vertical-align: middle;\n",
              "    }\n",
              "\n",
              "    .dataframe tbody tr th {\n",
              "        vertical-align: top;\n",
              "    }\n",
              "\n",
              "    .dataframe thead th {\n",
              "        text-align: right;\n",
              "    }\n",
              "</style>\n",
              "<table border=\"1\" class=\"dataframe\">\n",
              "  <thead>\n",
              "    <tr style=\"text-align: right;\">\n",
              "      <th></th>\n",
              "      <th>Unnamed: 0</th>\n",
              "      <th>title</th>\n",
              "      <th>text</th>\n",
              "      <th>label</th>\n",
              "    </tr>\n",
              "  </thead>\n",
              "  <tbody>\n",
              "    <tr>\n",
              "      <th>0</th>\n",
              "      <td>8476</td>\n",
              "      <td>You Can Smell Hillary’s Fear</td>\n",
              "      <td>Daniel Greenfield, a Shillman Journalism Fello...</td>\n",
              "      <td>FAKE</td>\n",
              "    </tr>\n",
              "    <tr>\n",
              "      <th>1</th>\n",
              "      <td>10294</td>\n",
              "      <td>Watch The Exact Moment Paul Ryan Committed Pol...</td>\n",
              "      <td>Google Pinterest Digg Linkedin Reddit Stumbleu...</td>\n",
              "      <td>FAKE</td>\n",
              "    </tr>\n",
              "    <tr>\n",
              "      <th>2</th>\n",
              "      <td>3608</td>\n",
              "      <td>Kerry to go to Paris in gesture of sympathy</td>\n",
              "      <td>U.S. Secretary of State John F. Kerry said Mon...</td>\n",
              "      <td>REAL</td>\n",
              "    </tr>\n",
              "    <tr>\n",
              "      <th>3</th>\n",
              "      <td>10142</td>\n",
              "      <td>Bernie supporters on Twitter erupt in anger ag...</td>\n",
              "      <td>— Kaydee King (@KaydeeKing) November 9, 2016 T...</td>\n",
              "      <td>FAKE</td>\n",
              "    </tr>\n",
              "    <tr>\n",
              "      <th>4</th>\n",
              "      <td>875</td>\n",
              "      <td>The Battle of New York: Why This Primary Matters</td>\n",
              "      <td>It's primary day in New York and front-runners...</td>\n",
              "      <td>REAL</td>\n",
              "    </tr>\n",
              "    <tr>\n",
              "      <th>5</th>\n",
              "      <td>6903</td>\n",
              "      <td>Tehran, USA</td>\n",
              "      <td>\\nI’m not an immigrant, but my grandparents ...</td>\n",
              "      <td>FAKE</td>\n",
              "    </tr>\n",
              "    <tr>\n",
              "      <th>6</th>\n",
              "      <td>7341</td>\n",
              "      <td>Girl Horrified At What She Watches Boyfriend D...</td>\n",
              "      <td>Share This Baylee Luciani (left), Screenshot o...</td>\n",
              "      <td>FAKE</td>\n",
              "    </tr>\n",
              "    <tr>\n",
              "      <th>7</th>\n",
              "      <td>95</td>\n",
              "      <td>‘Britain’s Schindler’ Dies at 106</td>\n",
              "      <td>A Czech stockbroker who saved more than 650 Je...</td>\n",
              "      <td>REAL</td>\n",
              "    </tr>\n",
              "    <tr>\n",
              "      <th>8</th>\n",
              "      <td>4869</td>\n",
              "      <td>Fact check: Trump and Clinton at the 'commande...</td>\n",
              "      <td>Hillary Clinton and Donald Trump made some ina...</td>\n",
              "      <td>REAL</td>\n",
              "    </tr>\n",
              "    <tr>\n",
              "      <th>9</th>\n",
              "      <td>2909</td>\n",
              "      <td>Iran reportedly makes new push for uranium con...</td>\n",
              "      <td>Iranian negotiators reportedly have made a las...</td>\n",
              "      <td>REAL</td>\n",
              "    </tr>\n",
              "  </tbody>\n",
              "</table>\n",
              "</div>"
            ],
            "text/plain": [
              "   Unnamed: 0  ... label\n",
              "0        8476  ...  FAKE\n",
              "1       10294  ...  FAKE\n",
              "2        3608  ...  REAL\n",
              "3       10142  ...  FAKE\n",
              "4         875  ...  REAL\n",
              "5        6903  ...  FAKE\n",
              "6        7341  ...  FAKE\n",
              "7          95  ...  REAL\n",
              "8        4869  ...  REAL\n",
              "9        2909  ...  REAL\n",
              "\n",
              "[10 rows x 4 columns]"
            ]
          },
          "metadata": {},
          "execution_count": 2
        }
      ]
    },
    {
      "cell_type": "code",
      "metadata": {
        "colab": {
          "base_uri": "https://localhost:8080/"
        },
        "id": "DPvg5j6OjBxD",
        "outputId": "4895bc44-bba4-48ff-e0b4-0f413d35b932"
      },
      "source": [
        "# Checking if there exists NaN values\n",
        "df.isnull().sum()"
      ],
      "execution_count": null,
      "outputs": [
        {
          "output_type": "execute_result",
          "data": {
            "text/plain": [
              "Unnamed: 0    0\n",
              "title         0\n",
              "text          0\n",
              "label         0\n",
              "dtype: int64"
            ]
          },
          "metadata": {},
          "execution_count": 3
        }
      ]
    },
    {
      "cell_type": "code",
      "metadata": {
        "colab": {
          "base_uri": "https://localhost:8080/"
        },
        "id": "DIjDqsNEecxl",
        "outputId": "1fa1613e-841c-4ffb-e3da-81f1c17351df"
      },
      "source": [
        "# Get labels\n",
        "labels = df.label\n",
        "labels.head()"
      ],
      "execution_count": null,
      "outputs": [
        {
          "output_type": "execute_result",
          "data": {
            "text/plain": [
              "0    FAKE\n",
              "1    FAKE\n",
              "2    REAL\n",
              "3    FAKE\n",
              "4    REAL\n",
              "Name: label, dtype: object"
            ]
          },
          "metadata": {},
          "execution_count": 4
        }
      ]
    },
    {
      "cell_type": "markdown",
      "metadata": {
        "id": "pqeK7noZg58S"
      },
      "source": [
        "###**TF-IDF Vectorization**\n",
        "\n",
        "TF-IDF stands for \"**Term Frequency - Inverse Document Frequency**\". It is a technique to **quantify** words in a set of documents. We generally compute a score for each word to signify its **importance** in the document and corpus. By vectorizing the documents we can further perform **multiple tasks** such as finding the relevant documents, ranking, clustering, etc.\n",
        "\n",
        "**TF (Term Frequency)**: The number of times a word appears in a document is its Term Frequency. A higher value means a term appears more often than others, and so, the document is a good match when the term is part of the search terms.\n",
        "\n",
        "**IDF (Inverse Document Frequency)**: Words that occur many times a document, but also occur many times in many others, may be irrelevant. IDF is a measure of how significant a term is in the entire corpus. \n",
        "\n",
        "[**Here**](https://towardsdatascience.com/tf-idf-for-document-ranking-from-scratch-in-python-on-real-world-dataset-796d339a4089) is a nice explanation about TF-IDF."
      ]
    },
    {
      "cell_type": "code",
      "metadata": {
        "id": "Aj0p_2eVdN1V"
      },
      "source": [
        "# Split the dataset into training and testing sets\n",
        "\n",
        "x_train, x_test, y_train, y_test = train_test_split(df['text'], labels, test_size=.2, random_state=7)"
      ],
      "execution_count": null,
      "outputs": []
    },
    {
      "cell_type": "markdown",
      "metadata": {
        "id": "WPQ-BAgHf42q"
      },
      "source": [
        "Right below, we use a 'stop words' list, to **filter** the words that we are interested.\n",
        "- **What are stop words?** The words which are generally filtered out before processing natural language (our news dataset) are called **stop words**. These are actually the most common words in **any language** (like articles, prepositions, pronouns, conjuctions, etc) and does not add much information to the text. Examples of a few stop words in English are 'the', 'a', 'an', 'so', 'what'.\n",
        "- **Why do we remove stop words?** \n",
        "Stop words are available in abundance in any human language. By removing these words, we remove the low-level information, i.e., removing these words does not show any negative consequences on the model we train for our task. Removal of stop words definitely reduces the dataset size and thus reduces the training time due to fewer number of tokens (our words, in general) involved in the training.\n",
        "\n",
        "Access [here](https://towardsdatascience.com/text-pre-processing-stop-words-removal-using-different-libraries-f20bac19929a#:~:text=What%20are%20stop%20words%3F&text=The%20words%20which%20are%20generally,much%20information%20to%20the%20text.) for more information"
      ]
    },
    {
      "cell_type": "code",
      "metadata": {
        "id": "fh4IrJHKeg1q"
      },
      "source": [
        "# Initializing TF-IDF Vectorization\n",
        "tfidf_vectorizer = TfidfVectorizer(stop_words='english', max_df=.7)\n",
        "\n",
        "# Fit and transform train set, transform test set\n",
        "tfidf_train, tfidf_test = tfidf_vectorizer.fit_transform(x_train), tfidf_vectorizer.transform(x_test)"
      ],
      "execution_count": null,
      "outputs": []
    },
    {
      "cell_type": "markdown",
      "metadata": {
        "id": "s0ifCNUTg_nx"
      },
      "source": [
        "###Passive-Agressive Classifier\n",
        "\n",
        "In simple words, a passive-agressive classifier algorithm works remaining passive for correct predictions and responds agressivley to incorrect predictions. \n",
        "\n"
      ]
    },
    {
      "cell_type": "code",
      "metadata": {
        "colab": {
          "base_uri": "https://localhost:8080/"
        },
        "id": "_7o14NO7g5Ra",
        "outputId": "899336d5-933a-4c0a-f9e5-d2987e39b97f"
      },
      "source": [
        "# Initialing PassiveAgressiveClassifier\n",
        "pac = PassiveAggressiveClassifier(max_iter=50)\n",
        "pac.fit(tfidf_train, y_train)\n",
        "\n",
        "# Predicting on the test set and calculating the accuracy\n",
        "y_prediction = pac.predict(tfidf_test)\n",
        "score = accuracy_score(y_test, y_prediction)\n",
        "print(f'Accuracy: {round(score*100, 2)}%')"
      ],
      "execution_count": null,
      "outputs": [
        {
          "output_type": "stream",
          "name": "stdout",
          "text": [
            "Accuracy: 93.05%\n"
          ]
        }
      ]
    },
    {
      "cell_type": "markdown",
      "metadata": {
        "id": "PDv_S_FKhygZ"
      },
      "source": [
        "###Confusion Matrix \n",
        "A table that summarizes the performance of our classification algorithm"
      ]
    },
    {
      "cell_type": "code",
      "metadata": {
        "colab": {
          "base_uri": "https://localhost:8080/"
        },
        "id": "DT5Tm_tGh17Y",
        "outputId": "0210ec60-ddc0-4949-c67d-fc9c21d388f6"
      },
      "source": [
        "# Building confusion matrix\n",
        "c_matrix = confusion_matrix(y_test, y_prediction, labels=['FAKE', 'REAL'])\n",
        "c_matrix"
      ],
      "execution_count": null,
      "outputs": [
        {
          "output_type": "execute_result",
          "data": {
            "text/plain": [
              "array([[592,  46],\n",
              "       [ 42, 587]])"
            ]
          },
          "metadata": {},
          "execution_count": 10
        }
      ]
    },
    {
      "cell_type": "code",
      "metadata": {
        "colab": {
          "base_uri": "https://localhost:8080/",
          "height": 609
        },
        "id": "zHwV4xXdlWPa",
        "outputId": "df30fdac-f516-4aaf-ff5a-95bc97504340"
      },
      "source": [
        "# Visualization \n",
        "group_names = ['True Neg', 'False Pos', 'False Neg', 'True Pos']\n",
        "group_counts = ['{0:0.0f}'.format(value) for value in c_matrix.flatten()]\n",
        "group_percentages = ['{0:.2%}'.format(value) for value in c_matrix.flatten()/np.sum(c_matrix)]\n",
        "\n",
        "labels = [f'{v1}\\n\\n{v2}\\n\\n{v3}' for v1, v2, v3 in zip(group_names, group_counts, group_percentages)]\n",
        "\n",
        "labels = np.asarray(labels).reshape((2,2))\n",
        "\n",
        "plt.figure(figsize=(12,10))\n",
        "sns.heatmap(c_matrix, annot=labels, annot_kws={'size':20}, fmt='')"
      ],
      "execution_count": null,
      "outputs": [
        {
          "output_type": "execute_result",
          "data": {
            "text/plain": [
              "<matplotlib.axes._subplots.AxesSubplot at 0x7f097ee5d290>"
            ]
          },
          "metadata": {},
          "execution_count": 27
        },
        {
          "output_type": "display_data",
          "data": {
            "image/png": "[encoded data removed]",
            "text/plain": [
              "<Figure size 864x720 with 2 Axes>"
            ]
          },
          "metadata": {
            "needs_background": "light"
          }
        }
      ]
    }
  ]
}